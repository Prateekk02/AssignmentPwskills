{
 "cells": [
  {
   "cell_type": "markdown",
   "id": "04666f08-133f-46c1-9d07-1ec81e6c9490",
   "metadata": {},
   "source": [
    "#### Question 1:"
   ]
  },
  {
   "cell_type": "markdown",
   "id": "5d0c65de-c5be-48e5-9009-bfd51bd9a890",
   "metadata": {},
   "source": [
    "Ans: Python was developed by Guido van Rossum and was released on 20/2/1991."
   ]
  },
  {
   "cell_type": "markdown",
   "id": "b1f6cb6a-47d1-4dfc-9ebc-f85526b1013a",
   "metadata": {},
   "source": [
    "#### Question 2:"
   ]
  },
  {
   "cell_type": "markdown",
   "id": "4b9d00a8-a1d8-44c3-8fde-32af7ee2c60a",
   "metadata": {},
   "source": [
    "Python is an interpreted programming language unlike other language like C++ which uses compiler.\n",
    "Python supports structural, fuctional and object oriented programming language"
   ]
  },
  {
   "cell_type": "markdown",
   "id": "74e2e7e6-3780-4146-b123-efd272206e4a",
   "metadata": {},
   "source": [
    "#### Question 3"
   ]
  },
  {
   "cell_type": "markdown",
   "id": "6a092fe2-09f2-47d0-8209-e808ef2edeaf",
   "metadata": {},
   "source": [
    "Python is a case sensitive language therefore identifiers should be named carefully"
   ]
  },
  {
   "cell_type": "code",
   "execution_count": 1,
   "id": "ff4e0b2d-be7e-4c14-9a1b-5ff1ec1fc36f",
   "metadata": {},
   "outputs": [
    {
     "name": "stdout",
     "output_type": "stream",
     "text": [
      "5\n",
      "10\n"
     ]
    }
   ],
   "source": [
    "# For example\n",
    "var_x = 5\n",
    "Var_x = 10\n",
    "print(var_x)\n",
    "print(Var_x)"
   ]
  },
  {
   "cell_type": "markdown",
   "id": "77635a15-52c6-4ad2-ab64-399d0ba599ea",
   "metadata": {},
   "source": [
    "Clearly var_x and Var_x both are different."
   ]
  },
  {
   "cell_type": "markdown",
   "id": "b1b63cc0-7f58-48f3-8573-8e41e52febac",
   "metadata": {},
   "source": [
    "#### Question 4"
   ]
  },
  {
   "cell_type": "markdown",
   "id": "35370dc2-8b49-4eb4-a6a1-79ae9c2c881e",
   "metadata": {},
   "source": [
    "The extension of python file is .py which contains simple plain python code. However .ipynb extension includes python code along with notebook"
   ]
  },
  {
   "cell_type": "markdown",
   "id": "241ce8b7-4fd5-4abf-b09f-2130fcd0d259",
   "metadata": {},
   "source": [
    "#### Question 5"
   ]
  },
  {
   "cell_type": "markdown",
   "id": "c87d8802-fcf7-4f15-8d50-82e70e430741",
   "metadata": {},
   "source": [
    "Python codes are interpreted."
   ]
  },
  {
   "cell_type": "markdown",
   "id": "d8875bc6-b3a8-44e6-a8ed-30eb8bbc52c2",
   "metadata": {},
   "source": [
    "#### Question 6"
   ]
  },
  {
   "cell_type": "markdown",
   "id": "ac79e997-e72c-4623-8dbf-9719df0b34b6",
   "metadata": {},
   "source": [
    "Python uses blocks like modules, classes, functions for definition."
   ]
  },
  {
   "cell_type": "markdown",
   "id": "9a70956e-2476-404a-8592-71a46cd009f9",
   "metadata": {},
   "source": [
    "#### Question 7"
   ]
  },
  {
   "cell_type": "markdown",
   "id": "38a07e83-f61c-48c5-a841-123f82ee7cbd",
   "metadata": {},
   "source": [
    "Hash character '#' is used for giving single-line comments in python."
   ]
  },
  {
   "cell_type": "code",
   "execution_count": 2,
   "id": "c26a8428-52b0-4c42-a4fc-e6a1ac908547",
   "metadata": {},
   "outputs": [
    {
     "name": "stdout",
     "output_type": "stream",
     "text": [
      "# part gets neglected\n"
     ]
    }
   ],
   "source": [
    "# Example to add single line comment\n",
    "print(\"# part gets neglected\")"
   ]
  },
  {
   "cell_type": "markdown",
   "id": "1dec45b9-f107-4d1f-bc9a-24c315d3aef0",
   "metadata": {},
   "source": [
    "#### Question 8"
   ]
  },
  {
   "cell_type": "code",
   "execution_count": 10,
   "id": "ae33dc83-8ef7-4749-bed4-a68797969937",
   "metadata": {},
   "outputs": [
    {
     "name": "stdout",
     "output_type": "stream",
     "text": [
      "3.10.8 | packaged by conda-forge | (main, Nov 22 2022, 08:26:04) [GCC 10.4.0]\n"
     ]
    }
   ],
   "source": [
    "import sys\n",
    "print(sys.version)"
   ]
  },
  {
   "cell_type": "markdown",
   "id": "5b9deb5e-d5fa-4818-8b22-435649b2f6d2",
   "metadata": {},
   "source": [
    "sys library in imported the same method can be used in terminal to obtain the version of python in the computer system."
   ]
  },
  {
   "cell_type": "markdown",
   "id": "48f6f6e8-3543-4c77-be4c-2d0e237c6e75",
   "metadata": {},
   "source": [
    "#### Question 9"
   ]
  },
  {
   "cell_type": "markdown",
   "id": "9ccd4c27-602d-4a31-ace0-d62ccb935105",
   "metadata": {},
   "source": [
    "lambda"
   ]
  },
  {
   "cell_type": "markdown",
   "id": "c277785b-12cf-48d9-8d6f-3d1b31594d3b",
   "metadata": {},
   "source": [
    "#### Question 10"
   ]
  },
  {
   "cell_type": "markdown",
   "id": "5a8ce1c7-4c7f-427b-8268-6cc22bc5fa41",
   "metadata": {},
   "source": [
    "pip stands for preferred installer program , it basically install required packages in current working environment."
   ]
  },
  {
   "cell_type": "markdown",
   "id": "d5f95dc5-46bf-48e2-946b-241512b5e896",
   "metadata": {},
   "source": [
    "#### Question 11"
   ]
  },
  {
   "cell_type": "code",
   "execution_count": 18,
   "id": "5d3927b3-2a90-4aab-9b4e-e168ec3a0299",
   "metadata": {},
   "outputs": [
    {
     "name": "stdout",
     "output_type": "stream",
     "text": [
      "[4, 3, 2, 1]\n"
     ]
    },
    {
     "data": {
      "text/plain": [
       "list"
      ]
     },
     "execution_count": 18,
     "metadata": {},
     "output_type": "execute_result"
    }
   ],
   "source": [
    "# Some of the few build in functions in Python are as follows: -\n",
    "\n",
    "range(5)       # range function\n",
    "\n",
    "l = [1,2,3,4]\n",
    "l.reverse()     # reverse function\n",
    "print(l)\n",
    "type(l)         #type function\n",
    "# etc."
   ]
  },
  {
   "cell_type": "markdown",
   "id": "7888d70a-0996-410b-9e28-8e77ddf438bd",
   "metadata": {},
   "source": [
    "#### Question 12"
   ]
  },
  {
   "cell_type": "markdown",
   "id": "f71ea194-72c5-443a-bfd5-6c9c8a782c7e",
   "metadata": {},
   "source": [
    "79 characters"
   ]
  },
  {
   "cell_type": "markdown",
   "id": "48870346-2387-4448-85ba-225e5d687927",
   "metadata": {},
   "source": [
    "#### Question 13"
   ]
  },
  {
   "cell_type": "markdown",
   "id": "eff4f236-7220-4099-ad22-1dafe7ac9a6c",
   "metadata": {},
   "source": [
    "Python has a very rich sets of libraries which can be used to implement multiple concepts. Unlike other programming language Python is comparitively easier to learn. Python is been used in various fields like\n",
    "- Data Science\n",
    "- Web developing\n",
    "- Image Processing\n",
    "- Space Exploration\n",
    "- Research Purposes\n",
    "etc."
   ]
  },
  {
   "cell_type": "markdown",
   "id": "d463e26e-32e9-45c3-96dc-0dc31e36e4fd",
   "metadata": {
    "tags": []
   },
   "source": [
    "#### Question 14"
   ]
  },
  {
   "cell_type": "markdown",
   "id": "d32c8ba6-3474-49e7-9a95-81e9018bff1d",
   "metadata": {},
   "source": [
    "Memory in Python is managed with the help of heap and Python developer create a garbage collector so that ot won't be required to do it manually."
   ]
  },
  {
   "cell_type": "markdown",
   "id": "6bb20805-692e-4dc5-b937-e87cdee8a9ce",
   "metadata": {},
   "source": [
    "#### Question 15"
   ]
  },
  {
   "cell_type": "markdown",
   "id": "863bbe9c-de72-433e-9cfd-0b0e870c1781",
   "metadata": {},
   "source": [
    "We can download latest version of python from its official site and then we can set it as envionment variable as follows:-\n",
    "- Right-click on the Start menu button and select System.\n",
    "- Click on \"Advanced system settings\".\n",
    "- Click on the Environment Variables button.\n",
    "- Under System Variables, scroll down and find the Path variable, then click on Edit.\n",
    "- Add the path to the Python installation to the end of the Path variable. For example, if Python is installed in C:\\Python38, add ;C:\\Python38\\ to the end of the Path variable.\n",
    "- Click OK to close all windows."
   ]
  },
  {
   "cell_type": "markdown",
   "id": "777258b3-4084-4abb-8a1e-d3eda435c624",
   "metadata": {},
   "source": [
    "#### Question 16"
   ]
  },
  {
   "cell_type": "markdown",
   "id": "7cef6b96-ab6e-4d5d-9ace-a3a3c2d8068f",
   "metadata": {},
   "source": [
    "Most of the programming languages like C++, Java uses curly braces '{}' for separating modules but in case of python it uses indentation."
   ]
  },
  {
   "cell_type": "code",
   "execution_count": 19,
   "id": "a46caaa4-2d7e-4ffb-9ed0-831d174117c1",
   "metadata": {},
   "outputs": [
    {
     "name": "stdout",
     "output_type": "stream",
     "text": [
      "5\n"
     ]
    }
   ],
   "source": [
    "# For example\n",
    "i = 5\n",
    "if i == 5 :\n",
    "    print (i)"
   ]
  },
  {
   "cell_type": "markdown",
   "id": "6b07c569-94d3-4e07-9249-fecb2f7a71e0",
   "metadata": {},
   "source": [
    "Clearly, print() statement has an indentation."
   ]
  },
  {
   "cell_type": "code",
   "execution_count": 20,
   "id": "7e1d0a92-6490-48a6-9a0f-27518eea8743",
   "metadata": {},
   "outputs": [
    {
     "ename": "IndentationError",
     "evalue": "expected an indented block after 'if' statement on line 3 (60092748.py, line 4)",
     "output_type": "error",
     "traceback": [
      "\u001b[0;36m  Cell \u001b[0;32mIn[20], line 4\u001b[0;36m\u001b[0m\n\u001b[0;31m    print(i)\u001b[0m\n\u001b[0m    ^\u001b[0m\n\u001b[0;31mIndentationError\u001b[0m\u001b[0;31m:\u001b[0m expected an indented block after 'if' statement on line 3\n"
     ]
    }
   ],
   "source": [
    "# What if indentation is not used \n",
    "i = 5\n",
    "if i == 5 :\n",
    "print(i)"
   ]
  },
  {
   "cell_type": "markdown",
   "id": "156ed64d-8924-4eef-bb0e-e467bdef3851",
   "metadata": {},
   "source": [
    "Clearly, we can see error."
   ]
  }
 ],
 "metadata": {
  "kernelspec": {
   "display_name": "Python 3 (ipykernel)",
   "language": "python",
   "name": "python3"
  },
  "language_info": {
   "codemirror_mode": {
    "name": "ipython",
    "version": 3
   },
   "file_extension": ".py",
   "mimetype": "text/x-python",
   "name": "python",
   "nbconvert_exporter": "python",
   "pygments_lexer": "ipython3",
   "version": "3.10.8"
  }
 },
 "nbformat": 4,
 "nbformat_minor": 5
}
