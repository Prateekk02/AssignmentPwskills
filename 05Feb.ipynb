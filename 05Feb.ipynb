{
 "cells": [
  {
   "cell_type": "markdown",
   "id": "25a96613-4007-4363-aa86-a2ddd04d8692",
   "metadata": {},
   "source": [
    "### Question 1"
   ]
  },
  {
   "cell_type": "markdown",
   "id": "60ad86ab-6edd-4214-b49e-75c7aef94b1c",
   "metadata": {},
   "source": [
    "- Object-Oriented Programming is a programming methodology which makes program structured and reusable ."
   ]
  },
  {
   "cell_type": "markdown",
   "id": "036d7a27-d047-4ffb-954a-36565b386488",
   "metadata": {},
   "source": [
    "- Class - It is a user defined template which provides a blueprint consisting of data members and methods."
   ]
  },
  {
   "cell_type": "markdown",
   "id": "349ff86a-cac9-4539-af14-60830370308f",
   "metadata": {},
   "source": [
    "- Object - It is a real, runtime instance of a class."
   ]
  },
  {
   "cell_type": "code",
   "execution_count": 1,
   "id": "c5ceacc3-ba6a-4cee-9b6b-5b9db44a81df",
   "metadata": {},
   "outputs": [],
   "source": [
    "# Example of Class\n",
    "class test:\n",
    "    def prt(self):\n",
    "        print('Example of class')"
   ]
  },
  {
   "cell_type": "code",
   "execution_count": 4,
   "id": "8a024055-ffa2-4227-9782-56885b68704d",
   "metadata": {},
   "outputs": [
    {
     "name": "stdout",
     "output_type": "stream",
     "text": [
      "<class '__main__.test'>\n"
     ]
    }
   ],
   "source": [
    "obj = test() # obj is the object of class test\n",
    "print(type(obj))"
   ]
  },
  {
   "cell_type": "code",
   "execution_count": 5,
   "id": "d28ef043-ed86-4acf-a35d-79fbc7fdc8b7",
   "metadata": {},
   "outputs": [
    {
     "name": "stdout",
     "output_type": "stream",
     "text": [
      "Example of class\n"
     ]
    }
   ],
   "source": [
    "obj.prt()"
   ]
  },
  {
   "cell_type": "markdown",
   "id": "2029ca2e-b25b-49e2-8b0d-6eca3f5fdb29",
   "metadata": {},
   "source": [
    "### Question 2"
   ]
  },
  {
   "cell_type": "markdown",
   "id": "90753672-cae9-4447-8a13-ce4d08708121",
   "metadata": {},
   "source": [
    "The four pillers of OOPs are as follow: -\n",
    "- Inheritence\n",
    "- Polymorphism\n",
    "- Abstraction\n",
    "- Encapsulation"
   ]
  },
  {
   "cell_type": "markdown",
   "id": "6968f412-da18-42cf-b592-818486c4149b",
   "metadata": {},
   "source": [
    "### Question 3"
   ]
  },
  {
   "cell_type": "markdown",
   "id": "faded0b5-fa92-47ea-8155-083b6918559d",
   "metadata": {},
   "source": [
    "- __init()__ is the constructor of a class and it is used to initialize the object's attributes of the class."
   ]
  },
  {
   "cell_type": "code",
   "execution_count": 8,
   "id": "647effe0-d58f-4048-b13d-ae85484ee211",
   "metadata": {},
   "outputs": [],
   "source": [
    "# Example\n",
    "class test1:\n",
    "    def __init__(self,a,b):\n",
    "        self.a = a\n",
    "        self.b = b\n",
    "    def printVal(self):\n",
    "        return self.a, self.b"
   ]
  },
  {
   "cell_type": "code",
   "execution_count": 9,
   "id": "a7c2472a-7526-4fc6-9774-af1e98d14bfa",
   "metadata": {},
   "outputs": [
    {
     "data": {
      "text/plain": [
       "(2, 3)"
      ]
     },
     "execution_count": 9,
     "metadata": {},
     "output_type": "execute_result"
    }
   ],
   "source": [
    "obj1 = test1(2,3)\n",
    "obj1.printVal()"
   ]
  },
  {
   "cell_type": "markdown",
   "id": "462dc8b8-f159-4a52-88e1-6634c7645527",
   "metadata": {},
   "source": [
    "### Question 4"
   ]
  },
  {
   "cell_type": "markdown",
   "id": "8fcaebd9-9a37-4c58-8180-64a6d9615502",
   "metadata": {},
   "source": [
    "- self is not a reserved keyword and it is used to bind the object to it's class"
   ]
  },
  {
   "cell_type": "markdown",
   "id": "150e0ac8-e339-4dd1-882c-07a73e946335",
   "metadata": {},
   "source": [
    "- If self is not then program will throw an error"
   ]
  },
  {
   "cell_type": "code",
   "execution_count": 10,
   "id": "0ad077f4-61b5-41b2-bf1f-552f96cc96f4",
   "metadata": {},
   "outputs": [],
   "source": [
    "# For example\n",
    "class test2:\n",
    "    def pr():\n",
    "        print(\"No use of self\")"
   ]
  },
  {
   "cell_type": "code",
   "execution_count": 11,
   "id": "570103a0-d086-4637-a055-3ceb2e68716e",
   "metadata": {},
   "outputs": [],
   "source": [
    "obj2 = test2()"
   ]
  },
  {
   "cell_type": "code",
   "execution_count": 12,
   "id": "88dadecc-6155-482f-b706-eb1483a14859",
   "metadata": {},
   "outputs": [
    {
     "ename": "TypeError",
     "evalue": "test2.pr() takes 0 positional arguments but 1 was given",
     "output_type": "error",
     "traceback": [
      "\u001b[0;31m---------------------------------------------------------------------------\u001b[0m",
      "\u001b[0;31mTypeError\u001b[0m                                 Traceback (most recent call last)",
      "Cell \u001b[0;32mIn[12], line 1\u001b[0m\n\u001b[0;32m----> 1\u001b[0m \u001b[43mobj2\u001b[49m\u001b[38;5;241;43m.\u001b[39;49m\u001b[43mpr\u001b[49m\u001b[43m(\u001b[49m\u001b[43m)\u001b[49m\n",
      "\u001b[0;31mTypeError\u001b[0m: test2.pr() takes 0 positional arguments but 1 was given"
     ]
    }
   ],
   "source": [
    "obj2.pr()"
   ]
  },
  {
   "cell_type": "markdown",
   "id": "5f5c4544-acae-4065-961c-7e5be2bece5d",
   "metadata": {},
   "source": [
    "- However if self is used then there will be no error."
   ]
  },
  {
   "cell_type": "code",
   "execution_count": 17,
   "id": "6e979214-abab-4097-910c-519e9ff0f01c",
   "metadata": {},
   "outputs": [],
   "source": [
    "# For example\n",
    "class test2:\n",
    "    def pr(self):\n",
    "        print(\"Use of self\")"
   ]
  },
  {
   "cell_type": "code",
   "execution_count": 18,
   "id": "1adb300b-ad42-45b9-a225-60de822c13d9",
   "metadata": {},
   "outputs": [],
   "source": [
    "obj2 = test2()"
   ]
  },
  {
   "cell_type": "code",
   "execution_count": 19,
   "id": "f9ad5112-0f3e-4b55-822e-de480629ced6",
   "metadata": {},
   "outputs": [
    {
     "name": "stdout",
     "output_type": "stream",
     "text": [
      "Use of self\n"
     ]
    }
   ],
   "source": [
    "obj2.pr()"
   ]
  },
  {
   "cell_type": "markdown",
   "id": "df34768d-bf77-4c34-8322-9ed593b84651",
   "metadata": {},
   "source": [
    "### Question 5"
   ]
  },
  {
   "cell_type": "markdown",
   "id": "0478036d-1602-428e-9b3b-e107d6c2ba3e",
   "metadata": {},
   "source": [
    "<b> Inheritance </b> is a concept of object oriented programming in which one class inherits the properties of other class.\n",
    "i.e. Properties of one class called parent class or base class is inherited by another class called derived class or child class."
   ]
  },
  {
   "cell_type": "markdown",
   "id": "487060f1-5d06-4adf-bf32-40f6a737c549",
   "metadata": {},
   "source": [
    "There are 5 types if inheritance :-\n",
    "- Single Level\n",
    "- Multilevel\n",
    "- Multiple\n",
    "- Hierarchical \n",
    "- Hybrid"
   ]
  },
  {
   "cell_type": "markdown",
   "id": "f3a021e3-9ee2-4d12-869f-e2581dffc3be",
   "metadata": {},
   "source": [
    "#### Single Level"
   ]
  },
  {
   "cell_type": "code",
   "execution_count": 2,
   "id": "e8204f60-e0d3-4ce1-a58a-2431dee5ce4b",
   "metadata": {},
   "outputs": [],
   "source": [
    "class class1:\n",
    "    def method1(self):\n",
    "        return 'this is method of class 1'"
   ]
  },
  {
   "cell_type": "code",
   "execution_count": 3,
   "id": "4b2df446-9106-42fa-ad06-9b314ff24d41",
   "metadata": {},
   "outputs": [],
   "source": [
    "class class2(class1):\n",
    "    pass"
   ]
  },
  {
   "cell_type": "code",
   "execution_count": 4,
   "id": "63954dc6-31ea-4fe1-ad1d-2c7539752d10",
   "metadata": {},
   "outputs": [],
   "source": [
    "class2_obj = class2()"
   ]
  },
  {
   "cell_type": "code",
   "execution_count": 5,
   "id": "18b1db38-bc6b-41c9-a23d-6305f4293d49",
   "metadata": {},
   "outputs": [
    {
     "data": {
      "text/plain": [
       "'this is method of class 1'"
      ]
     },
     "execution_count": 5,
     "metadata": {},
     "output_type": "execute_result"
    }
   ],
   "source": [
    "class2_obj.method1()"
   ]
  },
  {
   "cell_type": "markdown",
   "id": "10b301f3-0119-40bf-ada4-06e634429656",
   "metadata": {},
   "source": [
    "### Multi Level"
   ]
  },
  {
   "cell_type": "code",
   "execution_count": 14,
   "id": "2821ebbd-09e0-467f-a3b4-a9e9661086cb",
   "metadata": {},
   "outputs": [],
   "source": [
    "class class1:\n",
    "    def method1(self):\n",
    "        return 'this is method of class 1'"
   ]
  },
  {
   "cell_type": "code",
   "execution_count": 15,
   "id": "da528e10-974a-4a88-a6de-e8c353cfc475",
   "metadata": {},
   "outputs": [],
   "source": [
    "class class2(class1):\n",
    "    def method2(self):\n",
    "        return 'this is method of class2'"
   ]
  },
  {
   "cell_type": "code",
   "execution_count": 16,
   "id": "a4576a3b-c823-46c1-9ce0-e4c4902b6762",
   "metadata": {},
   "outputs": [],
   "source": [
    "class class3(class2):\n",
    "    pass"
   ]
  },
  {
   "cell_type": "code",
   "execution_count": 17,
   "id": "19514ded-8d40-4f83-bb43-7a2057cced02",
   "metadata": {},
   "outputs": [],
   "source": [
    "class_obj3 = class3()"
   ]
  },
  {
   "cell_type": "code",
   "execution_count": 18,
   "id": "d3798139-676e-4605-b0ba-c9788c925ca5",
   "metadata": {},
   "outputs": [
    {
     "data": {
      "text/plain": [
       "'this is method of class 1'"
      ]
     },
     "execution_count": 18,
     "metadata": {},
     "output_type": "execute_result"
    }
   ],
   "source": [
    "class_obj3.method1()"
   ]
  },
  {
   "cell_type": "code",
   "execution_count": 19,
   "id": "20551a94-f73c-4b08-aa4f-dcf07d065a63",
   "metadata": {},
   "outputs": [
    {
     "data": {
      "text/plain": [
       "'this is method of class2'"
      ]
     },
     "execution_count": 19,
     "metadata": {},
     "output_type": "execute_result"
    }
   ],
   "source": [
    "class_obj3.method2()"
   ]
  },
  {
   "cell_type": "markdown",
   "id": "8c9d6a66-a02b-48b8-ac7d-bf914d378ecb",
   "metadata": {},
   "source": [
    "### Multiple Inheritance"
   ]
  },
  {
   "cell_type": "code",
   "execution_count": 27,
   "id": "b9df4830-ea72-42aa-a2d1-8b1c50dd9252",
   "metadata": {},
   "outputs": [],
   "source": [
    "class class1:\n",
    "    def method1(self):\n",
    "        return 'this is method of class 1'"
   ]
  },
  {
   "cell_type": "code",
   "execution_count": 28,
   "id": "f44eabf9-b47b-43c1-b6b1-f7950829b495",
   "metadata": {},
   "outputs": [],
   "source": [
    "class class2:\n",
    "    def method2(self):\n",
    "        return 'this is method of class2'"
   ]
  },
  {
   "cell_type": "code",
   "execution_count": 29,
   "id": "d2cfe019-1859-4aef-8400-3fa7b096cc66",
   "metadata": {},
   "outputs": [],
   "source": [
    "class class3(class1, class2):\n",
    "    pass"
   ]
  },
  {
   "cell_type": "code",
   "execution_count": 30,
   "id": "92942b92-97ac-44a5-9b5a-6a82abcc5245",
   "metadata": {},
   "outputs": [],
   "source": [
    "class_obj3 = class3()"
   ]
  },
  {
   "cell_type": "code",
   "execution_count": 31,
   "id": "ee428543-91bd-423e-bb8a-2920845b1b95",
   "metadata": {},
   "outputs": [
    {
     "data": {
      "text/plain": [
       "'this is method of class 1'"
      ]
     },
     "execution_count": 31,
     "metadata": {},
     "output_type": "execute_result"
    }
   ],
   "source": [
    "class_obj3.method1()"
   ]
  },
  {
   "cell_type": "code",
   "execution_count": 32,
   "id": "3ea899e2-a6c9-4024-be20-6aa6ab2ae998",
   "metadata": {},
   "outputs": [
    {
     "data": {
      "text/plain": [
       "'this is method of class2'"
      ]
     },
     "execution_count": 32,
     "metadata": {},
     "output_type": "execute_result"
    }
   ],
   "source": [
    "class_obj3.method2()"
   ]
  },
  {
   "cell_type": "markdown",
   "id": "f17e2418-b65b-4773-b381-e2a412bbe37a",
   "metadata": {},
   "source": [
    "### Heirarchical Inheritance"
   ]
  },
  {
   "cell_type": "code",
   "execution_count": 39,
   "id": "1c3d2507-eb58-4e0f-8447-4ae39c8c662f",
   "metadata": {},
   "outputs": [],
   "source": [
    "class class1:\n",
    "    def method1(self):\n",
    "        return 'this is method of class 1'"
   ]
  },
  {
   "cell_type": "code",
   "execution_count": 40,
   "id": "658ed332-2961-4b4a-9b67-4f0843625472",
   "metadata": {},
   "outputs": [],
   "source": [
    "class class2(class1):\n",
    "    def method2(self):\n",
    "        return 'this is class 2'"
   ]
  },
  {
   "cell_type": "code",
   "execution_count": 41,
   "id": "1641b724-d9fc-48aa-be2a-3faef51a8b56",
   "metadata": {},
   "outputs": [],
   "source": [
    "class class3(class1):\n",
    "    def method3(self):\n",
    "        return 'this is class3'"
   ]
  },
  {
   "cell_type": "code",
   "execution_count": 42,
   "id": "8d26cee9-7eed-4ff9-8b2c-641002831a05",
   "metadata": {},
   "outputs": [],
   "source": [
    "class3_obj = class3()"
   ]
  },
  {
   "cell_type": "code",
   "execution_count": 43,
   "id": "997d2f83-bbdd-4fb7-b815-e295ca7d6e7f",
   "metadata": {},
   "outputs": [],
   "source": [
    "class2_obj = class2()"
   ]
  },
  {
   "cell_type": "code",
   "execution_count": 44,
   "id": "d64e290f-abd4-4a3e-a1bd-d981bf03664b",
   "metadata": {},
   "outputs": [
    {
     "data": {
      "text/plain": [
       "'this is method of class 1'"
      ]
     },
     "execution_count": 44,
     "metadata": {},
     "output_type": "execute_result"
    }
   ],
   "source": [
    "class2_obj.method1()"
   ]
  },
  {
   "cell_type": "code",
   "execution_count": 45,
   "id": "8f0523a3-d738-4683-b412-2b06b0a82fce",
   "metadata": {},
   "outputs": [
    {
     "data": {
      "text/plain": [
       "'this is method of class 1'"
      ]
     },
     "execution_count": 45,
     "metadata": {},
     "output_type": "execute_result"
    }
   ],
   "source": [
    "class3_obj.method1()"
   ]
  },
  {
   "cell_type": "markdown",
   "id": "5dbdd1c6-aab8-4f07-a7b1-1bd5f5823f70",
   "metadata": {},
   "source": [
    "# END"
   ]
  }
 ],
 "metadata": {
  "kernelspec": {
   "display_name": "Python 3 (ipykernel)",
   "language": "python",
   "name": "python3"
  },
  "language_info": {
   "codemirror_mode": {
    "name": "ipython",
    "version": 3
   },
   "file_extension": ".py",
   "mimetype": "text/x-python",
   "name": "python",
   "nbconvert_exporter": "python",
   "pygments_lexer": "ipython3",
   "version": "3.10.8"
  }
 },
 "nbformat": 4,
 "nbformat_minor": 5
}
