{
 "cells": [
  {
   "cell_type": "markdown",
   "id": "28589c8f-8c63-4e28-8746-367db06341a9",
   "metadata": {},
   "source": [
    "#### Question 1"
   ]
  },
  {
   "cell_type": "code",
   "execution_count": 1,
   "id": "96eb3b43-402b-488e-aefd-83716847fba2",
   "metadata": {},
   "outputs": [
    {
     "name": "stdout",
     "output_type": "stream",
     "text": [
      "Enter the percentage\n",
      "\n"
     ]
    },
    {
     "name": "stdin",
     "output_type": "stream",
     "text": [
      " 65\n"
     ]
    },
    {
     "name": "stdout",
     "output_type": "stream",
     "text": [
      "C\n"
     ]
    }
   ],
   "source": [
    "print('Enter the percentage\\n')\n",
    "x = int(input())\n",
    "if x>90:\n",
    "    print('A')\n",
    "elif x>80 and x <= 90:\n",
    "    print('B')\n",
    "elif x >= 60 and x<= 80:\n",
    "    print('C')\n",
    "else:\n",
    "    print('D')    "
   ]
  },
  {
   "cell_type": "markdown",
   "id": "20a1a7b1-c946-4672-8601-71f155645699",
   "metadata": {},
   "source": [
    "#### Question 2"
   ]
  },
  {
   "cell_type": "code",
   "execution_count": 12,
   "id": "519f7111-7a2c-437b-8c60-121ffcdf7316",
   "metadata": {},
   "outputs": [
    {
     "name": "stdout",
     "output_type": "stream",
     "text": [
      "Enter Bike Price\n"
     ]
    },
    {
     "name": "stdin",
     "output_type": "stream",
     "text": [
      " 120000\n"
     ]
    },
    {
     "name": "stdout",
     "output_type": "stream",
     "text": [
      "tax =  18000.0\n"
     ]
    }
   ],
   "source": [
    "print('Enter Bike Price')\n",
    "bikePrice = int(input())\n",
    "if bikePrice > 100000:\n",
    "    y = 0.15\n",
    "elif bikePrice > 50000 and x <= 100000:\n",
    "    y = 0.10\n",
    "else:\n",
    "    y = 0.05\n",
    "tax = bikePrice * y\n",
    "print('tax = ',tax)"
   ]
  },
  {
   "cell_type": "markdown",
   "id": "596be1b9-46d5-4361-bddb-710dcd8b851b",
   "metadata": {},
   "source": [
    "#### Question 3"
   ]
  },
  {
   "cell_type": "code",
   "execution_count": 19,
   "id": "00d09cb7-227f-4ffc-ad43-abda9927d75a",
   "metadata": {},
   "outputs": [
    {
     "name": "stdout",
     "output_type": "stream",
     "text": [
      "Enter City name\n"
     ]
    },
    {
     "name": "stdin",
     "output_type": "stream",
     "text": [
      " Delhi\n"
     ]
    },
    {
     "name": "stdout",
     "output_type": "stream",
     "text": [
      "Red Fort\n"
     ]
    }
   ],
   "source": [
    "print('Enter City name')\n",
    "cityName = input()\n",
    "cityName = cityName.lower()\n",
    "if cityName == 'delhi':\n",
    "    print('Red Fort')\n",
    "elif cityName == 'agra':\n",
    "    print('Taj Mahal')\n",
    "elif cityName == 'jaipur':\n",
    "    print('Jal Mahal')\n",
    "else:\n",
    "    print('Enter valid City Name')"
   ]
  },
  {
   "cell_type": "markdown",
   "id": "3603418b-bbf1-4356-b02e-93cea94085af",
   "metadata": {},
   "source": [
    "#### Question 4"
   ]
  },
  {
   "cell_type": "code",
   "execution_count": 21,
   "id": "c63e9fea-7664-49ec-b673-5e83be7de615",
   "metadata": {},
   "outputs": [
    {
     "name": "stdout",
     "output_type": "stream",
     "text": [
      "Enter the Number\n"
     ]
    },
    {
     "name": "stdin",
     "output_type": "stream",
     "text": [
      " 120\n"
     ]
    },
    {
     "name": "stdout",
     "output_type": "stream",
     "text": [
      "3\n"
     ]
    }
   ],
   "source": [
    "print('Enter the Number')\n",
    "var = int(input())\n",
    "count = 0\n",
    "while var>10:\n",
    "    var = int(var/3)\n",
    "    count = count + 1\n",
    "print(count)"
   ]
  },
  {
   "cell_type": "markdown",
   "id": "42e5893c-a316-432c-9a46-b9da0d3a1fff",
   "metadata": {},
   "source": [
    "#### Question 5"
   ]
  },
  {
   "cell_type": "markdown",
   "id": "d69567a1-d52c-4bed-b0b5-0515daa85fb2",
   "metadata": {},
   "source": [
    "for loop in used when numbers of iteration is already known on the other hand while loop in used till the condition to execute the loop is true i.e when we don't know the number of iterations needed."
   ]
  },
  {
   "cell_type": "markdown",
   "id": "c3750217-af30-4c7a-b022-3eeaa28f6e07",
   "metadata": {},
   "source": [
    "- Consider an example when we have to take numbers from user until a specific number is found"
   ]
  },
  {
   "cell_type": "code",
   "execution_count": 23,
   "id": "291e0897-f6a6-4a71-95ff-fdbab7d3af49",
   "metadata": {},
   "outputs": [
    {
     "name": "stdin",
     "output_type": "stream",
     "text": [
      " 48\n"
     ]
    },
    {
     "name": "stdout",
     "output_type": "stream",
     "text": [
      "48\n"
     ]
    },
    {
     "name": "stdin",
     "output_type": "stream",
     "text": [
      " 75\n"
     ]
    },
    {
     "name": "stdout",
     "output_type": "stream",
     "text": [
      "75\n"
     ]
    },
    {
     "name": "stdin",
     "output_type": "stream",
     "text": [
      " 42\n"
     ]
    },
    {
     "name": "stdout",
     "output_type": "stream",
     "text": [
      "42\n"
     ]
    }
   ],
   "source": [
    "no = 0\n",
    "while no!=42:\n",
    "    no = int(input())\n",
    "    print(no)\n"
   ]
  },
  {
   "cell_type": "markdown",
   "id": "f11c03cd-9abb-4fad-abfe-c9aaa6e9f5c9",
   "metadata": {},
   "source": [
    "Clearly, in the above case we don't know how many iterations are needed hence here for loop can not be used"
   ]
  },
  {
   "cell_type": "markdown",
   "id": "58336773-0fb4-401c-a65d-34cfca4c6037",
   "metadata": {},
   "source": [
    "#### Question 6"
   ]
  },
  {
   "cell_type": "code",
   "execution_count": 38,
   "id": "9d1faec9-fd05-441b-865e-19e586de4ee5",
   "metadata": {},
   "outputs": [
    {
     "name": "stdout",
     "output_type": "stream",
     "text": [
      "* * * * * \n",
      "* * * * * \n",
      "* * * * * \n",
      "* * * * * \n",
      "* * * * * \n"
     ]
    }
   ],
   "source": [
    "# Pattern to print a 5X5 squar box made of '*'\n",
    "i=1\n",
    "while i<=5:\n",
    "    j=1\n",
    "    while j<=5:\n",
    "        print('*', end=' ')\n",
    "        j = j+1\n",
    "    print()\n",
    "    i = i+1"
   ]
  },
  {
   "cell_type": "code",
   "execution_count": 39,
   "id": "f8de03cb-7e15-4735-997b-e45c749a4965",
   "metadata": {},
   "outputs": [
    {
     "name": "stdout",
     "output_type": "stream",
     "text": [
      "* \n",
      "* * \n",
      "* * * \n",
      "* * * * \n",
      "* * * * * \n"
     ]
    }
   ],
   "source": [
    "#Pattern of an left lower triangle made of '*'\n",
    "i = 1\n",
    "while i<=5:\n",
    "    j=1\n",
    "    while j<=i:\n",
    "        print('*',end = ' ')\n",
    "        j +=1\n",
    "    print()\n",
    "    i+=1"
   ]
  },
  {
   "cell_type": "code",
   "execution_count": 41,
   "id": "9269cc79-dc06-494c-a2d6-fabb9ecd9c09",
   "metadata": {},
   "outputs": [
    {
     "name": "stdout",
     "output_type": "stream",
     "text": [
      "1 1 1 1 \n",
      "2 2 2 2 \n",
      "3 3 3 3 \n",
      "4 4 4 4 \n",
      "5 5 5 5 \n"
     ]
    }
   ],
   "source": [
    "i=1\n",
    "while i<=5:\n",
    "    j=1\n",
    "    while j<5:\n",
    "        print(i,end = ' ')\n",
    "        j+=1\n",
    "    print()\n",
    "    i+=1"
   ]
  },
  {
   "cell_type": "markdown",
   "id": "747012a6-db66-4adb-b6f7-bc8028ab0333",
   "metadata": {},
   "source": [
    "#### Question 7 and 8"
   ]
  },
  {
   "cell_type": "code",
   "execution_count": 47,
   "id": "b3a984ed-22cb-49f1-9ae3-350aa905a05e",
   "metadata": {},
   "outputs": [
    {
     "data": {
      "text/plain": [
       "[10, 9, 8, 7, 6, 5, 4, 3, 2, 1]"
      ]
     },
     "execution_count": 47,
     "metadata": {},
     "output_type": "execute_result"
    }
   ],
   "source": [
    "l = []\n",
    "i = 10\n",
    "while i>=1:\n",
    "    l.append(i)\n",
    "    i -=1\n",
    "l"
   ]
  },
  {
   "cell_type": "markdown",
   "id": "ef2c9295-0b8e-48c3-9922-af7e35687dd5",
   "metadata": {},
   "source": [
    "## END"
   ]
  }
 ],
 "metadata": {
  "kernelspec": {
   "display_name": "Python 3 (ipykernel)",
   "language": "python",
   "name": "python3"
  },
  "language_info": {
   "codemirror_mode": {
    "name": "ipython",
    "version": 3
   },
   "file_extension": ".py",
   "mimetype": "text/x-python",
   "name": "python",
   "nbconvert_exporter": "python",
   "pygments_lexer": "ipython3",
   "version": "3.10.8"
  }
 },
 "nbformat": 4,
 "nbformat_minor": 5
}
