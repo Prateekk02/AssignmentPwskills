{
 "cells": [
  {
   "cell_type": "markdown",
   "id": "015416c6-b85d-42f4-b968-d2b291face8b",
   "metadata": {},
   "source": [
    "# Question 1"
   ]
  },
  {
   "cell_type": "markdown",
   "id": "97e9c445-1afb-456b-9824-6f2f4016b303",
   "metadata": {},
   "source": [
    "- Abstraction in OOPs is a concept where only the essential details of the program is shown rather than the whole implementation of the process."
   ]
  },
  {
   "cell_type": "markdown",
   "id": "4fc64c0f-5dd6-4b38-961a-555d65902753",
   "metadata": {},
   "source": [
    "- A real life example of abstraction can be a coffee machine which shows only the essential information to the user rather than the procedure it goes to make coffee. "
   ]
  },
  {
   "cell_type": "code",
   "execution_count": 8,
   "id": "e3edb91a-7162-49dc-9ae6-08281ec66d76",
   "metadata": {},
   "outputs": [],
   "source": [
    "#Example to calculate area of circle\n",
    "\n",
    "class Circle:\n",
    "    def __init__(self, a):\n",
    "        self.a = a\n",
    "    \n",
    "    def area(self):\n",
    "        return ( 3.14 * (self.a)**2)"
   ]
  },
  {
   "cell_type": "code",
   "execution_count": 15,
   "id": "862ec266-5e67-475f-ae06-97ff9c1c261e",
   "metadata": {},
   "outputs": [
    {
     "data": {
      "text/plain": [
       "78.5"
      ]
     },
     "execution_count": 15,
     "metadata": {},
     "output_type": "execute_result"
    }
   ],
   "source": [
    "t = Circle(5)\n",
    "t.area()"
   ]
  },
  {
   "cell_type": "markdown",
   "id": "f7f7baf6-d46d-4dfb-b23b-5f6ae376bb91",
   "metadata": {},
   "source": [
    "# Question 2"
   ]
  },
  {
   "cell_type": "markdown",
   "id": "ce459d01-59ce-477c-82a8-c425d67a45f2",
   "metadata": {},
   "source": [
    "<b> Encapsulation </b> -> It is the wrapping up of data under a single unit.<br> \n",
    "<b> Abstraction </b> -> It is the process of showing only the essential details to the user and hiding the non essential information."
   ]
  },
  {
   "cell_type": "code",
   "execution_count": 33,
   "id": "68b04146-b1e9-4635-9e0f-4e44906b9284",
   "metadata": {},
   "outputs": [],
   "source": [
    "# Example of Encapsulation\n",
    "class student_detail:\n",
    "    \n",
    "    def __init__(self, sname, sroll, total_mark):\n",
    "        self.sname = sname\n",
    "        self.sroll = sroll\n",
    "        self.total_mark = total_mark\n",
    "    def res(self):\n",
    "        if self.total_mark>=75:\n",
    "            print('you are master')\n",
    "        else:\n",
    "            print('you can not be a master')\n",
    "    def get_detail(self):\n",
    "        return (self.sname, self.sroll)\n",
    "        "
   ]
  },
  {
   "cell_type": "code",
   "execution_count": 34,
   "id": "46237a8a-b479-4bbe-a64a-6bfb6427bc41",
   "metadata": {},
   "outputs": [],
   "source": [
    "obj = student_detail('Anakin', 66,78)"
   ]
  },
  {
   "cell_type": "code",
   "execution_count": 36,
   "id": "f1c5373d-3b41-49a4-b117-f0df4078b00a",
   "metadata": {},
   "outputs": [
    {
     "data": {
      "text/plain": [
       "('Anakin', 66)"
      ]
     },
     "execution_count": 36,
     "metadata": {},
     "output_type": "execute_result"
    }
   ],
   "source": [
    "obj.get_detail()"
   ]
  },
  {
   "cell_type": "code",
   "execution_count": 37,
   "id": "3ba454c7-d5f8-4384-8646-c41447f8f342",
   "metadata": {},
   "outputs": [
    {
     "name": "stdout",
     "output_type": "stream",
     "text": [
      "you are master\n"
     ]
    }
   ],
   "source": [
    "obj.res()"
   ]
  },
  {
   "cell_type": "markdown",
   "id": "1d671092-a314-432d-8116-d354b3585fd9",
   "metadata": {},
   "source": [
    "- In the above example we provide details of student and wrap it under a single unit and weather the student is master or not is decided inside the class and what is the criteria is unknown to the external user."
   ]
  },
  {
   "cell_type": "markdown",
   "id": "db6562fe-06f8-4e14-bc51-1b2a789062a4",
   "metadata": {},
   "source": [
    "# Question 3"
   ]
  },
  {
   "cell_type": "markdown",
   "id": "ffad4ddd-bb7f-40da-a57a-11aad2293d4e",
   "metadata": {},
   "source": [
    "abc module of python used to implement abstraction.Basically abc stands for abstract base class. If you want to implement any abstract class you must import abc module to the file else it will give type error.<br>\n",
    "in abc module there exists a decorator called  @abc.abstractmethod which is used before defining the function which is needed for abstraction. Using abc module the code becomes more maintanable."
   ]
  },
  {
   "cell_type": "markdown",
   "id": "aa6a5744-2d88-4ce6-b0ae-1d5f3dce6d69",
   "metadata": {},
   "source": [
    "# Question 4"
   ]
  },
  {
   "cell_type": "markdown",
   "id": "014ec699-5829-4486-b048-e8fc520193bc",
   "metadata": {},
   "source": [
    "Data Abstraction is a methodology where only the interface of the program is shown to the user which are useful while hiding all the implementation part of that code."
   ]
  },
  {
   "cell_type": "markdown",
   "id": "8836d98b-6e70-4be9-b3f1-e709cc53f55a",
   "metadata": {},
   "source": [
    "For example"
   ]
  },
  {
   "cell_type": "code",
   "execution_count": 4,
   "id": "6e0da65d-5bfd-47c9-bcd5-445f217e6bdd",
   "metadata": {},
   "outputs": [],
   "source": [
    "import abc\n",
    "\n",
    "class Choosen_one:\n",
    "    \n",
    "    @abc.abstractmethod\n",
    "    def qualities(self):\n",
    "        pass"
   ]
  },
  {
   "cell_type": "code",
   "execution_count": 5,
   "id": "4583805f-6200-4b51-9b4d-de80c1f3e590",
   "metadata": {},
   "outputs": [],
   "source": [
    "class Jedi(Choosen_one):\n",
    "    \n",
    "    def qualities(self):\n",
    "        return \"He is Anakin Skywalker\""
   ]
  },
  {
   "cell_type": "code",
   "execution_count": 19,
   "id": "f404a6c1-6c48-40d3-8655-91ec94193a23",
   "metadata": {},
   "outputs": [],
   "source": [
    "class Sith(Choosen_one):\n",
    "    \n",
    "    def qualities(self):\n",
    "        return \"He is Darth Vader\""
   ]
  },
  {
   "cell_type": "code",
   "execution_count": 20,
   "id": "e1c78d89-b492-4a59-b362-e790e0fa8d37",
   "metadata": {},
   "outputs": [
    {
     "name": "stdout",
     "output_type": "stream",
     "text": [
      "He is Anakin Skywalker\n"
     ]
    }
   ],
   "source": [
    "J = Jedi()\n",
    "print(J.qualities())"
   ]
  },
  {
   "cell_type": "code",
   "execution_count": 21,
   "id": "5d7776cb-63b4-4476-91e5-af9ee1d4c9d1",
   "metadata": {},
   "outputs": [
    {
     "name": "stdout",
     "output_type": "stream",
     "text": [
      "He is Darth Vader\n"
     ]
    }
   ],
   "source": [
    "S = Sith()\n",
    "print(S.qualities())"
   ]
  },
  {
   "cell_type": "markdown",
   "id": "a9f682c6-75ea-4b37-89ae-5fd996bc4531",
   "metadata": {},
   "source": [
    "# Question 5"
   ]
  },
  {
   "cell_type": "markdown",
   "id": "e53dedfc-ceab-48e2-ab53-3242485071c0",
   "metadata": {},
   "source": [
    "Consider the above example "
   ]
  },
  {
   "cell_type": "code",
   "execution_count": 22,
   "id": "4a6d2f0e-f9e7-488d-8faa-7c65425763ad",
   "metadata": {},
   "outputs": [],
   "source": [
    "import abc\n",
    "\n",
    "class Choosen_one:\n",
    "    \n",
    "    @abc.abstractmethod\n",
    "    def qualities(self):\n",
    "        pass"
   ]
  },
  {
   "cell_type": "code",
   "execution_count": 24,
   "id": "8b410d51-8245-4bdc-a85c-2d99e4b9e13c",
   "metadata": {},
   "outputs": [
    {
     "ename": "TypeError",
     "evalue": "Choosen_one.qualities() missing 1 required positional argument: 'self'",
     "output_type": "error",
     "traceback": [
      "\u001b[0;31m---------------------------------------------------------------------------\u001b[0m",
      "\u001b[0;31mTypeError\u001b[0m                                 Traceback (most recent call last)",
      "Cell \u001b[0;32mIn[24], line 2\u001b[0m\n\u001b[1;32m      1\u001b[0m ch \u001b[38;5;241m=\u001b[39m Choosen_one\n\u001b[0;32m----> 2\u001b[0m \u001b[43mch\u001b[49m\u001b[38;5;241;43m.\u001b[39;49m\u001b[43mqualities\u001b[49m\u001b[43m(\u001b[49m\u001b[43m)\u001b[49m\n",
      "\u001b[0;31mTypeError\u001b[0m: Choosen_one.qualities() missing 1 required positional argument: 'self'"
     ]
    }
   ],
   "source": [
    "ch = Choosen_one\n",
    "ch.qualities()"
   ]
  },
  {
   "cell_type": "markdown",
   "id": "01a7529e-dde6-4931-ab23-7c2ee348d5c4",
   "metadata": {},
   "source": [
    "Although we can create instance of an abstract class but it will make no sense to create an object of a class because abstract class only contains abstract methods which can be overridden by the driven class. Hence direct instance creation of abstract class makes no sense."
   ]
  },
  {
   "cell_type": "markdown",
   "id": "43a49cb0-0551-42c5-8b9a-5e3d3e2b612c",
   "metadata": {},
   "source": [
    "# END"
   ]
  }
 ],
 "metadata": {
  "kernelspec": {
   "display_name": "Python 3 (ipykernel)",
   "language": "python",
   "name": "python3"
  },
  "language_info": {
   "codemirror_mode": {
    "name": "ipython",
    "version": 3
   },
   "file_extension": ".py",
   "mimetype": "text/x-python",
   "name": "python",
   "nbconvert_exporter": "python",
   "pygments_lexer": "ipython3",
   "version": "3.10.8"
  }
 },
 "nbformat": 4,
 "nbformat_minor": 5
}
