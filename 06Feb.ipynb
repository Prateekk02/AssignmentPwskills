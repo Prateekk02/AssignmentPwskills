{
 "cells": [
  {
   "cell_type": "markdown",
   "id": "87b93d20-58a3-48d7-b747-6bd63efaa5bf",
   "metadata": {},
   "source": [
    "### Question 1"
   ]
  },
  {
   "cell_type": "code",
   "execution_count": 10,
   "id": "54d0fdfb-0076-47fa-a8e2-cb658b4fcf3d",
   "metadata": {},
   "outputs": [],
   "source": [
    "list1 = [1,2,3,4, [44,55,66, True], False, (34,56,78,89,34), {1,2,3,3,2,1}, {1:34, \"key2\": [55, 67, 78, 89], 4: (45,\n",
    "22, 61, 34)}, [56, 'data science'], 'Machine Learning']"
   ]
  },
  {
   "cell_type": "code",
   "execution_count": 26,
   "id": "66d80662-55a7-4447-b4fc-83c7aff5ec21",
   "metadata": {},
   "outputs": [],
   "source": [
    "from functools import reduce"
   ]
  },
  {
   "cell_type": "code",
   "execution_count": 32,
   "id": "2e38afd9-8525-457a-97b3-3bb36ba9d672",
   "metadata": {},
   "outputs": [],
   "source": [
    "def calcProd(l):\n",
    "    resL = []\n",
    "    for i in l:\n",
    "        if type(i) == list:\n",
    "            for j in i:\n",
    "                if type(j) == int or type(j) == float:\n",
    "                    resL.append(j)\n",
    "        elif type(i) == tuple:\n",
    "            for j in i:\n",
    "                if type(j) == int or type(j) == float:\n",
    "                    resL.append(j)\n",
    "        elif type(i) == set:\n",
    "            for j in i:\n",
    "                if type(j) == int or type(j) == float:\n",
    "                    resL.append(j)\n",
    "        elif type(i) == dict:\n",
    "            for j in i.values():\n",
    "                if type(j) == int or type(j) == float:\n",
    "                    resL.append(j)\n",
    "                elif type(j) == list or type(j) == tuple:\n",
    "                    for k in j:\n",
    "                        if type(k) == int or type(k) == float:\n",
    "                            resL.append(k)\n",
    "            for j in i.keys():\n",
    "                if type(j) == int or type(j)== float:\n",
    "                    resL.append(j)               \n",
    "        elif type(i) == int or type(i) == float:\n",
    "            resL.append(i)\n",
    "    return reduce(lambda x,y: x*y , resL)\n",
    "        "
   ]
  },
  {
   "cell_type": "code",
   "execution_count": 36,
   "id": "0fe811c8-e551-4741-b8fa-453ac21af076",
   "metadata": {},
   "outputs": [
    {
     "data": {
      "text/plain": [
       "4134711838987085478833841242112000"
      ]
     },
     "execution_count": 36,
     "metadata": {},
     "output_type": "execute_result"
    }
   ],
   "source": [
    "calcProd(list1)"
   ]
  },
  {
   "cell_type": "markdown",
   "id": "80808225-0ac7-4237-8557-a304c68707e1",
   "metadata": {},
   "source": [
    "### Question 2"
   ]
  },
  {
   "cell_type": "code",
   "execution_count": 18,
   "id": "b40b26b2-76e1-4fa1-90a8-644a63879855",
   "metadata": {},
   "outputs": [
    {
     "name": "stdin",
     "output_type": "stream",
     "text": [
      " I want to become a Data Scientist.\n"
     ]
    },
    {
     "name": "stdout",
     "output_type": "stream",
     "text": [
      "r$dzmg$gl$yvxlnv$z$wzgz$hxrvmgrhg.\n"
     ]
    }
   ],
   "source": [
    "# a->z, b->y, c->x , ....., z->a\n",
    "# ' ' -> '$'\n",
    "# Punctuation marks remains same\n",
    "msg = input()\n",
    "msg = msg.lower()\n",
    "def encrypt(msg):\n",
    "    s1 = 'abcdefghijklmnopqrstuvwxyz'\n",
    "    enc = ''\n",
    "    for i in msg:\n",
    "        if i == ' ':\n",
    "            enc = enc + '$'\n",
    "        elif i.isalpha():\n",
    "            for j in range(0,26):\n",
    "                if i == s1[j]:\n",
    "                    enc = enc+s1[25-j]\n",
    "        else:\n",
    "            enc = enc+str(i)\n",
    "    return enc\n",
    "print(encrypt(msg))"
   ]
  },
  {
   "cell_type": "markdown",
   "id": "5296c590-4278-4247-af2e-a460d2fed158",
   "metadata": {},
   "source": [
    "# END"
   ]
  }
 ],
 "metadata": {
  "kernelspec": {
   "display_name": "Python 3 (ipykernel)",
   "language": "python",
   "name": "python3"
  },
  "language_info": {
   "codemirror_mode": {
    "name": "ipython",
    "version": 3
   },
   "file_extension": ".py",
   "mimetype": "text/x-python",
   "name": "python",
   "nbconvert_exporter": "python",
   "pygments_lexer": "ipython3",
   "version": "3.10.8"
  }
 },
 "nbformat": 4,
 "nbformat_minor": 5
}
