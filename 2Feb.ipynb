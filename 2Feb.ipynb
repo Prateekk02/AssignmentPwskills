{
 "cells": [
  {
   "cell_type": "markdown",
   "id": "014a127f-129b-4882-b0e5-f8f5903e369f",
   "metadata": {},
   "source": [
    "#### Question 1"
   ]
  },
  {
   "cell_type": "markdown",
   "id": "a6b67517-d2f2-4096-b19c-9fefe8f4dfa5",
   "metadata": {},
   "source": [
    "For Loop"
   ]
  },
  {
   "cell_type": "markdown",
   "id": "e6f9ef9a-497a-440a-a92a-bd5a89da25db",
   "metadata": {},
   "source": [
    " When we know how many iterations are required to be performed then we use for loop."
   ]
  },
  {
   "cell_type": "code",
   "execution_count": 2,
   "id": "c9e6893f-cc28-46cf-b7e8-24c13aa7c98f",
   "metadata": {},
   "outputs": [
    {
     "name": "stdout",
     "output_type": "stream",
     "text": [
      "1\n",
      "2\n",
      "3\n",
      "4\n",
      "5\n",
      "6\n",
      "7\n",
      "8\n",
      "9\n",
      "10\n"
     ]
    }
   ],
   "source": [
    "# For Example\n",
    "# To print numbers from 1 to 10 we know the range would be from 1 to 10\n",
    "# Therefore we use for loop here\n",
    "for i in range(1,11):\n",
    "    print(i)"
   ]
  },
  {
   "cell_type": "markdown",
   "id": "ad101cc5-6c9e-4ad4-bc21-f5c24ff6cc2c",
   "metadata": {},
   "source": [
    "While Loop"
   ]
  },
  {
   "cell_type": "markdown",
   "id": "20197f21-f572-4073-92cd-75ebb686e245",
   "metadata": {},
   "source": [
    "When we don't know how many iterations are needed to be performed then we use while loop"
   ]
  },
  {
   "cell_type": "code",
   "execution_count": 6,
   "id": "6cb6c6d1-4da6-4bf5-89f0-5407c701115a",
   "metadata": {},
   "outputs": [
    {
     "name": "stdin",
     "output_type": "stream",
     "text": [
      "Enter the no. 42\n"
     ]
    },
    {
     "name": "stdout",
     "output_type": "stream",
     "text": [
      "Found 42\n"
     ]
    }
   ],
   "source": [
    "#For Example\n",
    "# We are required to take input from user utill user inputs 42, we will use while loop\n",
    "n = int(input(\"Enter the no.\"))\n",
    "while n!=42:\n",
    "    n = int(input(\"No. is not 42 Enter again\"))\n",
    "    print(n)\n",
    "else:\n",
    "    print('Found 42')"
   ]
  },
  {
   "cell_type": "markdown",
   "id": "93d6ecd9-acb1-4997-8bea-7f18be531f83",
   "metadata": {},
   "source": [
    "Conclusion:\n",
    "In while loop condition is checked first while in for loop condition is not checked at first.\n"
   ]
  },
  {
   "cell_type": "markdown",
   "id": "f5498f29-2a8c-49ca-b42f-26a567293525",
   "metadata": {},
   "source": [
    "#### Question 2"
   ]
  },
  {
   "cell_type": "code",
   "execution_count": 2,
   "id": "e71f2538-13c3-44de-b9a8-be618e339699",
   "metadata": {},
   "outputs": [
    {
     "name": "stdout",
     "output_type": "stream",
     "text": [
      "Product =  3628800\n",
      "Sum =  55\n"
     ]
    }
   ],
   "source": [
    "#for loop\n",
    "prod , s = 1,0\n",
    "for i in range(1,11):\n",
    "    prod*=i\n",
    "    s+=i\n",
    "print('Product = ', prod)\n",
    "print('Sum = ', s)"
   ]
  },
  {
   "cell_type": "code",
   "execution_count": 4,
   "id": "d351e470-2f66-4101-9c5f-3952b1859c42",
   "metadata": {},
   "outputs": [
    {
     "name": "stdout",
     "output_type": "stream",
     "text": [
      "Sum =  55\n",
      "Procuct =  3628800\n"
     ]
    }
   ],
   "source": [
    "# while loop\n",
    "counter = 1\n",
    "prod1,s1 = 1,0\n",
    "while counter<=10:\n",
    "    prod1*=counter\n",
    "    s1+=counter\n",
    "    counter+=1\n",
    "print('Sum = ', s1)\n",
    "print('Procuct = ', prod1)"
   ]
  },
  {
   "cell_type": "markdown",
   "id": "bd0456ae-f0ff-4909-9f5e-6163f2cd0b8e",
   "metadata": {},
   "source": [
    "#### Question 3"
   ]
  },
  {
   "cell_type": "code",
   "execution_count": 3,
   "id": "1edf71c0-cb02-42c7-951f-a8f913f027f8",
   "metadata": {},
   "outputs": [
    {
     "name": "stdin",
     "output_type": "stream",
     "text": [
      "Enter Unit 210\n"
     ]
    },
    {
     "name": "stdout",
     "output_type": "stream",
     "text": [
      "1150\n"
     ]
    }
   ],
   "source": [
    "unit = int(input(\"Enter Unit\"))\n",
    "bill = 0\n",
    "if unit > 300:\n",
    "    bill = (unit - 300) * 20 + 2050\n",
    "elif unit >200 and unit <=300:\n",
    "    bill = (unit - 200)*10 + 1050\n",
    "elif  unit >100 and unit <=200:\n",
    "    bill = (unit-100)*6 + 450\n",
    "else:\n",
    "    bill = unit*4.5\n",
    "print(bill)"
   ]
  },
  {
   "cell_type": "markdown",
   "id": "56857319-152e-4d31-8493-9d4e0bc9a80e",
   "metadata": {},
   "source": [
    "#### Question 4"
   ]
  },
  {
   "cell_type": "code",
   "execution_count": 18,
   "id": "3eb17e5c-ea2f-4a5e-9b5b-7d4b04a90f05",
   "metadata": {},
   "outputs": [
    {
     "name": "stdout",
     "output_type": "stream",
     "text": [
      "[8, 64, 125, 216, 512, 1000, 1728, 2744, 3375, 4096, 5832, 8000, 10648, 13824, 15625, 17576, 21952, 27000, 32768, 39304, 42875, 46656, 54872, 64000, 74088, 85184, 91125, 97336, 110592, 125000, 140608, 157464, 166375, 175616, 195112, 216000, 238328, 262144, 274625, 287496, 314432, 343000, 373248, 405224, 421875, 438976, 474552, 512000, 551368, 592704, 614125, 636056, 681472, 729000, 778688, 830584, 857375, 884736, 941192, 1000000]\n"
     ]
    }
   ],
   "source": [
    "# using for loop\n",
    "\n",
    "l = []\n",
    "for i in range(1,101):\n",
    "    l.append(i**3)\n",
    "print([ i for i in l if i%4 == 0 or i % 5 == 0])"
   ]
  },
  {
   "cell_type": "code",
   "execution_count": 22,
   "id": "7a510fbd-100d-4118-8ca3-71cc1a030b36",
   "metadata": {},
   "outputs": [
    {
     "name": "stdout",
     "output_type": "stream",
     "text": [
      "[8, 64, 125, 216, 512, 1000, 1728, 2744, 3375, 4096, 5832, 8000, 10648, 13824, 15625, 17576, 21952, 27000, 32768, 39304, 42875, 46656, 54872, 64000, 74088, 85184, 91125, 97336, 110592, 125000, 140608, 157464, 166375, 175616, 195112, 216000, 238328, 262144, 274625, 287496, 314432, 343000, 373248, 405224, 421875, 438976, 474552, 512000, 551368, 592704, 614125, 636056, 681472, 729000, 778688, 830584, 857375, 884736, 941192, 1000000]\n"
     ]
    }
   ],
   "source": [
    "# using while loop \n",
    "l1 = []\n",
    "j = 1\n",
    "while j<=100:\n",
    "    if j**3 %4 ==0 or j**3 %5==0:\n",
    "        l1.append(j**3)\n",
    "    j = j+1\n",
    "print(l1)"
   ]
  },
  {
   "cell_type": "code",
   "execution_count": 24,
   "id": "b664779c-a4c3-4e43-8a73-98828d816371",
   "metadata": {},
   "outputs": [
    {
     "name": "stdout",
     "output_type": "stream",
     "text": [
      "[8, 64, 125, 216, 512, 1000, 1728, 2744, 3375, 4096, 5832, 8000, 10648, 13824, 15625, 17576, 21952, 27000, 32768, 39304, 42875, 46656, 54872, 64000, 74088, 85184, 91125, 97336, 110592, 125000, 140608, 157464, 166375, 175616, 195112, 216000, 238328, 262144, 274625, 287496, 314432, 343000, 373248, 405224, 421875, 438976, 474552, 512000, 551368, 592704, 614125, 636056, 681472, 729000, 778688, 830584, 857375, 884736, 941192, 1000000]\n"
     ]
    }
   ],
   "source": [
    "# using both for and while loop \n",
    "l3 = []\n",
    "k = 1\n",
    "while k<=100:\n",
    "    l3.append(k**3)\n",
    "    k = k+1\n",
    "print([l for l in l3 if l%4 == 0 or l%5 ==0])"
   ]
  },
  {
   "cell_type": "markdown",
   "id": "7428b6cc-f452-4294-8f7c-5624c9c00536",
   "metadata": {},
   "source": [
    "#### Question 5"
   ]
  },
  {
   "cell_type": "code",
   "execution_count": 34,
   "id": "39d6dab2-1c54-4598-b457-8b7240aa130a",
   "metadata": {},
   "outputs": [
    {
     "name": "stdout",
     "output_type": "stream",
     "text": [
      "12\n"
     ]
    }
   ],
   "source": [
    "string  = 'I want to become a data scientist'\n",
    "\n",
    "count = 0\n",
    "for i in string.lower():\n",
    "    if i == 'a'or i == 'e' or i == 'i' or i == 'o' or i == 'u':\n",
    "        count = count+1\n",
    "print(count)"
   ]
  },
  {
   "cell_type": "markdown",
   "id": "2b5cf032-4bcc-4af8-bdc3-bed1caf897ef",
   "metadata": {},
   "source": [
    "### END"
   ]
  },
  {
   "cell_type": "code",
   "execution_count": null,
   "id": "65df269a-b79f-4601-be9e-b2c059e42817",
   "metadata": {},
   "outputs": [],
   "source": []
  }
 ],
 "metadata": {
  "kernelspec": {
   "display_name": "Python 3 (ipykernel)",
   "language": "python",
   "name": "python3"
  },
  "language_info": {
   "codemirror_mode": {
    "name": "ipython",
    "version": 3
   },
   "file_extension": ".py",
   "mimetype": "text/x-python",
   "name": "python",
   "nbconvert_exporter": "python",
   "pygments_lexer": "ipython3",
   "version": "3.10.8"
  }
 },
 "nbformat": 4,
 "nbformat_minor": 5
}
