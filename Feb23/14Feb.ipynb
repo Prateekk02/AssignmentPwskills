{
 "cells": [
  {
   "cell_type": "markdown",
   "metadata": {},
   "source": [
    "# Question 1"
   ]
  },
  {
   "attachments": {},
   "cell_type": "markdown",
   "metadata": {},
   "source": [
    "- Multithreading: When multiple subprocess (called threads) is executed under the same process concurrently, this is called multithreading.\n",
    "- Basically it allows multiple smaller light weight process share the same memory space to get executed.\n",
    "- Multithreading is used to make program more efficient and to maximize CPU utilization.\n",
    "- In python we use a module called 'threading' for multithreading.\n"
   ]
  },
  {
   "attachments": {},
   "cell_type": "markdown",
   "metadata": {},
   "source": [
    "# Question 2"
   ]
  },
  {
   "cell_type": "markdown",
   "metadata": {},
   "source": [
    "threading module is used to make thread so as to implement the concept of multithreading, thus increasing the overall cpu utilization and making the program more efficient."
   ]
  },
  {
   "attachments": {},
   "cell_type": "markdown",
   "metadata": {},
   "source": [
    "1) activeCount()\n",
    "- It return the number of Thread objects currently alive.\n"
   ]
  },
  {
   "attachments": {},
   "cell_type": "markdown",
   "metadata": {},
   "source": [
    "2. currentThread()\n",
    "- It return the current Thread object, corresponding to the caller's thread of control."
   ]
  },
  {
   "attachments": {},
   "cell_type": "markdown",
   "metadata": {},
   "source": [
    "3. ennumerate()\n",
    "- Return a list of all Thread objects currently alive.\n",
    "\n",
    "- The list includes daemonic threads, dummy thread objects created by current_thread(), and the main thread. It excludes terminated threads and threads that have not yet been started."
   ]
  },
  {
   "attachments": {},
   "cell_type": "markdown",
   "metadata": {},
   "source": [
    "# Question 3"
   ]
  },
  {
   "attachments": {},
   "cell_type": "markdown",
   "metadata": {},
   "source": [
    "#### run() --->\n",
    "- This is a method which is used to define the behaviour of the thread when it is executed.\n",
    "- When the run() method is called the thread are executed sequencially rather than a separate thread."
   ]
  },
  {
   "attachments": {},
   "cell_type": "markdown",
   "metadata": {},
   "source": [
    "start() ---->\n",
    "- This is a method which is used to start the execution of a thread in a separate thread of control.\n",
    "- When this method is called, a separate thread is created.\n",
    "- Hence using start() method we can concurrently run multiple threads."
   ]
  },
  {
   "attachments": {},
   "cell_type": "markdown",
   "metadata": {},
   "source": [
    "join() --->\n",
    "- When join() method is called over a thread, the main program waits for the completion of the thread."
   ]
  },
  {
   "attachments": {},
   "cell_type": "markdown",
   "metadata": {},
   "source": [
    "isAlive() --->\n",
    "- It is a method used to determine whether a thread is currntly executing or had finished its execution."
   ]
  },
  {
   "cell_type": "markdown",
   "metadata": {},
   "source": [
    "# Question 4"
   ]
  },
  {
   "cell_type": "code",
   "execution_count": 33,
   "metadata": {},
   "outputs": [],
   "source": [
    "\n",
    "def sqlst(n):\n",
    "    for i in range(n):\n",
    "        print(\"The square of {}\".format(i**2))\n",
    "        \n",
    "    \n",
    "def cubelst(n):\n",
    "    for i in range(n):\n",
    "        print(\"The cube of {}\".format(i**3))\n",
    "        "
   ]
  },
  {
   "cell_type": "code",
   "execution_count": 34,
   "metadata": {},
   "outputs": [],
   "source": [
    "n = int(input())\n",
    "import threading \n",
    "\n",
    "thread1 = [threading.Thread(target=sqlst,args=(i,)) for i in range(n)]\n",
    "thread2 = [threading.Thread(target=cubelst,args= (i,)) for i in range(n)]\n",
    "\n",
    "\n",
    "    "
   ]
  },
  {
   "cell_type": "code",
   "execution_count": 35,
   "metadata": {},
   "outputs": [
    {
     "name": "stdout",
     "output_type": "stream",
     "text": [
      "Thread1 is starting\n",
      "Thread1 is starting\n",
      "The square of 0\n",
      "Thread1 is starting\n",
      "The square of 0\n",
      "The square of 1\n",
      "Thread1 is starting\n",
      "The square of 0\n",
      "The square of 1\n",
      "The square of 4\n",
      "Thread1 is starting\n",
      "The square of 0\n",
      "The square of 1\n",
      "The square of 4\n",
      "The square of 9\n"
     ]
    }
   ],
   "source": [
    "for i in thread1:\n",
    "    print(\"Thread1 is starting\")\n",
    "    i.start()"
   ]
  },
  {
   "cell_type": "code",
   "execution_count": 36,
   "metadata": {},
   "outputs": [
    {
     "name": "stdout",
     "output_type": "stream",
     "text": [
      "Thread2 is starting\n",
      "Thread2 is starting\n",
      "The cube of 0\n",
      "Thread2 is starting\n",
      "The cube of 0\n",
      "The cube of 1\n",
      "Thread2 is starting\n",
      "The cube of 0\n",
      "The cube of 1\n",
      "The cube of 8\n",
      "Thread2 is starting\n",
      "The cube of 0\n",
      "The cube of 1\n",
      "The cube of 8\n",
      "The cube of 27\n"
     ]
    }
   ],
   "source": [
    "for i in thread2:\n",
    "    print(\"Thread2 is starting\")\n",
    "    i.start()"
   ]
  },
  {
   "cell_type": "markdown",
   "metadata": {},
   "source": [
    "# Question 5"
   ]
  },
  {
   "attachments": {},
   "cell_type": "markdown",
   "metadata": {},
   "source": [
    "#### Advantages of multithreading."
   ]
  },
  {
   "attachments": {},
   "cell_type": "markdown",
   "metadata": {},
   "source": [
    "- It allows multiple tasks to be executed at the same time.\n",
    "- It allows the CPU to utilize itself at max level.\n",
    "- It can help us to break a larger program into smaller programs."
   ]
  },
  {
   "attachments": {},
   "cell_type": "markdown",
   "metadata": {},
   "source": [
    "#### Disadvantages of multithreading."
   ]
  },
  {
   "attachments": {},
   "cell_type": "markdown",
   "metadata": {},
   "source": [
    "- It increases the memory usage.\n",
    "- It makes difficult to manage shared resources.\n",
    "- In python it is not scalable because of GIL (Global Interpreter Lock)."
   ]
  },
  {
   "attachments": {},
   "cell_type": "markdown",
   "metadata": {},
   "source": [
    "# Question 6"
   ]
  },
  {
   "attachments": {},
   "cell_type": "markdown",
   "metadata": {},
   "source": [
    "Deadlock :\n",
    "- It is a situation where two or more threads are blocked waiting for the other to release a resource.\n",
    "- It can occure when multiple threads are trying to access shared resources without proper synchronization.\n",
    "\n",
    "Race condition:\n",
    "- It occurs when multiple threads access a shared resource in an unpredictable order.\n",
    "- For example if two thread are trying to modify the same variable at the same time, the resulting value of the variable may depends on the order in which the threads execute."
   ]
  },
  {
   "attachments": {},
   "cell_type": "markdown",
   "metadata": {},
   "source": [
    "# END"
   ]
  }
 ],
 "metadata": {
  "kernelspec": {
   "display_name": "Python 3",
   "language": "python",
   "name": "python3"
  },
  "language_info": {
   "codemirror_mode": {
    "name": "ipython",
    "version": 3
   },
   "file_extension": ".py",
   "mimetype": "text/x-python",
   "name": "python",
   "nbconvert_exporter": "python",
   "pygments_lexer": "ipython3",
   "version": "3.11.0"
  },
  "orig_nbformat": 4
 },
 "nbformat": 4,
 "nbformat_minor": 2
}
