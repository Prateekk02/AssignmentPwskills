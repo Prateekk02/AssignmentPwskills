{
 "cells": [
  {
   "cell_type": "markdown",
   "id": "7b4af73f-ae8e-4574-92e4-2222636c31e2",
   "metadata": {},
   "source": [
    "# Question 1"
   ]
  },
  {
   "cell_type": "code",
   "execution_count": 46,
   "id": "dcd58c88-9782-4aa0-adee-00a3e0e368ea",
   "metadata": {},
   "outputs": [],
   "source": [
    "class vehicle: \n",
    "    def __init__(self,name_of_vehicle, max_speed, average_of_vehicle):\n",
    "        self.name_of_vehicle = name_of_vehicle\n",
    "        self.max_speed = max_speed\n",
    "        self.average_of_vehicle = average_of_vehicle\n",
    "    def show_name(self):\n",
    "        return (self.name_of_vehicle)\n",
    "    def show_max_speed(self):\n",
    "        return (self.max_speed)\n",
    "    def show_average(self):\n",
    "        return (self.average_of_vehicle)"
   ]
  },
  {
   "cell_type": "code",
   "execution_count": 26,
   "id": "5b8beb9a-92b1-403f-912a-2b04f6fa477d",
   "metadata": {},
   "outputs": [],
   "source": [
    "obj = vehicle('Fortuner', 190, 8)"
   ]
  },
  {
   "cell_type": "code",
   "execution_count": 27,
   "id": "f729267a-0cc2-4b6b-874c-80c792aeb01c",
   "metadata": {},
   "outputs": [
    {
     "data": {
      "text/plain": [
       "'Fortuner'"
      ]
     },
     "execution_count": 27,
     "metadata": {},
     "output_type": "execute_result"
    }
   ],
   "source": [
    "obj.show_name()"
   ]
  },
  {
   "cell_type": "code",
   "execution_count": 28,
   "id": "c8562dfa-9754-4075-a12b-b1e2761ff54c",
   "metadata": {},
   "outputs": [
    {
     "data": {
      "text/plain": [
       "190"
      ]
     },
     "execution_count": 28,
     "metadata": {},
     "output_type": "execute_result"
    }
   ],
   "source": [
    "obj.show_max_speed()"
   ]
  },
  {
   "cell_type": "code",
   "execution_count": 30,
   "id": "48050834-ca4e-41b7-9b02-9b77148c79ef",
   "metadata": {},
   "outputs": [
    {
     "data": {
      "text/plain": [
       "8"
      ]
     },
     "execution_count": 30,
     "metadata": {},
     "output_type": "execute_result"
    }
   ],
   "source": [
    "obj.show_average()"
   ]
  },
  {
   "cell_type": "markdown",
   "id": "29280c75-26a3-4b22-a2d9-96b5e2cc36b7",
   "metadata": {},
   "source": [
    "# Question 2"
   ]
  },
  {
   "cell_type": "code",
   "execution_count": 69,
   "id": "30c607f3-52b4-424b-b915-77e3da9bf07d",
   "metadata": {},
   "outputs": [],
   "source": [
    "class Car(vehicle):\n",
    "    def seating_capacity(self, capacity):\n",
    "        self.capacity = capacity\n",
    "        return self.capacity , vehicle.show_name(self)"
   ]
  },
  {
   "cell_type": "code",
   "execution_count": 70,
   "id": "ce0c2e84-1778-40ef-84b8-8318a78618b5",
   "metadata": {},
   "outputs": [],
   "source": [
    "obj2 = Car('Fortuner', 190, 8)"
   ]
  },
  {
   "cell_type": "code",
   "execution_count": 71,
   "id": "7a436de7-6d12-4165-b868-054e199c8431",
   "metadata": {},
   "outputs": [
    {
     "data": {
      "text/plain": [
       "(5, 'Fortuner')"
      ]
     },
     "execution_count": 71,
     "metadata": {},
     "output_type": "execute_result"
    }
   ],
   "source": [
    "obj2.seating_capacity(5)"
   ]
  },
  {
   "cell_type": "markdown",
   "id": "bb0c905d-1a5b-494b-b24d-0b3fad6686cf",
   "metadata": {},
   "source": [
    "# Question 3"
   ]
  },
  {
   "cell_type": "markdown",
   "id": "62f84aee-7c5e-4b94-82ff-3e88d1e73d46",
   "metadata": {},
   "source": [
    "<b>Multiple Inheritance</b> : It is a kind of inheritance where a derived class has more than one parent class. "
   ]
  },
  {
   "cell_type": "markdown",
   "id": "464ba1b0-f3ce-4cb3-979a-d71ed9e766e4",
   "metadata": {},
   "source": [
    "For Example:-"
   ]
  },
  {
   "cell_type": "code",
   "execution_count": 76,
   "id": "343ade0a-e631-4dcf-a7cc-2696112f6f43",
   "metadata": {},
   "outputs": [],
   "source": [
    "class Obiwan:\n",
    "    \n",
    "    def lightsaber(self):\n",
    "        print(\"Got Lightsaber duel technique from Obiwan\")\n",
    "class Yoda:\n",
    "    \n",
    "    def force(self):\n",
    "        print(\"Got force training from Yoda\")\n",
    "        \n",
    "class Lukeskywalker(Obiwan, Yoda):\n",
    "    pass"
   ]
  },
  {
   "cell_type": "code",
   "execution_count": 77,
   "id": "50ebcd98-117e-4781-b5c0-13645dfd0679",
   "metadata": {},
   "outputs": [],
   "source": [
    "skills = Lukeskywalker()"
   ]
  },
  {
   "cell_type": "code",
   "execution_count": 78,
   "id": "1b0ea41d-bf61-4a6e-b09c-1b83fe30b2c6",
   "metadata": {},
   "outputs": [
    {
     "name": "stdout",
     "output_type": "stream",
     "text": [
      "Got force training from Yoda\n"
     ]
    }
   ],
   "source": [
    "skills.force()"
   ]
  },
  {
   "cell_type": "code",
   "execution_count": 79,
   "id": "eccea46a-a9e9-4f95-bd51-b8c02bff1a2d",
   "metadata": {},
   "outputs": [
    {
     "name": "stdout",
     "output_type": "stream",
     "text": [
      "Got Lightsaber duel technique from Obiwan\n"
     ]
    }
   ],
   "source": [
    "skills.lightsaber()"
   ]
  },
  {
   "cell_type": "markdown",
   "id": "4f6a2072-5c1c-4b3b-8c35-d5862e2b4428",
   "metadata": {},
   "source": [
    "- Clearly, from the above example the class Lukeskywalker inherits properties of class Obiwan and class Yoda"
   ]
  },
  {
   "cell_type": "markdown",
   "id": "e3c93845-9862-4393-b188-999585843dce",
   "metadata": {},
   "source": [
    "# Question 4"
   ]
  },
  {
   "cell_type": "markdown",
   "id": "ec290c9c-41ec-4c40-a37b-b530796a1a89",
   "metadata": {},
   "source": [
    "getter and setter are the methods which are used to get or set the values of a private members in a class."
   ]
  },
  {
   "cell_type": "markdown",
   "id": "7e35f88f-34d9-4111-8001-496248488cae",
   "metadata": {},
   "source": [
    "For Example: -"
   ]
  },
  {
   "cell_type": "code",
   "execution_count": 81,
   "id": "8bb98b19-4d47-4a8c-aece-d7e2269d7da7",
   "metadata": {},
   "outputs": [],
   "source": [
    "class vader:\n",
    "    \n",
    "    def __init__(self, lightsaber_stren, damage):\n",
    "        self.__lightsaber_stren = lightsaber_stren\n",
    "        self.__damage = damage\n",
    "        \n",
    "    def set_lightsaber(self, lightsaber):\n",
    "        self.__lightsaber_stren = lightsaber\n",
    "    def set_damage(self, damage):\n",
    "        self.__damage = damage\n",
    "    def get_details(self):\n",
    "        return (self.__lightsaber_stren, self.__damage)"
   ]
  },
  {
   "cell_type": "code",
   "execution_count": 82,
   "id": "be046982-3304-493a-80b7-83d873a08058",
   "metadata": {},
   "outputs": [],
   "source": [
    "fight = vader(958, 48) "
   ]
  },
  {
   "cell_type": "code",
   "execution_count": 83,
   "id": "aab5a2c0-ab26-41b2-a792-4be9158d49f1",
   "metadata": {},
   "outputs": [
    {
     "data": {
      "text/plain": [
       "(958, 48)"
      ]
     },
     "execution_count": 83,
     "metadata": {},
     "output_type": "execute_result"
    }
   ],
   "source": [
    "fight.get_details()"
   ]
  },
  {
   "cell_type": "code",
   "execution_count": 84,
   "id": "fbd2857d-8582-4016-bb7a-1b380dbcf318",
   "metadata": {},
   "outputs": [],
   "source": [
    "fight.set_damage(0)"
   ]
  },
  {
   "cell_type": "code",
   "execution_count": 85,
   "id": "2c92f051-13e3-4b03-85e9-053bf1ce8210",
   "metadata": {},
   "outputs": [],
   "source": [
    "fight.set_lightsaber(1000)"
   ]
  },
  {
   "cell_type": "code",
   "execution_count": 86,
   "id": "c99373b4-90f1-465e-a122-2c34dc7bb5f5",
   "metadata": {},
   "outputs": [
    {
     "data": {
      "text/plain": [
       "(1000, 0)"
      ]
     },
     "execution_count": 86,
     "metadata": {},
     "output_type": "execute_result"
    }
   ],
   "source": [
    "fight.get_details()"
   ]
  },
  {
   "cell_type": "markdown",
   "id": "6d3d2fde-4e81-4d1d-9004-c70763995151",
   "metadata": {},
   "source": [
    "# Question 5"
   ]
  },
  {
   "cell_type": "markdown",
   "id": "5aae7590-9935-4660-a91d-83aa5c854c39",
   "metadata": {},
   "source": [
    "method overriding in python is a way where member funciton of child class overrides the meember function of parent class"
   ]
  },
  {
   "cell_type": "markdown",
   "id": "2161a13e-eff9-4eda-ae2c-02e45698af5f",
   "metadata": {},
   "source": [
    "For Example:-"
   ]
  },
  {
   "cell_type": "code",
   "execution_count": 88,
   "id": "9f33542f-f0cd-48c1-af8a-34d644d9d5f2",
   "metadata": {},
   "outputs": [],
   "source": [
    "class Anakin:\n",
    "    \n",
    "    def quality(self):\n",
    "        print(\"Sith lord , evil\")\n",
    "        \n",
    "class Luke:\n",
    "    \n",
    "    def quality(self):\n",
    "        print(\"Jedi , good\")"
   ]
  },
  {
   "cell_type": "code",
   "execution_count": 92,
   "id": "9b135e37-b429-4f08-bb92-d6bf04db90c6",
   "metadata": {},
   "outputs": [],
   "source": [
    "Sith = Anakin()"
   ]
  },
  {
   "cell_type": "code",
   "execution_count": 93,
   "id": "105932ec-41ee-47d9-bd2d-4d3f3bec2ac8",
   "metadata": {},
   "outputs": [],
   "source": [
    "Jedi = Luke()"
   ]
  },
  {
   "cell_type": "code",
   "execution_count": 94,
   "id": "b13f56a1-6eed-4e02-9c9f-0763d688237a",
   "metadata": {},
   "outputs": [
    {
     "name": "stdout",
     "output_type": "stream",
     "text": [
      "Sith lord , evil\n"
     ]
    }
   ],
   "source": [
    "Sith.quality()"
   ]
  },
  {
   "cell_type": "code",
   "execution_count": 95,
   "id": "65a42511-9686-4fb4-878e-618a128fa034",
   "metadata": {},
   "outputs": [
    {
     "name": "stdout",
     "output_type": "stream",
     "text": [
      "Jedi , good\n"
     ]
    }
   ],
   "source": [
    "Jedi.quality()"
   ]
  },
  {
   "cell_type": "markdown",
   "id": "49bb2295-85df-4513-af8d-d4812ef7a0e2",
   "metadata": {},
   "source": [
    "- clearly, here quality() method is overridden in the child class."
   ]
  },
  {
   "cell_type": "markdown",
   "id": "1e495138-f863-420b-a462-4af1636af351",
   "metadata": {},
   "source": [
    "# END"
   ]
  }
 ],
 "metadata": {
  "kernelspec": {
   "display_name": "Python 3 (ipykernel)",
   "language": "python",
   "name": "python3"
  },
  "language_info": {
   "codemirror_mode": {
    "name": "ipython",
    "version": 3
   },
   "file_extension": ".py",
   "mimetype": "text/x-python",
   "name": "python",
   "nbconvert_exporter": "python",
   "pygments_lexer": "ipython3",
   "version": "3.10.8"
  }
 },
 "nbformat": 4,
 "nbformat_minor": 5
}
