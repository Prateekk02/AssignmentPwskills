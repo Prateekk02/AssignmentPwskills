{
 "cells": [
  {
   "cell_type": "markdown",
   "id": "d46abd7d-343d-4d60-8a2f-6b2cd39ba907",
   "metadata": {},
   "source": [
    "#### Question 1"
   ]
  },
  {
   "cell_type": "code",
   "execution_count": 2,
   "id": "3a7d8fa9-580a-4ba1-9e92-2fa05f0bc587",
   "metadata": {},
   "outputs": [],
   "source": [
    "l = [('Sachin Tendulkar', 34357), ('Ricky Pointing', 27483), ('Jack Kallis', 25534), ('Virat Kohli', 24936)]"
   ]
  },
  {
   "cell_type": "code",
   "execution_count": 5,
   "id": "fa2814b7-00cf-4bce-b7aa-66da3038b860",
   "metadata": {},
   "outputs": [
    {
     "name": "stdout",
     "output_type": "stream",
     "text": [
      "[('Virat Kohli', 24936), ('Jack Kallis', 25534), ('Ricky Pointing', 27483), ('Sachin Tendulkar', 34357)]\n"
     ]
    }
   ],
   "source": [
    "l1 = sorted(l, key = lambda x : x[1])\n",
    "print(l1)"
   ]
  },
  {
   "cell_type": "markdown",
   "id": "c3d2642c-dcbf-4056-8c85-ba2635b5c07a",
   "metadata": {},
   "source": [
    "#### Question 2"
   ]
  },
  {
   "cell_type": "code",
   "execution_count": 10,
   "id": "09e3a8c5-0c7e-4f99-90dd-ba5f1efd2717",
   "metadata": {},
   "outputs": [
    {
     "data": {
      "text/plain": [
       "[1, 4, 9, 16, 25, 36, 49, 64, 81, 100]"
      ]
     },
     "execution_count": 10,
     "metadata": {},
     "output_type": "execute_result"
    }
   ],
   "source": [
    "l1 = [1,2,3,4,5,6,7,8,9,10]\n",
    "list(map(lambda x : x**2 , l1))"
   ]
  },
  {
   "cell_type": "markdown",
   "id": "c47bf9ea-34a3-4e4a-a2f6-4b9837a3c72f",
   "metadata": {},
   "source": [
    "#### Question 3"
   ]
  },
  {
   "cell_type": "code",
   "execution_count": 11,
   "id": "62662bb9-5146-4528-a5ab-b8f6fc61192b",
   "metadata": {},
   "outputs": [
    {
     "data": {
      "text/plain": [
       "('1', '2', '3', '4', '5', '6', '7', '8', '9', '10')"
      ]
     },
     "execution_count": 11,
     "metadata": {},
     "output_type": "execute_result"
    }
   ],
   "source": [
    "l2 = [1,2,3,4,5,6,7,8,9,10]\n",
    "tuple(map(lambda x : str(x), l2))"
   ]
  },
  {
   "cell_type": "markdown",
   "id": "0212019e-ba97-439b-8285-d3e99344caeb",
   "metadata": {},
   "source": [
    "#### Question 4"
   ]
  },
  {
   "cell_type": "code",
   "execution_count": 15,
   "id": "0e1295e6-689d-4118-bc62-f8ab8f11de69",
   "metadata": {},
   "outputs": [
    {
     "data": {
      "text/plain": [
       "15511210043330985984000000"
      ]
     },
     "execution_count": 15,
     "metadata": {},
     "output_type": "execute_result"
    }
   ],
   "source": [
    "l3 = [i for i in range(1,26)]\n",
    "from functools import reduce\n",
    "reduce(lambda x,y: x*y,l3)"
   ]
  },
  {
   "cell_type": "markdown",
   "id": "bd6faf64-99d3-4d7c-b261-110562bb7154",
   "metadata": {},
   "source": [
    "#### Question 5"
   ]
  },
  {
   "cell_type": "code",
   "execution_count": 20,
   "id": "90bc65ab-b771-42a5-987e-1c06180a6985",
   "metadata": {},
   "outputs": [
    {
     "data": {
      "text/plain": [
       "[6, 60, 90, 120]"
      ]
     },
     "execution_count": 20,
     "metadata": {},
     "output_type": "execute_result"
    }
   ],
   "source": [
    "l4 = [2,3,6,9,27,60,90,120,55,46]\n",
    "list(filter(lambda x : (x%2==0 and x%3==0),l4))"
   ]
  },
  {
   "cell_type": "markdown",
   "id": "d3db7088-836b-4a6b-a5df-592537e26c6b",
   "metadata": {},
   "source": [
    "#### Question 6"
   ]
  },
  {
   "cell_type": "code",
   "execution_count": 30,
   "id": "dd13ef63-7b1f-479e-9fe4-bf15f81b8f85",
   "metadata": {},
   "outputs": [
    {
     "data": {
      "text/plain": [
       "['php', 'aba', 'radar', 'level']"
      ]
     },
     "execution_count": 30,
     "metadata": {},
     "output_type": "execute_result"
    }
   ],
   "source": [
    "str = ['python', 'php', 'aba', 'radar', 'level']\n",
    "list(filter(lambda x : x[::] == x[::-1] , str))"
   ]
  },
  {
   "cell_type": "markdown",
   "id": "e5410d2c-c0a2-4bf2-8d07-defd31365ccb",
   "metadata": {},
   "source": [
    "# END"
   ]
  }
 ],
 "metadata": {
  "kernelspec": {
   "display_name": "Python 3 (ipykernel)",
   "language": "python",
   "name": "python3"
  },
  "language_info": {
   "codemirror_mode": {
    "name": "ipython",
    "version": 3
   },
   "file_extension": ".py",
   "mimetype": "text/x-python",
   "name": "python",
   "nbconvert_exporter": "python",
   "pygments_lexer": "ipython3",
   "version": "3.10.8"
  }
 },
 "nbformat": 4,
 "nbformat_minor": 5
}
