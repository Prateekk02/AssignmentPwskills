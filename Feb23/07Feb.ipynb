{
 "cells": [
  {
   "cell_type": "markdown",
   "id": "825130ab-863d-4519-a198-3ba57f74e484",
   "metadata": {},
   "source": [
    "# Question 1"
   ]
  },
  {
   "cell_type": "code",
   "execution_count": 15,
   "id": "73291bbb-d420-4cd4-b1a8-e3c22ce993eb",
   "metadata": {},
   "outputs": [],
   "source": [
    "\n",
    "def checkPass(s):\n",
    "    up,ll,no,schr = 0,0,0,0\n",
    "    for i in s:\n",
    "        if i.isupper():\n",
    "            up +=1\n",
    "        elif i.islower():\n",
    "            ll+=1\n",
    "        elif i.isnumeric():\n",
    "            no+=1\n",
    "        elif not i.isalnum():\n",
    "            schr+=1\n",
    "    if up>=2 and ll >=2 and len(s) == 10 and no>=1 and schr>=3:\n",
    "        print(\"Valid Password\")\n",
    "    else:\n",
    "        print(\"Invalid Password\")"
   ]
  },
  {
   "cell_type": "code",
   "execution_count": 24,
   "id": "0267265a-d000-4104-861a-9d8bf83f52cc",
   "metadata": {},
   "outputs": [
    {
     "name": "stdin",
     "output_type": "stream",
     "text": [
      " #%^6PppP45\n"
     ]
    },
    {
     "name": "stdout",
     "output_type": "stream",
     "text": [
      "Valid Password\n"
     ]
    }
   ],
   "source": [
    "s = input()\n",
    "checkPass(s)"
   ]
  },
  {
   "cell_type": "code",
   "execution_count": 25,
   "id": "026798a7-384e-4058-b36e-2eb33459a994",
   "metadata": {},
   "outputs": [
    {
     "name": "stdin",
     "output_type": "stream",
     "text": [
      " #prawjkefn4\n"
     ]
    },
    {
     "name": "stdout",
     "output_type": "stream",
     "text": [
      "Invalid Password\n"
     ]
    }
   ],
   "source": [
    "s2 = input()\n",
    "checkPass(s2)"
   ]
  },
  {
   "cell_type": "markdown",
   "id": "f3d9d8fa-5ca6-49aa-a1c3-2778da5b001f",
   "metadata": {},
   "source": [
    "# Question 2"
   ]
  },
  {
   "cell_type": "markdown",
   "id": "a516889f-d756-41aa-917d-3c26ce6674b7",
   "metadata": {},
   "source": [
    "- Check if the string starts with a particular letterY"
   ]
  },
  {
   "cell_type": "code",
   "execution_count": 29,
   "id": "eb398abd-dbd0-4a8c-8ed7-067eb46d3657",
   "metadata": {},
   "outputs": [
    {
     "name": "stdin",
     "output_type": "stream",
     "text": [
      "Enter the string Prateek\n",
      "Enter the particular letter p\n"
     ]
    },
    {
     "data": {
      "text/plain": [
       "False"
      ]
     },
     "execution_count": 29,
     "metadata": {},
     "output_type": "execute_result"
    }
   ],
   "source": [
    "s = input(\"Enter the string\")\n",
    "ch = input(\"Enter the particular letter\")\n",
    "x = lambda s,ch: s[0] == ch\n",
    "x(s,ch)"
   ]
  },
  {
   "cell_type": "markdown",
   "id": "3839fbb0-6143-4cb1-a27c-3afb52533549",
   "metadata": {},
   "source": [
    "- Check if the string is numericY"
   ]
  },
  {
   "cell_type": "code",
   "execution_count": 32,
   "id": "71628471-f6a8-4021-bdb3-26df86994e78",
   "metadata": {},
   "outputs": [
    {
     "name": "stdin",
     "output_type": "stream",
     "text": [
      "Enter the string 123kwdkfj\n"
     ]
    },
    {
     "data": {
      "text/plain": [
       "False"
      ]
     },
     "execution_count": 32,
     "metadata": {},
     "output_type": "execute_result"
    }
   ],
   "source": [
    "s1 = input(\"Enter the string\")\n",
    "x1 = lambda s1: s1.isnumeric()\n",
    "x1(s1)"
   ]
  },
  {
   "cell_type": "markdown",
   "id": "c6a23f70-05c1-4a71-b7f6-50737da36b48",
   "metadata": {},
   "source": [
    "- Sort a list of tuples having fruit names and their quantity. [(\"mango\",99),(\"orange\",80), (\"grapes\", 1000)-"
   ]
  },
  {
   "cell_type": "code",
   "execution_count": 48,
   "id": "1811bfe7-1a23-49ca-af86-e187d57cdf1d",
   "metadata": {},
   "outputs": [
    {
     "name": "stdout",
     "output_type": "stream",
     "text": [
      "[('orange', 80), ('mango', 99), ('grapes', 1000)]\n"
     ]
    }
   ],
   "source": [
    "s2 = [(\"mango\",99),(\"orange\",80), (\"grapes\", 1000)]\n",
    "\n",
    "lst = sorted(s2, key = lambda s2:s2[1])\n",
    "print(lst)"
   ]
  },
  {
   "cell_type": "markdown",
   "id": "cc991184-2bcf-4094-ba72-2b7d22030424",
   "metadata": {},
   "source": [
    "- Find the squares of numbers from 1 to 10"
   ]
  },
  {
   "cell_type": "code",
   "execution_count": 58,
   "id": "d4e77bf2-c3ae-4f98-b73d-fc1b855cf9a8",
   "metadata": {},
   "outputs": [
    {
     "data": {
      "text/plain": [
       "[1, 4, 9, 16, 25, 36, 49, 64, 81, 100]"
      ]
     },
     "execution_count": 58,
     "metadata": {},
     "output_type": "execute_result"
    }
   ],
   "source": [
    "l = list(range(1,11))\n",
    "list(map(lambda x: x**2, l))"
   ]
  },
  {
   "cell_type": "markdown",
   "id": "d130f703-6798-4a42-9b89-697f6389db25",
   "metadata": {},
   "source": [
    "- Find the cube root of numbers from 1 to 10"
   ]
  },
  {
   "cell_type": "code",
   "execution_count": 60,
   "id": "c599e0a6-babe-445e-b4e7-868614ae16fd",
   "metadata": {},
   "outputs": [
    {
     "data": {
      "text/plain": [
       "[1, 8, 27, 64, 125, 216, 343, 512, 729, 1000]"
      ]
     },
     "execution_count": 60,
     "metadata": {},
     "output_type": "execute_result"
    }
   ],
   "source": [
    "l1 = list(range(1,11))\n",
    "list(map(lambda x:x**3,l1))"
   ]
  },
  {
   "cell_type": "markdown",
   "id": "56568f30-3fd5-41d0-b271-d554540dce29",
   "metadata": {},
   "source": [
    "- Check if a given number is even."
   ]
  },
  {
   "cell_type": "code",
   "execution_count": 64,
   "id": "196d0ae4-0802-4cd4-85e4-e9b0c0558240",
   "metadata": {},
   "outputs": [
    {
     "name": "stdin",
     "output_type": "stream",
     "text": [
      " 8\n"
     ]
    },
    {
     "name": "stdout",
     "output_type": "stream",
     "text": [
      "Even\n"
     ]
    }
   ],
   "source": [
    "x = int(input())\n",
    "y = lambda x: x%2==0\n",
    "if y(x):\n",
    "    print(\"Even\")\n",
    "else:\n",
    "    print(\"Odd\")"
   ]
  },
  {
   "cell_type": "markdown",
   "id": "d51713d6-54a0-4b75-8162-517717a67c6d",
   "metadata": {},
   "source": [
    "- Filter odd numbers from the given list."
   ]
  },
  {
   "cell_type": "code",
   "execution_count": 79,
   "id": "f9359ee8-128c-46c3-8ca4-cb4089b2e62d",
   "metadata": {},
   "outputs": [
    {
     "name": "stdout",
     "output_type": "stream",
     "text": [
      "[1, 3, 5, 7, 9]\n"
     ]
    }
   ],
   "source": [
    "l2 = [1,2,3,4,5,6,7,8,9,10]\n",
    "l3 = list(filter(lambda x : x % 2!=0 , l2))\n",
    "print(l3)"
   ]
  },
  {
   "cell_type": "markdown",
   "id": "c8b59be7-11bd-4b80-bc2f-4520e68b8df0",
   "metadata": {},
   "source": [
    "- Sort a list of integers into positive and negative integers lists."
   ]
  },
  {
   "cell_type": "code",
   "execution_count": 6,
   "id": "f4cb32c8-0502-4cc7-8489-82f98fbffab2",
   "metadata": {},
   "outputs": [],
   "source": [
    "l = [1,2,3,4,5,6,-1,-2,-3,-4,-5,0]\n",
    "l1 = list(filter(lambda x : x>=0,l))\n",
    "l2 = list(filter(lambda x : x<0,l))"
   ]
  },
  {
   "cell_type": "code",
   "execution_count": 15,
   "id": "9bdba0da-9d31-4ceb-aa1b-dc5c3fae4de5",
   "metadata": {},
   "outputs": [],
   "source": [
    "l1 = sorted(l1)\n",
    "l2 = sorted(l2)"
   ]
  },
  {
   "cell_type": "code",
   "execution_count": 16,
   "id": "19b68adf-27c3-48a1-ac0b-21b61c7549db",
   "metadata": {},
   "outputs": [
    {
     "data": {
      "text/plain": [
       "[0, 1, 2, 3, 4, 5, 6]"
      ]
     },
     "execution_count": 16,
     "metadata": {},
     "output_type": "execute_result"
    }
   ],
   "source": [
    "l1"
   ]
  },
  {
   "cell_type": "code",
   "execution_count": 17,
   "id": "0fb0b3d0-c302-43f1-bc8d-65218502fb11",
   "metadata": {},
   "outputs": [
    {
     "data": {
      "text/plain": [
       "[-5, -4, -3, -2, -1]"
      ]
     },
     "execution_count": 17,
     "metadata": {},
     "output_type": "execute_result"
    }
   ],
   "source": [
    "l2"
   ]
  },
  {
   "cell_type": "markdown",
   "id": "bd580b36-6aca-41cf-b3cc-2c2fb2e2be39",
   "metadata": {},
   "source": [
    "# END"
   ]
  }
 ],
 "metadata": {
  "kernelspec": {
   "display_name": "Python 3 (ipykernel)",
   "language": "python",
   "name": "python3"
  },
  "language_info": {
   "codemirror_mode": {
    "name": "ipython",
    "version": 3
   },
   "file_extension": ".py",
   "mimetype": "text/x-python",
   "name": "python",
   "nbconvert_exporter": "python",
   "pygments_lexer": "ipython3",
   "version": "3.10.8"
  }
 },
 "nbformat": 4,
 "nbformat_minor": 5
}
