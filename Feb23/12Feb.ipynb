{
 "cells": [
  {
   "cell_type": "markdown",
   "id": "70955788-edba-48e0-b079-bace60020db1",
   "metadata": {},
   "source": [
    "# Question 1"
   ]
  },
  {
   "cell_type": "markdown",
   "id": "02a7db8a-2f19-4cca-8ed7-306dfb2c49e3",
   "metadata": {},
   "source": [
    "Exceptions are the events which occure during the course of execution of a program which is capable of disturbing the normal flow of the program. Hence a programmer is required to properly handle such kind of exceptions."
   ]
  },
  {
   "cell_type": "markdown",
   "id": "903243ad-46ec-4adf-8092-439323135338",
   "metadata": {},
   "source": [
    "Exception occure during run time while as syntax errors occure in compile time."
   ]
  },
  {
   "cell_type": "markdown",
   "id": "525e93e7-57b7-42b8-a1b4-5c4c09a88fab",
   "metadata": {},
   "source": [
    "Once the program is running all the syntax errors can be resolved because in such case compiler or the interpreter raise an error but in case of exception it might be known or not known to a programmer and it has a potential to crash a program during its run time hence compromising the whole software."
   ]
  },
  {
   "cell_type": "markdown",
   "id": "f5b88d27-1a7f-415b-85e8-94410d38020a",
   "metadata": {},
   "source": [
    "# Question 2"
   ]
  },
  {
   "cell_type": "markdown",
   "id": "72cf6499-154b-4353-8c3e-402c7201450e",
   "metadata": {},
   "source": [
    "- If exception is not handled then say for example in a software has a part of program having potential to produce and error then that part of program can compromise whole software."
   ]
  },
  {
   "cell_type": "markdown",
   "id": "e28910db-7188-48ee-aad4-4c6859c12d4e",
   "metadata": {},
   "source": [
    "- For example if a part of program requires a file but during the execution of the software if the file is not found at that place then that part of program will give an error thus compromising whole software.\n"
   ]
  },
  {
   "cell_type": "markdown",
   "id": "87c7fe50-bb19-430c-bce7-fede5a31c845",
   "metadata": {},
   "source": [
    "- A way around such case is to use exceptional handling, we put the part of program in try block if the file is not found then we will raise an exception and bring the software to a proper saturation point so as to fix the raised exception rather than software getting crashed because of that program."
   ]
  },
  {
   "cell_type": "code",
   "execution_count": 1,
   "id": "90b81464-7988-4b77-b8c6-b0b8aa25478f",
   "metadata": {},
   "outputs": [],
   "source": [
    "import logging\n",
    "logging.basicConfig(filename=\"excep_handling1.log\", level = logging.DEBUG, format = '%(asctime)s %(message)s')"
   ]
  },
  {
   "cell_type": "code",
   "execution_count": 3,
   "id": "c01d84c0-9d57-474c-a6e8-516c72116fe3",
   "metadata": {},
   "outputs": [
    {
     "name": "stdin",
     "output_type": "stream",
     "text": [
      "Enter a number to divide a number by 100 0\n"
     ]
    },
    {
     "name": "stdout",
     "output_type": "stream",
     "text": [
      "division by zero\n",
      "End of program\n"
     ]
    }
   ],
   "source": [
    "# For Example\n",
    "try:\n",
    "    var = int(input(\"Enter a number to divide a number by 100\"))\n",
    "    res = 100/var\n",
    "    logging.info(res)\n",
    "    print(res)\n",
    "except ZeroDivisionError as e:\n",
    "    logging.error(e)\n",
    "    print(e)\n",
    "finally:\n",
    "    print(\"End of program\")"
   ]
  },
  {
   "cell_type": "markdown",
   "id": "358cb4dd-e4df-453d-9b5b-a78528e3fc11",
   "metadata": {},
   "source": [
    "- If this program is a part of a software and it require the input from user and if by mistake user input 0 then instead of crashing the software it will raise an error."
   ]
  },
  {
   "cell_type": "markdown",
   "id": "78c59344-0e48-4f34-bfa8-7883413013f2",
   "metadata": {},
   "source": [
    "# Question 3"
   ]
  },
  {
   "cell_type": "markdown",
   "id": "395aa40d-ae7b-4a95-949c-23a326267e5e",
   "metadata": {},
   "source": [
    "except block basically catches the error thus it is used to handle the exception."
   ]
  },
  {
   "cell_type": "code",
   "execution_count": 4,
   "id": "ea1e172b-bae6-44b4-8953-f83ed526f946",
   "metadata": {},
   "outputs": [
    {
     "name": "stdout",
     "output_type": "stream",
     "text": [
      "[Errno 2] No such file or directory: 'test.txt'\n"
     ]
    }
   ],
   "source": [
    "# For example\n",
    "try:\n",
    "    with open('test.txt', 'r') as f:\n",
    "        f.write(\"Random lines here\\n\")\n",
    "        f.close()\n",
    "except FileNotFoundError as e:\n",
    "    logging.error(e)\n",
    "    print(e)"
   ]
  },
  {
   "cell_type": "markdown",
   "id": "d16587b8-00af-4493-aa34-bde6ba2ec0b1",
   "metadata": {},
   "source": [
    "Here except block catches the error."
   ]
  },
  {
   "cell_type": "markdown",
   "id": "8ff57c14-eeb3-463a-9541-489ac36c3ec7",
   "metadata": {},
   "source": [
    "# Question 4"
   ]
  },
  {
   "cell_type": "markdown",
   "id": "82adb388-5267-42e8-9d08-30d95bc88183",
   "metadata": {},
   "source": [
    "- try and else"
   ]
  },
  {
   "cell_type": "markdown",
   "id": "b17bd367-1483-4ec8-898c-1ae0b1d0652d",
   "metadata": {},
   "source": [
    "In this once the try block is successfully executed then only the else block gets executed."
   ]
  },
  {
   "cell_type": "code",
   "execution_count": 9,
   "id": "57162d1b-d317-4039-92f0-74374d3f3643",
   "metadata": {},
   "outputs": [
    {
     "name": "stdin",
     "output_type": "stream",
     "text": [
      "Enter the no. 100\n"
     ]
    },
    {
     "name": "stdout",
     "output_type": "stream",
     "text": [
      "10.0\n",
      "Code Executed successfully\n"
     ]
    }
   ],
   "source": [
    "try:\n",
    "    var1 = int(input(\"Enter the no.\"))\n",
    "    print(1000/var1)\n",
    "    logging.info(1000/var1)\n",
    "except ZeroDivisionError as e:\n",
    "    print(e)\n",
    "    logging.warning(e)\n",
    "else:\n",
    "    print(\"Code Executed successfully\")\n",
    "    logging.info(\"Code Executed sucessfully\")"
   ]
  },
  {
   "cell_type": "markdown",
   "id": "4c4698d3-d4b7-43e3-9e86-57cdc2be8a1b",
   "metadata": {},
   "source": [
    " In the above program try block gets successfully executed hence else block gets executed"
   ]
  },
  {
   "cell_type": "markdown",
   "id": "7e717af8-a43e-40b0-9f07-19cf096ee8ff",
   "metadata": {},
   "source": [
    "- finally"
   ]
  },
  {
   "cell_type": "markdown",
   "id": "e5b1ad46-4dbe-4d0f-b48f-eccfe0532a4f",
   "metadata": {},
   "source": [
    "This block is independent weather the try block gets executed or not, finally block will get executed."
   ]
  },
  {
   "cell_type": "code",
   "execution_count": 10,
   "id": "be8c6871-fdde-464b-a9e8-3a7fdb380fe3",
   "metadata": {},
   "outputs": [
    {
     "name": "stdin",
     "output_type": "stream",
     "text": [
      "Enter the no. 0\n"
     ]
    },
    {
     "name": "stdout",
     "output_type": "stream",
     "text": [
      "division by zero\n",
      "end of program\n"
     ]
    }
   ],
   "source": [
    "try:\n",
    "    var2 = int(input(\"Enter the no.\"))\n",
    "    print(1000/var2)\n",
    "    logging.info(1000/var2)\n",
    "except ZeroDivisionError as e:\n",
    "    print(e)\n",
    "    logging.warning(e)\n",
    "finally:\n",
    "    print(\"end of program\")\n",
    "    logging.info(\"End of program\")"
   ]
  },
  {
   "cell_type": "markdown",
   "id": "dac8df7f-d212-4631-91c7-a9df37ac009d",
   "metadata": {},
   "source": [
    "Even though the try block doesn't get executed but still finally block gets executed."
   ]
  },
  {
   "cell_type": "markdown",
   "id": "e7bcf70c-5748-4979-923f-673e8b28e7c7",
   "metadata": {},
   "source": [
    "- raise"
   ]
  },
  {
   "cell_type": "markdown",
   "id": "f566510e-78eb-4258-a26b-456c710d277a",
   "metadata": {},
   "source": [
    "raise is used to raise an exception and for a custom designed exception."
   ]
  },
  {
   "cell_type": "code",
   "execution_count": 11,
   "id": "23ca8c8f-f299-4163-b456-e8e1e89de16d",
   "metadata": {},
   "outputs": [],
   "source": [
    "# For example\n",
    "class validate(Exception):\n",
    "    def __init__(self, msg):\n",
    "        self.msg = msg"
   ]
  },
  {
   "cell_type": "code",
   "execution_count": 12,
   "id": "850759c0-9657-4f2a-af28-f37cbc6abbe4",
   "metadata": {},
   "outputs": [],
   "source": [
    "def validate(medichlor_count):\n",
    "    if medichlor_count > 27000:\n",
    "        logging.warning(\"Medichlor count can not be more than 27000\")\n",
    "        raise validate(\"Medichlor count can not be more than 27000\")\n",
    "    elif medichlor_count == 27000:\n",
    "        logging.warning(\"You cannot be Anakin\")\n",
    "        raise validate(\"You cannot be Anakin\")\n",
    "    else:\n",
    "        logging.info(\"You are force sensitive\")\n",
    "        print(\"You are force sensitive\")"
   ]
  },
  {
   "cell_type": "code",
   "execution_count": 15,
   "id": "cf5af9ab-c1a2-4d97-8103-6f9be6344e6f",
   "metadata": {},
   "outputs": [
    {
     "name": "stdin",
     "output_type": "stream",
     "text": [
      "Enter your medicholorian count 27000\n"
     ]
    },
    {
     "ename": "TypeError",
     "evalue": "catching classes that do not inherit from BaseException is not allowed",
     "output_type": "error",
     "traceback": [
      "\u001b[0;31m---------------------------------------------------------------------------\u001b[0m",
      "\u001b[0;31mTypeError\u001b[0m                                 Traceback (most recent call last)",
      "Cell \u001b[0;32mIn[15], line 3\u001b[0m\n\u001b[1;32m      2\u001b[0m     medi_count \u001b[38;5;241m=\u001b[39m \u001b[38;5;28mint\u001b[39m(\u001b[38;5;28minput\u001b[39m(\u001b[38;5;124m\"\u001b[39m\u001b[38;5;124mEnter your medicholorian count\u001b[39m\u001b[38;5;124m\"\u001b[39m))\n\u001b[0;32m----> 3\u001b[0m     \u001b[43mvalidate\u001b[49m\u001b[43m(\u001b[49m\u001b[43mmedi_count\u001b[49m\u001b[43m)\u001b[49m\n\u001b[1;32m      4\u001b[0m \u001b[38;5;28;01mexcept\u001b[39;00m validate \u001b[38;5;28;01mas\u001b[39;00m e:\n",
      "Cell \u001b[0;32mIn[12], line 7\u001b[0m, in \u001b[0;36mvalidate\u001b[0;34m(medichlor_count)\u001b[0m\n\u001b[1;32m      6\u001b[0m     logging\u001b[38;5;241m.\u001b[39mwarning(\u001b[38;5;124m\"\u001b[39m\u001b[38;5;124mYou cannot be Anakin\u001b[39m\u001b[38;5;124m\"\u001b[39m)\n\u001b[0;32m----> 7\u001b[0m     \u001b[38;5;28;01mraise\u001b[39;00m \u001b[43mvalidate\u001b[49m\u001b[43m(\u001b[49m\u001b[38;5;124;43m\"\u001b[39;49m\u001b[38;5;124;43mYou cannot be Anakin\u001b[39;49m\u001b[38;5;124;43m\"\u001b[39;49m\u001b[43m)\u001b[49m\n\u001b[1;32m      8\u001b[0m \u001b[38;5;28;01melse\u001b[39;00m:\n",
      "Cell \u001b[0;32mIn[12], line 2\u001b[0m, in \u001b[0;36mvalidate\u001b[0;34m(medichlor_count)\u001b[0m\n\u001b[1;32m      1\u001b[0m \u001b[38;5;28;01mdef\u001b[39;00m \u001b[38;5;21mvalidate\u001b[39m(medichlor_count):\n\u001b[0;32m----> 2\u001b[0m     \u001b[38;5;28;01mif\u001b[39;00m \u001b[43mmedichlor_count\u001b[49m\u001b[43m \u001b[49m\u001b[38;5;241;43m>\u001b[39;49m\u001b[43m \u001b[49m\u001b[38;5;241;43m27000\u001b[39;49m:\n\u001b[1;32m      3\u001b[0m         logging\u001b[38;5;241m.\u001b[39mwarning(\u001b[38;5;124m\"\u001b[39m\u001b[38;5;124mMedichlor count can not be more than 27000\u001b[39m\u001b[38;5;124m\"\u001b[39m)\n",
      "\u001b[0;31mTypeError\u001b[0m: '>' not supported between instances of 'str' and 'int'",
      "\nDuring handling of the above exception, another exception occurred:\n",
      "\u001b[0;31mTypeError\u001b[0m                                 Traceback (most recent call last)",
      "Cell \u001b[0;32mIn[15], line 4\u001b[0m\n\u001b[1;32m      2\u001b[0m     medi_count \u001b[38;5;241m=\u001b[39m \u001b[38;5;28mint\u001b[39m(\u001b[38;5;28minput\u001b[39m(\u001b[38;5;124m\"\u001b[39m\u001b[38;5;124mEnter your medicholorian count\u001b[39m\u001b[38;5;124m\"\u001b[39m))\n\u001b[1;32m      3\u001b[0m     validate(medi_count)\n\u001b[0;32m----> 4\u001b[0m \u001b[38;5;28;01mexcept\u001b[39;00m validate \u001b[38;5;28;01mas\u001b[39;00m e:\n\u001b[1;32m      5\u001b[0m     logging\u001b[38;5;241m.\u001b[39mwarning(e)\n\u001b[1;32m      6\u001b[0m     \u001b[38;5;28mprint\u001b[39m(e)\n",
      "\u001b[0;31mTypeError\u001b[0m: catching classes that do not inherit from BaseException is not allowed"
     ]
    }
   ],
   "source": [
    "try:\n",
    "    medi_count = int(input(\"Enter your medicholorian count\"))\n",
    "    validate(medi_count)\n",
    "except validate as e:\n",
    "    logging.warning(e)\n",
    "    print(e)"
   ]
  },
  {
   "cell_type": "markdown",
   "id": "7ebdfc27-55a5-4314-bd01-ac16bc636051",
   "metadata": {},
   "source": [
    "# Question 5"
   ]
  },
  {
   "cell_type": "markdown",
   "id": "e21ff11f-c483-49f6-8a26-348472b4e00f",
   "metadata": {},
   "source": [
    "Custom Exceptions are the Exception classes defined by the user according to their need."
   ]
  },
  {
   "cell_type": "markdown",
   "id": "6d858f88-157b-44fa-8f15-aa61223f9636",
   "metadata": {},
   "source": [
    "Many time for a perticular program the exception for a programmer might not be an exception for program.\n",
    "Hence in order to tackle these exception we use custom exception handle."
   ]
  },
  {
   "cell_type": "markdown",
   "id": "1fdbb9e3-d4f8-42bc-bd58-044bcf3726b6",
   "metadata": {},
   "source": [
    "For example in case of age if the age is less than 0 then of course it is an exception for user but perhaps not the case for program. Hence it is needed to handle this exception."
   ]
  },
  {
   "cell_type": "markdown",
   "id": "c339d795-5db0-4281-a97f-e37cf7eb5f5a",
   "metadata": {},
   "source": [
    "# Question 6"
   ]
  },
  {
   "cell_type": "code",
   "execution_count": 17,
   "id": "ea7d6a4a-fc38-47d5-951d-d856f52367cf",
   "metadata": {},
   "outputs": [],
   "source": [
    "# For example \n",
    "class check(Exception):\n",
    "    def __init__(self, msg):\n",
    "        self.msg = msg"
   ]
  },
  {
   "cell_type": "code",
   "execution_count": 18,
   "id": "2bf11bb5-dfd3-4f2b-8704-f4bf058675d4",
   "metadata": {},
   "outputs": [],
   "source": [
    "def check (age):\n",
    "    if age<0:\n",
    "        logging.warning(\"Entered age is negative\")\n",
    "        raise check(\"Entered age is negative\")\n",
    "    elif age>200:\n",
    "        logging.warning(\"Entered age is very large\")\n",
    "        raise check(\"Entered age is very large\")\n",
    "    else:\n",
    "        print(\"Age is valid\")\n",
    "        logging.info(\"Age is valid\")"
   ]
  },
  {
   "cell_type": "code",
   "execution_count": 20,
   "id": "4289fada-f496-4903-97cb-305763a73338",
   "metadata": {},
   "outputs": [
    {
     "name": "stdin",
     "output_type": "stream",
     "text": [
      "Enter your age 201\n"
     ]
    },
    {
     "ename": "TypeError",
     "evalue": "catching classes that do not inherit from BaseException is not allowed",
     "output_type": "error",
     "traceback": [
      "\u001b[0;31m---------------------------------------------------------------------------\u001b[0m",
      "\u001b[0;31mTypeError\u001b[0m                                 Traceback (most recent call last)",
      "Cell \u001b[0;32mIn[20], line 3\u001b[0m\n\u001b[1;32m      2\u001b[0m     age \u001b[38;5;241m=\u001b[39m \u001b[38;5;28mint\u001b[39m(\u001b[38;5;28minput\u001b[39m(\u001b[38;5;124m\"\u001b[39m\u001b[38;5;124mEnter your age\u001b[39m\u001b[38;5;124m\"\u001b[39m))\n\u001b[0;32m----> 3\u001b[0m     \u001b[43mcheck\u001b[49m\u001b[43m(\u001b[49m\u001b[43mage\u001b[49m\u001b[43m)\u001b[49m\n\u001b[1;32m      4\u001b[0m \u001b[38;5;28;01mexcept\u001b[39;00m check \u001b[38;5;28;01mas\u001b[39;00m e:\n",
      "Cell \u001b[0;32mIn[18], line 7\u001b[0m, in \u001b[0;36mcheck\u001b[0;34m(age)\u001b[0m\n\u001b[1;32m      6\u001b[0m     logging\u001b[38;5;241m.\u001b[39mwarning(\u001b[38;5;124m\"\u001b[39m\u001b[38;5;124mEntered age is very large\u001b[39m\u001b[38;5;124m\"\u001b[39m)\n\u001b[0;32m----> 7\u001b[0m     \u001b[38;5;28;01mraise\u001b[39;00m \u001b[43mcheck\u001b[49m\u001b[43m(\u001b[49m\u001b[38;5;124;43m\"\u001b[39;49m\u001b[38;5;124;43mEntered age is very large\u001b[39;49m\u001b[38;5;124;43m\"\u001b[39;49m\u001b[43m)\u001b[49m\n\u001b[1;32m      8\u001b[0m \u001b[38;5;28;01melse\u001b[39;00m:\n",
      "Cell \u001b[0;32mIn[18], line 2\u001b[0m, in \u001b[0;36mcheck\u001b[0;34m(age)\u001b[0m\n\u001b[1;32m      1\u001b[0m \u001b[38;5;28;01mdef\u001b[39;00m \u001b[38;5;21mcheck\u001b[39m (age):\n\u001b[0;32m----> 2\u001b[0m     \u001b[38;5;28;01mif\u001b[39;00m \u001b[43mage\u001b[49m\u001b[38;5;241;43m<\u001b[39;49m\u001b[38;5;241;43m0\u001b[39;49m:\n\u001b[1;32m      3\u001b[0m         logging\u001b[38;5;241m.\u001b[39mwarning(\u001b[38;5;124m\"\u001b[39m\u001b[38;5;124mEntered age is negative\u001b[39m\u001b[38;5;124m\"\u001b[39m)\n",
      "\u001b[0;31mTypeError\u001b[0m: '<' not supported between instances of 'str' and 'int'",
      "\nDuring handling of the above exception, another exception occurred:\n",
      "\u001b[0;31mTypeError\u001b[0m                                 Traceback (most recent call last)",
      "Cell \u001b[0;32mIn[20], line 4\u001b[0m\n\u001b[1;32m      2\u001b[0m     age \u001b[38;5;241m=\u001b[39m \u001b[38;5;28mint\u001b[39m(\u001b[38;5;28minput\u001b[39m(\u001b[38;5;124m\"\u001b[39m\u001b[38;5;124mEnter your age\u001b[39m\u001b[38;5;124m\"\u001b[39m))\n\u001b[1;32m      3\u001b[0m     check(age)\n\u001b[0;32m----> 4\u001b[0m \u001b[38;5;28;01mexcept\u001b[39;00m check \u001b[38;5;28;01mas\u001b[39;00m e:\n\u001b[1;32m      5\u001b[0m     logging\u001b[38;5;241m.\u001b[39mwarning(e)\n\u001b[1;32m      6\u001b[0m     \u001b[38;5;28mprint\u001b[39m(e)\n",
      "\u001b[0;31mTypeError\u001b[0m: catching classes that do not inherit from BaseException is not allowed"
     ]
    }
   ],
   "source": [
    "try: \n",
    "    age = int(input(\"Enter your age\"))\n",
    "    check(age)\n",
    "except check as e:\n",
    "    logging.warning(e)\n",
    "    print(e)"
   ]
  },
  {
   "cell_type": "markdown",
   "id": "45c2bc65-1b00-4898-baeb-34bad442b279",
   "metadata": {},
   "source": [
    "# END"
   ]
  }
 ],
 "metadata": {
  "kernelspec": {
   "display_name": "Python 3 (ipykernel)",
   "language": "python",
   "name": "python3"
  },
  "language_info": {
   "codemirror_mode": {
    "name": "ipython",
    "version": 3
   },
   "file_extension": ".py",
   "mimetype": "text/x-python",
   "name": "python",
   "nbconvert_exporter": "python",
   "pygments_lexer": "ipython3",
   "version": "3.10.8"
  }
 },
 "nbformat": 4,
 "nbformat_minor": 5
}
