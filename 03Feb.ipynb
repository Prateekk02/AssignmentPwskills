{
 "cells": [
  {
   "cell_type": "markdown",
   "id": "012ef75b-1ccf-4f0d-9b1c-34d45324a35e",
   "metadata": {},
   "source": [
    "#### Question 1"
   ]
  },
  {
   "cell_type": "markdown",
   "id": "3c9d2a6a-d903-486c-a7c0-2859908ca2be",
   "metadata": {},
   "source": [
    "def keyword is used to create a function."
   ]
  },
  {
   "cell_type": "code",
   "execution_count": 1,
   "id": "93ae281a-801f-4f13-8abc-71e32cdabf16",
   "metadata": {},
   "outputs": [],
   "source": [
    "def oddNos():\n",
    "    return [i for i in range(1,26) if i%2!=0]"
   ]
  },
  {
   "cell_type": "code",
   "execution_count": 2,
   "id": "8a454997-5eb7-48a7-848e-ab00203870c7",
   "metadata": {},
   "outputs": [
    {
     "data": {
      "text/plain": [
       "[1, 3, 5, 7, 9, 11, 13, 15, 17, 19, 21, 23, 25]"
      ]
     },
     "execution_count": 2,
     "metadata": {},
     "output_type": "execute_result"
    }
   ],
   "source": [
    "oddNos()"
   ]
  },
  {
   "cell_type": "markdown",
   "id": "0134392c-3d68-4bb1-a36e-1fe41e6ca338",
   "metadata": {},
   "source": [
    "#### Question 2"
   ]
  },
  {
   "cell_type": "markdown",
   "id": "c9563902-f847-495c-959a-af329646fd09",
   "metadata": {},
   "source": [
    "*args is used so as to input n number of arguments according to the need of programmer in a linear manner , while **kwargs is used to input n numbers of key value pairs according to the need of programmer."
   ]
  },
  {
   "cell_type": "code",
   "execution_count": 3,
   "id": "b59d21f0-8721-4208-87ab-0a9a8ef4c8b6",
   "metadata": {},
   "outputs": [],
   "source": [
    "# Example of *args\n",
    "def printValues(*args):\n",
    "    return[*args]           # print the feeded no. in a list manner.\n",
    "    "
   ]
  },
  {
   "cell_type": "code",
   "execution_count": 5,
   "id": "86c67399-c805-4a30-b47f-dc994d239158",
   "metadata": {},
   "outputs": [
    {
     "data": {
      "text/plain": [
       "[1, 2, 3, 4, 5, 6, 7]"
      ]
     },
     "execution_count": 5,
     "metadata": {},
     "output_type": "execute_result"
    }
   ],
   "source": [
    "printValues(1,2,3,4,5,6,7)"
   ]
  },
  {
   "cell_type": "code",
   "execution_count": 15,
   "id": "d6d7764a-470a-4bb3-8077-81cd6481096f",
   "metadata": {},
   "outputs": [],
   "source": [
    "# Example of *kwargs\n",
    "def printDict(**kwargs):\n",
    "    print(kwargs)\n"
   ]
  },
  {
   "cell_type": "code",
   "execution_count": 17,
   "id": "33b2b27e-8d7e-4f09-9944-65902982ffc4",
   "metadata": {},
   "outputs": [
    {
     "name": "stdout",
     "output_type": "stream",
     "text": [
      "{'a': [1, 2, 3, 4], 'b': 'prateek', 'c': 'kumar', 'd': 42.34} <class 'dict'>\n"
     ]
    }
   ],
   "source": [
    "printDict(a = [1,2,3,4], b = 'prateek', c = 'kumar', d = 42.34)"
   ]
  },
  {
   "cell_type": "markdown",
   "id": "7a4dd6e6-d24f-4d41-a03f-0c50f5150016",
   "metadata": {},
   "source": [
    "#### Question 3"
   ]
  },
  {
   "cell_type": "markdown",
   "id": "0b8618e0-db5f-4ca3-b82d-51aa617b6f48",
   "metadata": {},
   "source": [
    "- iterators are the objects which allows an efficienct access to any container in linear manner."
   ]
  },
  {
   "cell_type": "markdown",
   "id": "fc0a1643-8f10-436c-8390-93af7c978611",
   "metadata": {},
   "source": [
    "- iter() method is used to initialise the iterator object and next() method is used for the iteration"
   ]
  },
  {
   "cell_type": "code",
   "execution_count": 1,
   "id": "7e514db5-a0c6-4a4b-9653-7e06335c7efb",
   "metadata": {},
   "outputs": [],
   "source": [
    "# For example consider a string\n",
    "s = 'prateek'\n",
    "s1 = iter(s)"
   ]
  },
  {
   "cell_type": "code",
   "execution_count": 2,
   "id": "97aae79a-48e2-4d88-984c-46ea845ce410",
   "metadata": {},
   "outputs": [
    {
     "data": {
      "text/plain": [
       "'p'"
      ]
     },
     "execution_count": 2,
     "metadata": {},
     "output_type": "execute_result"
    }
   ],
   "source": [
    "next(s1)"
   ]
  },
  {
   "cell_type": "code",
   "execution_count": 4,
   "id": "84c659b5-8170-4e9e-b62c-76e93c9f12fc",
   "metadata": {},
   "outputs": [
    {
     "data": {
      "text/plain": [
       "'r'"
      ]
     },
     "execution_count": 4,
     "metadata": {},
     "output_type": "execute_result"
    }
   ],
   "source": [
    "next(s1)"
   ]
  },
  {
   "cell_type": "code",
   "execution_count": 5,
   "id": "6ca3ff2b-c1ea-40e1-b21f-00f1e80c6301",
   "metadata": {},
   "outputs": [
    {
     "data": {
      "text/plain": [
       "'a'"
      ]
     },
     "execution_count": 5,
     "metadata": {},
     "output_type": "execute_result"
    }
   ],
   "source": [
    "next(s1)"
   ]
  },
  {
   "cell_type": "markdown",
   "id": "a3c84279-c1d2-463a-8f51-b84e15ef1290",
   "metadata": {},
   "source": [
    "iterables can be converted into iterators using iter() method in the above string is not an iterator but it is converted into iterator using iter() method"
   ]
  },
  {
   "cell_type": "code",
   "execution_count": 6,
   "id": "7facb36a-869f-430b-b139-2e48f312267b",
   "metadata": {},
   "outputs": [],
   "source": [
    "l = [1,2,3,4,5,6]"
   ]
  },
  {
   "cell_type": "code",
   "execution_count": 7,
   "id": "67981ff4-8863-45e5-b351-60c367f3e489",
   "metadata": {},
   "outputs": [
    {
     "ename": "TypeError",
     "evalue": "'list' object is not an iterator",
     "output_type": "error",
     "traceback": [
      "\u001b[0;31m---------------------------------------------------------------------------\u001b[0m",
      "\u001b[0;31mTypeError\u001b[0m                                 Traceback (most recent call last)",
      "Cell \u001b[0;32mIn[7], line 1\u001b[0m\n\u001b[0;32m----> 1\u001b[0m \u001b[38;5;28;43mnext\u001b[39;49m\u001b[43m(\u001b[49m\u001b[43ml\u001b[49m\u001b[43m)\u001b[49m\n",
      "\u001b[0;31mTypeError\u001b[0m: 'list' object is not an iterator"
     ]
    }
   ],
   "source": [
    "next(l)"
   ]
  },
  {
   "cell_type": "markdown",
   "id": "1792c81e-9309-4998-a21e-6ca88b582f63",
   "metadata": {},
   "source": [
    "Here list is not iterator "
   ]
  },
  {
   "cell_type": "code",
   "execution_count": 8,
   "id": "1d773999-f2ac-442c-805f-53368a957fea",
   "metadata": {},
   "outputs": [],
   "source": [
    "l1 = iter(l)"
   ]
  },
  {
   "cell_type": "code",
   "execution_count": 9,
   "id": "8bb63f46-7497-417e-a13f-71f597c25454",
   "metadata": {},
   "outputs": [
    {
     "data": {
      "text/plain": [
       "list_iterator"
      ]
     },
     "execution_count": 9,
     "metadata": {},
     "output_type": "execute_result"
    }
   ],
   "source": [
    "type(l1)"
   ]
  },
  {
   "cell_type": "markdown",
   "id": "aa343d30-5a35-46fa-8e52-635fb7508175",
   "metadata": {},
   "source": [
    "An important point which is to be noted is integer in neither iterator nor iterable"
   ]
  },
  {
   "cell_type": "code",
   "execution_count": 11,
   "id": "190bbb43-766a-4a22-b79b-c692b0487b8b",
   "metadata": {},
   "outputs": [
    {
     "ename": "TypeError",
     "evalue": "'int' object is not an iterator",
     "output_type": "error",
     "traceback": [
      "\u001b[0;31m---------------------------------------------------------------------------\u001b[0m",
      "\u001b[0;31mTypeError\u001b[0m                                 Traceback (most recent call last)",
      "Cell \u001b[0;32mIn[11], line 2\u001b[0m\n\u001b[1;32m      1\u001b[0m s \u001b[38;5;241m=\u001b[39m \u001b[38;5;241m1234\u001b[39m\n\u001b[0;32m----> 2\u001b[0m \u001b[38;5;28;43mnext\u001b[39;49m\u001b[43m(\u001b[49m\u001b[43ms\u001b[49m\u001b[43m)\u001b[49m\n",
      "\u001b[0;31mTypeError\u001b[0m: 'int' object is not an iterator"
     ]
    }
   ],
   "source": [
    "s = 1234\n",
    "next(s)"
   ]
  },
  {
   "cell_type": "code",
   "execution_count": 12,
   "id": "645112b7-047b-4f4e-9bf3-810d8c2c7c33",
   "metadata": {},
   "outputs": [
    {
     "ename": "TypeError",
     "evalue": "'int' object is not iterable",
     "output_type": "error",
     "traceback": [
      "\u001b[0;31m---------------------------------------------------------------------------\u001b[0m",
      "\u001b[0;31mTypeError\u001b[0m                                 Traceback (most recent call last)",
      "Cell \u001b[0;32mIn[12], line 1\u001b[0m\n\u001b[0;32m----> 1\u001b[0m x \u001b[38;5;241m=\u001b[39m \u001b[38;5;28;43miter\u001b[39;49m\u001b[43m(\u001b[49m\u001b[43ms\u001b[49m\u001b[43m)\u001b[49m\n",
      "\u001b[0;31mTypeError\u001b[0m: 'int' object is not iterable"
     ]
    }
   ],
   "source": [
    "x = iter(s)"
   ]
  },
  {
   "cell_type": "code",
   "execution_count": 16,
   "id": "22d82ca8-cddc-443b-838b-32a7a42d45dc",
   "metadata": {},
   "outputs": [
    {
     "name": "stdout",
     "output_type": "stream",
     "text": [
      "2\n",
      "4\n",
      "6\n",
      "8\n",
      "10\n"
     ]
    }
   ],
   "source": [
    "l = [2,4,6,8,10,12,14,16,18,20]   #Given list\n",
    "l1 = iter(l)\n",
    "for i in range(5):\n",
    "    print(next(l1))"
   ]
  },
  {
   "cell_type": "markdown",
   "id": "803df79a-9d95-48ab-8dc0-6f5d4a2bc6cb",
   "metadata": {},
   "source": [
    "#### Question 4"
   ]
  },
  {
   "cell_type": "markdown",
   "id": "a393a4b0-49f9-4930-9579-62eed8e85748",
   "metadata": {},
   "source": [
    "- Generator function is a kind of function which returns an iterator that produces a sequence of values when iterated over."
   ]
  },
  {
   "cell_type": "markdown",
   "id": "d6bf0e19-9991-4467-b06b-519648a2c13b",
   "metadata": {},
   "source": [
    "- Using Generator function can be very effective if we want to optimize the memory consumption"
   ]
  },
  {
   "cell_type": "markdown",
   "id": "6c551cd9-614a-422b-9db6-44f2646925b7",
   "metadata": {},
   "source": [
    "- It uses yield keyword to produce output at each step rather than return  whole value in form of list."
   ]
  },
  {
   "cell_type": "markdown",
   "id": "a5041021-44a1-421a-a426-ae416f5964b6",
   "metadata": {},
   "source": [
    "- yield is a keyword which is used to create a generator function, it basically output the value at each step rather that storing it in memory."
   ]
  },
  {
   "cell_type": "code",
   "execution_count": 4,
   "id": "a5dea38e-8e64-4e56-821a-67b474de7375",
   "metadata": {},
   "outputs": [],
   "source": [
    "# For Example\n",
    "# Program to print number from 1 to 25 using generator function\n",
    "def printVnos(n):\n",
    "    i=1 \n",
    "    while i<=n:\n",
    "        yield i\n",
    "        i=i+1"
   ]
  },
  {
   "cell_type": "code",
   "execution_count": 5,
   "id": "286ba068-9a1a-4b44-9392-5980c9fdb55c",
   "metadata": {},
   "outputs": [
    {
     "data": {
      "text/plain": [
       "<generator object printVnos at 0x7f7990533ae0>"
      ]
     },
     "execution_count": 5,
     "metadata": {},
     "output_type": "execute_result"
    }
   ],
   "source": [
    "printVnos(25)"
   ]
  },
  {
   "cell_type": "markdown",
   "id": "d3f96bd4-260d-4c7c-bcb7-1d528c898f84",
   "metadata": {},
   "source": [
    "Here we obtain an iterator now in order to obtain the output we need to create an object of printVnos()"
   ]
  },
  {
   "cell_type": "code",
   "execution_count": 6,
   "id": "b511d45e-f7f8-4865-9681-6c5528bf3baa",
   "metadata": {},
   "outputs": [],
   "source": [
    "X = printVnos(25)"
   ]
  },
  {
   "cell_type": "code",
   "execution_count": 7,
   "id": "8476c02d-58e4-43c0-b957-4901917e388a",
   "metadata": {},
   "outputs": [
    {
     "name": "stdout",
     "output_type": "stream",
     "text": [
      "1\n",
      "2\n",
      "3\n",
      "4\n",
      "5\n",
      "6\n",
      "7\n",
      "8\n",
      "9\n",
      "10\n",
      "11\n",
      "12\n",
      "13\n",
      "14\n",
      "15\n",
      "16\n",
      "17\n",
      "18\n",
      "19\n",
      "20\n",
      "21\n",
      "22\n",
      "23\n",
      "24\n",
      "25\n"
     ]
    }
   ],
   "source": [
    "for i in X:\n",
    "    print(i)"
   ]
  },
  {
   "cell_type": "markdown",
   "id": "f5f76d31-d11e-47cf-bd70-83b105dc53c5",
   "metadata": {},
   "source": [
    "#### Question 5"
   ]
  },
  {
   "cell_type": "code",
   "execution_count": 51,
   "id": "d13ab143-ba95-4ffc-bd6d-caa14446850c",
   "metadata": {},
   "outputs": [],
   "source": [
    "def isprime(x):\n",
    "    for i in range(2,x):\n",
    "        if x % i ==0:\n",
    "            return False\n",
    "    else:\n",
    "        return True;\n",
    "def printPrime():\n",
    "    for i in range(2,1001):\n",
    "        if isprime(i):\n",
    "            yield i"
   ]
  },
  {
   "cell_type": "code",
   "execution_count": 55,
   "id": "04db3f0e-bd0c-4d3b-8b29-f1a6c0d67049",
   "metadata": {},
   "outputs": [],
   "source": [
    "prime = printPrime()"
   ]
  },
  {
   "cell_type": "code",
   "execution_count": 56,
   "id": "6556548f-9216-4e38-b851-5b84a4a5e0dd",
   "metadata": {},
   "outputs": [
    {
     "name": "stdout",
     "output_type": "stream",
     "text": [
      "2\n",
      "3\n",
      "5\n",
      "7\n",
      "11\n",
      "13\n",
      "17\n",
      "19\n",
      "23\n",
      "29\n",
      "31\n",
      "37\n",
      "41\n",
      "43\n",
      "47\n",
      "53\n",
      "59\n",
      "61\n",
      "67\n",
      "71\n"
     ]
    }
   ],
   "source": [
    "i = 1\n",
    "while i<=20:\n",
    "    print(next(prime))\n",
    "    i = i+1"
   ]
  },
  {
   "cell_type": "markdown",
   "id": "be0ccffe-187d-4dc2-a954-e370e8e44e99",
   "metadata": {},
   "source": [
    "#### Question 6"
   ]
  },
  {
   "cell_type": "code",
   "execution_count": 27,
   "id": "1c68f4b6-b2ba-4793-9061-a0103cc851ac",
   "metadata": {},
   "outputs": [],
   "source": [
    "#Program to print first 10 fibonacci numbers using while loop\n",
    "def fib(n):\n",
    "    a,b = 0,1\n",
    "    i = 0\n",
    "    while i<n:\n",
    "        yield a\n",
    "        a,b = b,a+b\n",
    "        i = i+1\n"
   ]
  },
  {
   "cell_type": "code",
   "execution_count": 28,
   "id": "e237ada1-b74c-48bf-9ffe-e058461a9cc9",
   "metadata": {},
   "outputs": [
    {
     "data": {
      "text/plain": [
       "[0, 1, 1, 2, 3, 5, 8, 13, 21, 34]"
      ]
     },
     "execution_count": 28,
     "metadata": {},
     "output_type": "execute_result"
    }
   ],
   "source": [
    "[i for i in fib(10) ] "
   ]
  },
  {
   "cell_type": "markdown",
   "id": "4c81fc85-c4fc-465a-aeaa-a5bae107518a",
   "metadata": {},
   "source": [
    "#### Question 7"
   ]
  },
  {
   "cell_type": "code",
   "execution_count": 57,
   "id": "11bbf545-03e0-49b0-9ccf-1032d777c3b6",
   "metadata": {},
   "outputs": [
    {
     "data": {
      "text/plain": [
       "['p', 'w', 's', 'k', 'i', 'l', 'l', 's']"
      ]
     },
     "execution_count": 57,
     "metadata": {},
     "output_type": "execute_result"
    }
   ],
   "source": [
    "s = 'pwskills'\n",
    "[i for i in s]"
   ]
  },
  {
   "cell_type": "markdown",
   "id": "8bda585f-8116-4f55-9d6e-31c6133cf078",
   "metadata": {},
   "source": [
    "#### Question 8"
   ]
  },
  {
   "cell_type": "code",
   "execution_count": 6,
   "id": "2bd6b602-8adf-4355-8384-144a35061cf3",
   "metadata": {},
   "outputs": [
    {
     "name": "stdin",
     "output_type": "stream",
     "text": [
      " 122\n"
     ]
    },
    {
     "name": "stdout",
     "output_type": "stream",
     "text": [
      "Not Palindrome\n"
     ]
    }
   ],
   "source": [
    "# Program to check a no. is palindrome or not\n",
    "n = int(input())\n",
    "rev = 0\n",
    "temp = n\n",
    "while temp>0:\n",
    "    rev = rev * 10 + temp%10\n",
    "    temp = int(temp/10)\n",
    "if rev == n:\n",
    "    print(\"Palindrome\")\n",
    "else:\n",
    "    print(\"Not Palindrome\")"
   ]
  },
  {
   "cell_type": "markdown",
   "id": "e79e28c5-07ee-4a56-9806-481b242af615",
   "metadata": {},
   "source": [
    "#### Question 9"
   ]
  },
  {
   "cell_type": "code",
   "execution_count": 7,
   "id": "a5731592-f238-4489-acba-74b9d0979295",
   "metadata": {},
   "outputs": [
    {
     "data": {
      "text/plain": [
       "[1,\n",
       " 2,\n",
       " 3,\n",
       " 4,\n",
       " 5,\n",
       " 6,\n",
       " 7,\n",
       " 8,\n",
       " 9,\n",
       " 10,\n",
       " 11,\n",
       " 12,\n",
       " 13,\n",
       " 14,\n",
       " 15,\n",
       " 16,\n",
       " 17,\n",
       " 18,\n",
       " 19,\n",
       " 20,\n",
       " 21,\n",
       " 22,\n",
       " 23,\n",
       " 24,\n",
       " 25,\n",
       " 26,\n",
       " 27,\n",
       " 28,\n",
       " 29,\n",
       " 30,\n",
       " 31,\n",
       " 32,\n",
       " 33,\n",
       " 34,\n",
       " 35,\n",
       " 36,\n",
       " 37,\n",
       " 38,\n",
       " 39,\n",
       " 40,\n",
       " 41,\n",
       " 42,\n",
       " 43,\n",
       " 44,\n",
       " 45,\n",
       " 46,\n",
       " 47,\n",
       " 48,\n",
       " 49,\n",
       " 50,\n",
       " 51,\n",
       " 52,\n",
       " 53,\n",
       " 54,\n",
       " 55,\n",
       " 56,\n",
       " 57,\n",
       " 58,\n",
       " 59,\n",
       " 60,\n",
       " 61,\n",
       " 62,\n",
       " 63,\n",
       " 64,\n",
       " 65,\n",
       " 66,\n",
       " 67,\n",
       " 68,\n",
       " 69,\n",
       " 70,\n",
       " 71,\n",
       " 72,\n",
       " 73,\n",
       " 74,\n",
       " 75,\n",
       " 76,\n",
       " 77,\n",
       " 78,\n",
       " 79,\n",
       " 80,\n",
       " 81,\n",
       " 82,\n",
       " 83,\n",
       " 84,\n",
       " 85,\n",
       " 86,\n",
       " 87,\n",
       " 88,\n",
       " 89,\n",
       " 90,\n",
       " 91,\n",
       " 92,\n",
       " 93,\n",
       " 94,\n",
       " 95,\n",
       " 96,\n",
       " 97,\n",
       " 98,\n",
       " 99,\n",
       " 100]"
      ]
     },
     "execution_count": 7,
     "metadata": {},
     "output_type": "execute_result"
    }
   ],
   "source": [
    "[i for i in range(1, 101)]"
   ]
  },
  {
   "cell_type": "markdown",
   "id": "9e723724-8051-4adb-aad1-21979276283c",
   "metadata": {},
   "source": [
    "# END"
   ]
  }
 ],
 "metadata": {
  "kernelspec": {
   "display_name": "Python 3 (ipykernel)",
   "language": "python",
   "name": "python3"
  },
  "language_info": {
   "codemirror_mode": {
    "name": "ipython",
    "version": 3
   },
   "file_extension": ".py",
   "mimetype": "text/x-python",
   "name": "python",
   "nbconvert_exporter": "python",
   "pygments_lexer": "ipython3",
   "version": "3.10.8"
  }
 },
 "nbformat": 4,
 "nbformat_minor": 5
}
