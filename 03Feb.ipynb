{
 "cells": [
  {
   "cell_type": "markdown",
   "id": "012ef75b-1ccf-4f0d-9b1c-34d45324a35e",
   "metadata": {},
   "source": [
    "#### Question 1"
   ]
  },
  {
   "cell_type": "markdown",
   "id": "3c9d2a6a-d903-486c-a7c0-2859908ca2be",
   "metadata": {},
   "source": [
    "def keyword is used to create a function."
   ]
  },
  {
   "cell_type": "code",
   "execution_count": 1,
   "id": "93ae281a-801f-4f13-8abc-71e32cdabf16",
   "metadata": {},
   "outputs": [],
   "source": [
    "def oddNos():\n",
    "    return [i for i in range(1,26) if i%2!=0]"
   ]
  },
  {
   "cell_type": "code",
   "execution_count": 2,
   "id": "8a454997-5eb7-48a7-848e-ab00203870c7",
   "metadata": {},
   "outputs": [
    {
     "data": {
      "text/plain": [
       "[1, 3, 5, 7, 9, 11, 13, 15, 17, 19, 21, 23, 25]"
      ]
     },
     "execution_count": 2,
     "metadata": {},
     "output_type": "execute_result"
    }
   ],
   "source": [
    "oddNos()"
   ]
  },
  {
   "cell_type": "markdown",
   "id": "0134392c-3d68-4bb1-a36e-1fe41e6ca338",
   "metadata": {},
   "source": [
    "#### Question 2"
   ]
  },
  {
   "cell_type": "markdown",
   "id": "c9563902-f847-495c-959a-af329646fd09",
   "metadata": {},
   "source": [
    "*args is used so as to input n number of arguments according to the need of programmer in a linear manner , while **kwargs is used to input n numbers of key value pairs according to the need of programmer."
   ]
  },
  {
   "cell_type": "code",
   "execution_count": 3,
   "id": "b59d21f0-8721-4208-87ab-0a9a8ef4c8b6",
   "metadata": {},
   "outputs": [],
   "source": [
    "# Example of *args\n",
    "def printValues(*args):\n",
    "    return[*args]           # print the feeded no. in a list manner.\n",
    "    "
   ]
  },
  {
   "cell_type": "code",
   "execution_count": 5,
   "id": "86c67399-c805-4a30-b47f-dc994d239158",
   "metadata": {},
   "outputs": [
    {
     "data": {
      "text/plain": [
       "[1, 2, 3, 4, 5, 6, 7]"
      ]
     },
     "execution_count": 5,
     "metadata": {},
     "output_type": "execute_result"
    }
   ],
   "source": [
    "printValues(1,2,3,4,5,6,7)"
   ]
  },
  {
   "cell_type": "code",
   "execution_count": 15,
   "id": "d6d7764a-470a-4bb3-8077-81cd6481096f",
   "metadata": {},
   "outputs": [],
   "source": [
    "# Example of *kwargs\n",
    "def printDict(**kwargs):\n",
    "    print(kwargs)\n"
   ]
  },
  {
   "cell_type": "code",
   "execution_count": 17,
   "id": "33b2b27e-8d7e-4f09-9944-65902982ffc4",
   "metadata": {},
   "outputs": [
    {
     "name": "stdout",
     "output_type": "stream",
     "text": [
      "{'a': [1, 2, 3, 4], 'b': 'prateek', 'c': 'kumar', 'd': 42.34} <class 'dict'>\n"
     ]
    }
   ],
   "source": [
    "printDict(a = [1,2,3,4], b = 'prateek', c = 'kumar', d = 42.34)"
   ]
  },
  {
   "cell_type": "markdown",
   "id": "7a4dd6e6-d24f-4d41-a03f-0c50f5150016",
   "metadata": {},
   "source": [
    "#### Question 3"
   ]
  },
  {
   "cell_type": "markdown",
   "id": "0b8618e0-db5f-4ca3-b82d-51aa617b6f48",
   "metadata": {},
   "source": [
    "- iterators are the objects which allows an efficienct access to any container in linear manner."
   ]
  },
  {
   "cell_type": "markdown",
   "id": "fc0a1643-8f10-436c-8390-93af7c978611",
   "metadata": {},
   "source": [
    "- iter() method is used to initialise the iterator object and next() method is used for the iteration"
   ]
  },
  {
   "cell_type": "code",
   "execution_count": 1,
   "id": "7e514db5-a0c6-4a4b-9653-7e06335c7efb",
   "metadata": {},
   "outputs": [],
   "source": [
    "# For example consider a string\n",
    "s = 'prateek'\n",
    "s1 = iter(s)"
   ]
  },
  {
   "cell_type": "code",
   "execution_count": 2,
   "id": "97aae79a-48e2-4d88-984c-46ea845ce410",
   "metadata": {},
   "outputs": [
    {
     "data": {
      "text/plain": [
       "'p'"
      ]
     },
     "execution_count": 2,
     "metadata": {},
     "output_type": "execute_result"
    }
   ],
   "source": [
    "next(s1)"
   ]
  },
  {
   "cell_type": "code",
   "execution_count": 4,
   "id": "84c659b5-8170-4e9e-b62c-76e93c9f12fc",
   "metadata": {},
   "outputs": [
    {
     "data": {
      "text/plain": [
       "'r'"
      ]
     },
     "execution_count": 4,
     "metadata": {},
     "output_type": "execute_result"
    }
   ],
   "source": [
    "next(s1)"
   ]
  },
  {
   "cell_type": "code",
   "execution_count": 5,
   "id": "6ca3ff2b-c1ea-40e1-b21f-00f1e80c6301",
   "metadata": {},
   "outputs": [
    {
     "data": {
      "text/plain": [
       "'a'"
      ]
     },
     "execution_count": 5,
     "metadata": {},
     "output_type": "execute_result"
    }
   ],
   "source": [
    "next(s1)"
   ]
  },
  {
   "cell_type": "markdown",
   "id": "a3c84279-c1d2-463a-8f51-b84e15ef1290",
   "metadata": {},
   "source": [
    "iterables can be converted into iterators using iter() method in the above string is not an iterator but it is converted into iterator using iter() method"
   ]
  },
  {
   "cell_type": "code",
   "execution_count": 6,
   "id": "7facb36a-869f-430b-b139-2e48f312267b",
   "metadata": {},
   "outputs": [],
   "source": [
    "l = [1,2,3,4,5,6]"
   ]
  },
  {
   "cell_type": "code",
   "execution_count": 7,
   "id": "67981ff4-8863-45e5-b351-60c367f3e489",
   "metadata": {},
   "outputs": [
    {
     "ename": "TypeError",
     "evalue": "'list' object is not an iterator",
     "output_type": "error",
     "traceback": [
      "\u001b[0;31m---------------------------------------------------------------------------\u001b[0m",
      "\u001b[0;31mTypeError\u001b[0m                                 Traceback (most recent call last)",
      "Cell \u001b[0;32mIn[7], line 1\u001b[0m\n\u001b[0;32m----> 1\u001b[0m \u001b[38;5;28;43mnext\u001b[39;49m\u001b[43m(\u001b[49m\u001b[43ml\u001b[49m\u001b[43m)\u001b[49m\n",
      "\u001b[0;31mTypeError\u001b[0m: 'list' object is not an iterator"
     ]
    }
   ],
   "source": [
    "next(l)"
   ]
  },
  {
   "cell_type": "markdown",
   "id": "1792c81e-9309-4998-a21e-6ca88b582f63",
   "metadata": {},
   "source": [
    "Here list is not iterator "
   ]
  },
  {
   "cell_type": "code",
   "execution_count": 8,
   "id": "1d773999-f2ac-442c-805f-53368a957fea",
   "metadata": {},
   "outputs": [],
   "source": [
    "l1 = iter(l)"
   ]
  },
  {
   "cell_type": "code",
   "execution_count": 9,
   "id": "8bb63f46-7497-417e-a13f-71f597c25454",
   "metadata": {},
   "outputs": [
    {
     "data": {
      "text/plain": [
       "list_iterator"
      ]
     },
     "execution_count": 9,
     "metadata": {},
     "output_type": "execute_result"
    }
   ],
   "source": [
    "type(l1)"
   ]
  },
  {
   "cell_type": "markdown",
   "id": "aa343d30-5a35-46fa-8e52-635fb7508175",
   "metadata": {},
   "source": [
    "An important point which is to be noted is integer in neither iterator nor iterable"
   ]
  },
  {
   "cell_type": "code",
   "execution_count": 11,
   "id": "190bbb43-766a-4a22-b79b-c692b0487b8b",
   "metadata": {},
   "outputs": [
    {
     "ename": "TypeError",
     "evalue": "'int' object is not an iterator",
     "output_type": "error",
     "traceback": [
      "\u001b[0;31m---------------------------------------------------------------------------\u001b[0m",
      "\u001b[0;31mTypeError\u001b[0m                                 Traceback (most recent call last)",
      "Cell \u001b[0;32mIn[11], line 2\u001b[0m\n\u001b[1;32m      1\u001b[0m s \u001b[38;5;241m=\u001b[39m \u001b[38;5;241m1234\u001b[39m\n\u001b[0;32m----> 2\u001b[0m \u001b[38;5;28;43mnext\u001b[39;49m\u001b[43m(\u001b[49m\u001b[43ms\u001b[49m\u001b[43m)\u001b[49m\n",
      "\u001b[0;31mTypeError\u001b[0m: 'int' object is not an iterator"
     ]
    }
   ],
   "source": [
    "s = 1234\n",
    "next(s)"
   ]
  },
  {
   "cell_type": "code",
   "execution_count": 12,
   "id": "645112b7-047b-4f4e-9bf3-810d8c2c7c33",
   "metadata": {},
   "outputs": [
    {
     "ename": "TypeError",
     "evalue": "'int' object is not iterable",
     "output_type": "error",
     "traceback": [
      "\u001b[0;31m---------------------------------------------------------------------------\u001b[0m",
      "\u001b[0;31mTypeError\u001b[0m                                 Traceback (most recent call last)",
      "Cell \u001b[0;32mIn[12], line 1\u001b[0m\n\u001b[0;32m----> 1\u001b[0m x \u001b[38;5;241m=\u001b[39m \u001b[38;5;28;43miter\u001b[39;49m\u001b[43m(\u001b[49m\u001b[43ms\u001b[49m\u001b[43m)\u001b[49m\n",
      "\u001b[0;31mTypeError\u001b[0m: 'int' object is not iterable"
     ]
    }
   ],
   "source": [
    "x = iter(s)"
   ]
  },
  {
   "cell_type": "code",
   "execution_count": 16,
   "id": "22d82ca8-cddc-443b-838b-32a7a42d45dc",
   "metadata": {},
   "outputs": [
    {
     "name": "stdout",
     "output_type": "stream",
     "text": [
      "2\n",
      "4\n",
      "6\n",
      "8\n",
      "10\n"
     ]
    }
   ],
   "source": [
    "l = [2,4,6,8,10,12,14,16,18,20]   #Given list\n",
    "l1 = iter(l)\n",
    "for i in range(5):\n",
    "    print(next(l1))"
   ]
  },
  {
   "cell_type": "markdown",
   "id": "803df79a-9d95-48ab-8dc0-6f5d4a2bc6cb",
   "metadata": {},
   "source": [
    "#### Question 4"
   ]
  },
  {
   "cell_type": "markdown",
   "id": "a393a4b0-49f9-4930-9579-62eed8e85748",
   "metadata": {},
   "source": [
    "- Generator function is a kind of function which returns an iterator that produces a sequence of values when iterated over."
   ]
  },
  {
   "cell_type": "markdown",
   "id": "d6bf0e19-9991-4467-b06b-519648a2c13b",
   "metadata": {},
   "source": [
    "- Using Generator function can be very effective if we want to optimize the memory consumption"
   ]
  },
  {
   "cell_type": "markdown",
   "id": "6c551cd9-614a-422b-9db6-44f2646925b7",
   "metadata": {},
   "source": [
    "- It uses yield keyword to produce output at each step rather than return  whole value in form of list."
   ]
  },
  {
   "cell_type": "markdown",
   "id": "a5041021-44a1-421a-a426-ae416f5964b6",
   "metadata": {},
   "source": [
    "- yield is a keyword which is used to create a generator function, it basically output the value at each step rather that storing it in memory."
   ]
  },
  {
   "cell_type": "code",
   "execution_count": 4,
   "id": "a5dea38e-8e64-4e56-821a-67b474de7375",
   "metadata": {},
   "outputs": [],
   "source": [
    "# For Example\n",
    "# Program to print number from 1 to 25 using generator function\n",
    "def printVnos(n):\n",
    "    i=1 \n",
    "    while i<=n:\n",
    "        yield i\n",
    "        i=i+1"
   ]
  },
  {
   "cell_type": "code",
   "execution_count": 5,
   "id": "286ba068-9a1a-4b44-9392-5980c9fdb55c",
   "metadata": {},
   "outputs": [
    {
     "data": {
      "text/plain": [
       "<generator object printVnos at 0x7f7990533ae0>"
      ]
     },
     "execution_count": 5,
     "metadata": {},
     "output_type": "execute_result"
    }
   ],
   "source": [
    "printVnos(25)"
   ]
  },
  {
   "cell_type": "markdown",
   "id": "d3f96bd4-260d-4c7c-bcb7-1d528c898f84",
   "metadata": {},
   "source": [
    "Here we obtain an iterator now in order to obtain the output we need to create an object of printVnos()"
   ]
  },
  {
   "cell_type": "code",
   "execution_count": 6,
   "id": "b511d45e-f7f8-4865-9681-6c5528bf3baa",
   "metadata": {},
   "outputs": [],
   "source": [
    "X = printVnos(25)"
   ]
  },
  {
   "cell_type": "code",
   "execution_count": 7,
   "id": "8476c02d-58e4-43c0-b957-4901917e388a",
   "metadata": {},
   "outputs": [
    {
     "name": "stdout",
     "output_type": "stream",
     "text": [
      "1\n",
      "2\n",
      "3\n",
      "4\n",
      "5\n",
      "6\n",
      "7\n",
      "8\n",
      "9\n",
      "10\n",
      "11\n",
      "12\n",
      "13\n",
      "14\n",
      "15\n",
      "16\n",
      "17\n",
      "18\n",
      "19\n",
      "20\n",
      "21\n",
      "22\n",
      "23\n",
      "24\n",
      "25\n"
     ]
    }
   ],
   "source": [
    "for i in X:\n",
    "    print(i)"
   ]
  },
  {
   "cell_type": "markdown",
   "id": "f5f76d31-d11e-47cf-bd70-83b105dc53c5",
   "metadata": {},
   "source": [
    "#### Question 5"
   ]
  },
  {
   "cell_type": "code",
   "execution_count": 51,
   "id": "d13ab143-ba95-4ffc-bd6d-caa14446850c",
   "metadata": {},
   "outputs": [],
   "source": [
    "def isprime(x):\n",
    "    for i in range(2,x):\n",
    "        if x % i ==0:\n",
    "            return False\n",
    "    else:\n",
    "        return True;\n",
    "def printPrime():\n",
    "    for i in range(2,1001):\n",
    "        if isprime(i):\n",
    "            yield i"
   ]
  },
  {
   "cell_type": "code",
   "execution_count": 55,
   "id": "04db3f0e-bd0c-4d3b-8b29-f1a6c0d67049",
   "metadata": {},
   "outputs": [],
   "source": [
    "prime = printPrime()"
   ]
  },
  {
   "cell_type": "code",
   "execution_count": 56,
   "id": "6556548f-9216-4e38-b851-5b84a4a5e0dd",
   "metadata": {},
   "outputs": [
    {
     "name": "stdout",
     "output_type": "stream",
     "text": [
      "2\n",
      "3\n",
      "5\n",
      "7\n",
      "11\n",
      "13\n",
      "17\n",
      "19\n",
      "23\n",
      "29\n",
      "31\n",
      "37\n",
      "41\n",
      "43\n",
      "47\n",
      "53\n",
      "59\n",
      "61\n",
      "67\n",
      "71\n"
     ]
    }
   ],
   "source": [
    "i = 1\n",
    "while i<=20:\n",
    "    print(next(prime))\n",
    "    i = i+1"
   ]
  },
  {
   "cell_type": "markdown",
   "id": "be0ccffe-187d-4dc2-a954-e370e8e44e99",
   "metadata": {},
   "source": [
    "#### Question 6"
   ]
  },
  {
   "cell_type": "code",
   "execution_count": 27,
   "id": "1c68f4b6-b2ba-4793-9061-a0103cc851ac",
   "metadata": {},
   "outputs": [],
   "source": [
    "#Program to print first 10 fibonacci numbers using while loop\n",
    "def fib(n):\n",
    "    a,b = 0,1\n",
    "    i = 0\n",
    "    while i<n:\n",
    "        yield a\n",
    "        a,b = b,a+b\n",
    "        i = i+1\n"
   ]
  },
  {
   "cell_type": "code",
   "execution_count": 28,
   "id": "e237ada1-b74c-48bf-9ffe-e058461a9cc9",
   "metadata": {},
   "outputs": [
    {
     "data": {
      "text/plain": [
       "[0, 1, 1, 2, 3, 5, 8, 13, 21, 34]"
      ]
     },
     "execution_count": 28,
     "metadata": {},
     "output_type": "execute_result"
    }
   ],
   "source": [
    "[i for i in fib(10) ] "
   ]
  },
  {
   "cell_type": "markdown",
   "id": "4c81fc85-c4fc-465a-aeaa-a5bae107518a",
   "metadata": {},
   "source": [
    "#### Question 7"
   ]
  },
  {
   "cell_type": "code",
   "execution_count": 57,
   "id": "11bbf545-03e0-49b0-9ccf-1032d777c3b6",
   "metadata": {},
   "outputs": [
    {
     "data": {
      "text/plain": [
       "['p', 'w', 's', 'k', 'i', 'l', 'l', 's']"
      ]
     },
     "execution_count": 57,
     "metadata": {},
     "output_type": "execute_result"
    }
   ],
   "source": [
    "s = 'pwskills'\n",
    "[i for i in s]"
   ]
  },
  {
   "cell_type": "markdown",
   "id": "8bda585f-8116-4f55-9d6e-31c6133cf078",
   "metadata": {},
   "source": [
    "#### Question 8"
   ]
  },
  {
   "cell_type": "code",
   "execution_count": 3,
   "id": "2bd6b602-8adf-4355-8384-144a35061cf3",
   "metadata": {},
   "outputs": [
    {
     "name": "stdin",
     "output_type": "stream",
     "text": [
      " 5225\n"
     ]
    },
    {
     "name": "stdout",
     "output_type": "stream",
     "text": [
      "5\n",
      "52.5\n",
      "527.25\n",
      "5277.725\n",
      "52777.7725\n",
      "527777.7772499999\n",
      "5277777.777724999\n",
      "52777777.77777249\n",
      "527777777.7777772\n",
      "5277777777.777777\n",
      "52777777777.77777\n",
      "527777777777.7777\n",
      "5277777777777.777\n",
      "52777777777777.77\n",
      "527777777777777.75\n",
      "5277777777777778.0\n",
      "5.277777777777778e+16\n",
      "5.277777777777778e+17\n",
      "5.277777777777778e+18\n",
      "5.277777777777778e+19\n",
      "5.277777777777778e+20\n",
      "5.277777777777777e+21\n",
      "5.2777777777777775e+22\n",
      "5.277777777777778e+23\n",
      "5.277777777777778e+24\n",
      "5.277777777777778e+25\n",
      "5.277777777777778e+26\n",
      "5.277777777777778e+27\n",
      "5.277777777777778e+28\n",
      "5.277777777777778e+29\n",
      "5.277777777777778e+30\n",
      "5.277777777777778e+31\n",
      "5.277777777777778e+32\n",
      "5.277777777777778e+33\n",
      "5.277777777777778e+34\n",
      "5.277777777777778e+35\n",
      "5.277777777777778e+36\n",
      "5.277777777777778e+37\n",
      "5.2777777777777785e+38\n",
      "5.2777777777777785e+39\n",
      "5.2777777777777785e+40\n",
      "5.277777777777778e+41\n",
      "5.277777777777778e+42\n",
      "5.277777777777778e+43\n",
      "5.277777777777778e+44\n",
      "5.277777777777778e+45\n",
      "5.277777777777778e+46\n",
      "5.277777777777779e+47\n",
      "5.277777777777779e+48\n",
      "5.277777777777779e+49\n",
      "5.277777777777779e+50\n",
      "5.2777777777777794e+51\n",
      "5.27777777777778e+52\n",
      "5.277777777777779e+53\n",
      "5.277777777777779e+54\n",
      "5.277777777777779e+55\n",
      "5.277777777777778e+56\n",
      "5.2777777777777784e+57\n",
      "5.277777777777779e+58\n",
      "5.277777777777779e+59\n",
      "5.2777777777777795e+60\n",
      "5.27777777777778e+61\n",
      "5.277777777777779e+62\n",
      "5.27777777777778e+63\n",
      "5.27777777777778e+64\n",
      "5.27777777777778e+65\n",
      "5.27777777777778e+66\n",
      "5.27777777777778e+67\n",
      "5.2777777777777805e+68\n",
      "5.2777777777777805e+69\n",
      "5.2777777777777807e+70\n",
      "5.277777777777781e+71\n",
      "5.277777777777781e+72\n",
      "5.277777777777781e+73\n",
      "5.277777777777781e+74\n",
      "5.277777777777781e+75\n",
      "5.277777777777781e+76\n",
      "5.277777777777781e+77\n",
      "5.277777777777781e+78\n",
      "5.277777777777781e+79\n",
      "5.277777777777781e+80\n",
      "5.277777777777781e+81\n",
      "5.277777777777781e+82\n",
      "5.277777777777781e+83\n",
      "5.277777777777781e+84\n",
      "5.277777777777781e+85\n",
      "5.277777777777781e+86\n",
      "5.277777777777781e+87\n",
      "5.277777777777781e+88\n",
      "5.277777777777782e+89\n",
      "5.277777777777781e+90\n",
      "5.2777777777777815e+91\n",
      "5.277777777777781e+92\n",
      "5.2777777777777815e+93\n",
      "5.277777777777781e+94\n",
      "5.2777777777777813e+95\n",
      "5.277777777777782e+96\n",
      "5.277777777777781e+97\n",
      "5.277777777777781e+98\n",
      "5.277777777777781e+99\n",
      "5.277777777777781e+100\n",
      "5.277777777777781e+101\n",
      "5.277777777777781e+102\n",
      "5.277777777777781e+103\n",
      "5.277777777777781e+104\n",
      "5.277777777777781e+105\n",
      "5.277777777777781e+106\n",
      "5.277777777777781e+107\n",
      "5.277777777777781e+108\n",
      "5.277777777777781e+109\n",
      "5.277777777777781e+110\n",
      "5.27777777777778e+111\n",
      "5.27777777777778e+112\n",
      "5.27777777777778e+113\n",
      "5.27777777777778e+114\n",
      "5.277777777777781e+115\n",
      "5.277777777777781e+116\n",
      "5.277777777777781e+117\n",
      "5.27777777777778e+118\n",
      "5.277777777777781e+119\n",
      "5.277777777777781e+120\n",
      "5.277777777777781e+121\n",
      "5.277777777777781e+122\n",
      "5.277777777777781e+123\n",
      "5.277777777777781e+124\n",
      "5.2777777777777804e+125\n",
      "5.2777777777777806e+126\n",
      "5.277777777777781e+127\n",
      "5.2777777777777814e+128\n",
      "5.2777777777777814e+129\n",
      "5.277777777777782e+130\n",
      "5.277777777777782e+131\n",
      "5.277777777777782e+132\n",
      "5.277777777777782e+133\n",
      "5.277777777777782e+134\n",
      "5.277777777777782e+135\n",
      "5.277777777777782e+136\n",
      "5.2777777777777814e+137\n",
      "5.2777777777777814e+138\n",
      "5.277777777777781e+139\n",
      "5.277777777777781e+140\n",
      "5.277777777777781e+141\n",
      "5.277777777777781e+142\n",
      "5.277777777777781e+143\n",
      "5.277777777777781e+144\n",
      "5.277777777777781e+145\n",
      "5.277777777777781e+146\n",
      "5.2777777777777806e+147\n",
      "5.27777777777778e+148\n",
      "5.27777777777778e+149\n",
      "5.2777777777777804e+150\n",
      "5.27777777777778e+151\n",
      "5.27777777777778e+152\n",
      "5.2777777777777804e+153\n",
      "5.2777777777777806e+154\n",
      "5.27777777777778e+155\n",
      "5.2777777777777804e+156\n",
      "5.27777777777778e+157\n",
      "5.27777777777778e+158\n",
      "5.2777777777777795e+159\n",
      "5.2777777777777795e+160\n",
      "5.277777777777779e+161\n",
      "5.277777777777779e+162\n",
      "5.277777777777779e+163\n",
      "5.277777777777779e+164\n",
      "5.277777777777779e+165\n",
      "5.277777777777779e+166\n",
      "5.277777777777779e+167\n",
      "5.2777777777777785e+168\n",
      "5.277777777777779e+169\n",
      "5.277777777777779e+170\n",
      "5.277777777777779e+171\n",
      "5.2777777777777785e+172\n",
      "5.277777777777779e+173\n",
      "5.277777777777779e+174\n",
      "5.277777777777779e+175\n",
      "5.277777777777779e+176\n",
      "5.277777777777779e+177\n",
      "5.27777777777778e+178\n",
      "5.27777777777778e+179\n",
      "5.27777777777778e+180\n",
      "5.27777777777778e+181\n",
      "5.27777777777778e+182\n",
      "5.27777777777778e+183\n",
      "5.27777777777778e+184\n",
      "5.27777777777778e+185\n",
      "5.27777777777778e+186\n",
      "5.27777777777778e+187\n",
      "5.2777777777777804e+188\n",
      "5.277777777777781e+189\n",
      "5.2777777777777805e+190\n",
      "5.2777777777777805e+191\n",
      "5.277777777777781e+192\n",
      "5.277777777777781e+193\n",
      "5.277777777777782e+194\n",
      "5.277777777777781e+195\n",
      "5.277777777777781e+196\n",
      "5.2777777777777814e+197\n",
      "5.277777777777782e+198\n",
      "5.277777777777782e+199\n",
      "5.277777777777782e+200\n",
      "5.277777777777782e+201\n",
      "5.277777777777782e+202\n",
      "5.277777777777782e+203\n",
      "5.277777777777782e+204\n",
      "5.277777777777782e+205\n",
      "5.2777777777777825e+206\n",
      "5.277777777777782e+207\n",
      "5.277777777777783e+208\n",
      "5.2777777777777825e+209\n",
      "5.277777777777783e+210\n",
      "5.277777777777783e+211\n",
      "5.2777777777777834e+212\n",
      "5.2777777777777834e+213\n",
      "5.2777777777777835e+214\n",
      "5.2777777777777835e+215\n",
      "5.2777777777777837e+216\n",
      "5.277777777777783e+217\n",
      "5.277777777777783e+218\n",
      "5.277777777777783e+219\n",
      "5.277777777777783e+220\n",
      "5.2777777777777836e+221\n",
      "5.2777777777777836e+222\n",
      "5.277777777777784e+223\n",
      "5.2777777777777845e+224\n",
      "5.2777777777777845e+225\n",
      "5.277777777777784e+226\n",
      "5.277777777777785e+227\n",
      "5.277777777777785e+228\n",
      "5.277777777777785e+229\n",
      "5.277777777777786e+230\n",
      "5.2777777777777854e+231\n",
      "5.277777777777786e+232\n",
      "5.277777777777786e+233\n",
      "5.277777777777786e+234\n",
      "5.277777777777785e+235\n",
      "5.277777777777785e+236\n",
      "5.2777777777777854e+237\n",
      "5.277777777777785e+238\n",
      "5.2777777777777855e+239\n",
      "5.277777777777786e+240\n",
      "5.277777777777786e+241\n",
      "5.277777777777786e+242\n",
      "5.277777777777786e+243\n",
      "5.2777777777777857e+244\n",
      "5.277777777777785e+245\n",
      "5.2777777777777854e+246\n",
      "5.2777777777777856e+247\n",
      "5.277777777777785e+248\n",
      "5.2777777777777854e+249\n",
      "5.277777777777785e+250\n",
      "5.277777777777785e+251\n",
      "5.277777777777785e+252\n",
      "5.277777777777785e+253\n",
      "5.277777777777785e+254\n",
      "5.277777777777785e+255\n",
      "5.277777777777785e+256\n",
      "5.277777777777786e+257\n",
      "5.277777777777786e+258\n",
      "5.277777777777786e+259\n",
      "5.277777777777786e+260\n",
      "5.2777777777777855e+261\n",
      "5.2777777777777854e+262\n",
      "5.277777777777785e+263\n",
      "5.277777777777785e+264\n",
      "5.277777777777785e+265\n",
      "5.277777777777785e+266\n",
      "5.277777777777784e+267\n",
      "5.277777777777784e+268\n",
      "5.277777777777784e+269\n",
      "5.2777777777777835e+270\n",
      "5.277777777777784e+271\n",
      "5.277777777777784e+272\n",
      "5.2777777777777835e+273\n",
      "5.2777777777777835e+274\n",
      "5.2777777777777837e+275\n",
      "5.277777777777784e+276\n",
      "5.277777777777784e+277\n",
      "5.277777777777784e+278\n",
      "5.277777777777784e+279\n",
      "5.277777777777783e+280\n",
      "5.277777777777783e+281\n",
      "5.277777777777783e+282\n",
      "5.2777777777777826e+283\n",
      "5.277777777777783e+284\n",
      "5.277777777777782e+285\n",
      "5.277777777777783e+286\n",
      "5.277777777777783e+287\n",
      "5.277777777777783e+288\n",
      "5.2777777777777825e+289\n",
      "5.2777777777777825e+290\n",
      "5.277777777777783e+291\n",
      "5.277777777777783e+292\n",
      "5.277777777777783e+293\n",
      "5.277777777777782e+294\n",
      "5.2777777777777825e+295\n",
      "5.2777777777777825e+296\n",
      "5.277777777777782e+297\n",
      "5.277777777777783e+298\n",
      "5.2777777777777825e+299\n",
      "5.2777777777777825e+300\n",
      "5.2777777777777825e+301\n",
      "5.2777777777777825e+302\n",
      "5.2777777777777827e+303\n",
      "5.277777777777783e+304\n",
      "5.277777777777783e+305\n",
      "5.277777777777783e+306\n",
      "5.277777777777783e+307\n",
      "inf\n",
      "inf\n",
      "inf\n",
      "inf\n",
      "inf\n",
      "inf\n",
      "inf\n",
      "inf\n",
      "inf\n",
      "inf\n",
      "inf\n",
      "inf\n",
      "inf\n",
      "inf\n",
      "inf\n",
      "inf\n",
      "inf\n",
      "inf\n",
      "inf\n",
      "inf\n",
      "Not Palindrome\n"
     ]
    }
   ],
   "source": [
    "# Program to check a no. is palindrome or not\n",
    "n = int(input())\n",
    "rev = 0\n",
    "temp = n\n",
    "while temp>0:\n",
    "    rev = rev * 10 + temp%10\n",
    "    print(rev)\n",
    "    temp = temp/10\n",
    "if rev == n:\n",
    "    print(\"Palindrome\")\n",
    "else:\n",
    "    print(\"Not Palindrome\")"
   ]
  },
  {
   "cell_type": "code",
   "execution_count": null,
   "id": "466f4f2f-420d-46f0-9e2d-a140497e55f0",
   "metadata": {},
   "outputs": [],
   "source": []
  },
  {
   "cell_type": "code",
   "execution_count": null,
   "id": "a5731592-f238-4489-acba-74b9d0979295",
   "metadata": {},
   "outputs": [],
   "source": []
  }
 ],
 "metadata": {
  "kernelspec": {
   "display_name": "Python 3 (ipykernel)",
   "language": "python",
   "name": "python3"
  },
  "language_info": {
   "codemirror_mode": {
    "name": "ipython",
    "version": 3
   },
   "file_extension": ".py",
   "mimetype": "text/x-python",
   "name": "python",
   "nbconvert_exporter": "python",
   "pygments_lexer": "ipython3",
   "version": "3.10.8"
  }
 },
 "nbformat": 4,
 "nbformat_minor": 5
}
