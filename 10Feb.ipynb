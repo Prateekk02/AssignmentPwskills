{
 "cells": [
  {
   "cell_type": "markdown",
   "id": "286fe122-c8c7-4c29-bff8-6487bba7e096",
   "metadata": {},
   "source": [
    "# Question 1"
   ]
  },
  {
   "cell_type": "markdown",
   "id": "820f0150-7f7e-4df3-a979-372078cbd979",
   "metadata": {},
   "source": [
    "open() function is used to open a file in various modes which are as follows:-"
   ]
  },
  {
   "cell_type": "markdown",
   "id": "0d0e1a45-e472-47ab-80c7-4b4d5f3dc9db",
   "metadata": {},
   "source": [
    "   - 'r'       open for reading (default)\n",
    "   - 'w'       open for writing, truncating the file first\n",
    "   - 'x'       create a new file and open it for writing\n",
    "   - 'a'       open for writing, appending to the end of the file if it exists\n",
    "   - 'b'       binary mode\n",
    "   - 't'       text mode (default)\n",
    "   - '+'       open a disk file for updating (reading and writing)"
   ]
  },
  {
   "cell_type": "markdown",
   "id": "045e69ba-87b5-4d7f-9409-37b9c932b062",
   "metadata": {},
   "source": [
    "# Question 2"
   ]
  },
  {
   "cell_type": "markdown",
   "id": "057c892c-cc40-489a-afc5-ecaff2dfd325",
   "metadata": {},
   "source": [
    "close() function is used to close a file.\n",
    "It is important because until and unless the previous file is not closed further creation of file cannot take place"
   ]
  },
  {
   "cell_type": "markdown",
   "id": "874bb583-0b1e-4918-b2f4-752fbae3552d",
   "metadata": {},
   "source": [
    "- Once close() is invoked all the resources used by the file gets free and unsaved changes gets saved. "
   ]
  },
  {
   "cell_type": "markdown",
   "id": "8fac5968-bcd7-45c8-8b01-e964e9a67b20",
   "metadata": {},
   "source": [
    "- However, it is considered good to use 'with' for the manipulation of file as it closes the file automatically once we get out of 'with' "
   ]
  },
  {
   "cell_type": "markdown",
   "id": "65de420a-d456-4d54-b3a0-4c984abd0e9f",
   "metadata": {},
   "source": [
    "# Question 3"
   ]
  },
  {
   "cell_type": "code",
   "execution_count": 12,
   "id": "f8216f45-0305-46aa-85f4-6bacc020c2ce",
   "metadata": {},
   "outputs": [],
   "source": [
    "f = open('text.txt', 'w')"
   ]
  },
  {
   "cell_type": "code",
   "execution_count": 13,
   "id": "b93f561e-64d3-4af7-8c0d-d6d939104633",
   "metadata": {},
   "outputs": [
    {
     "data": {
      "text/plain": [
       "33"
      ]
     },
     "execution_count": 13,
     "metadata": {},
     "output_type": "execute_result"
    }
   ],
   "source": [
    "f.write(\"I want to become a Data Scientist\")"
   ]
  },
  {
   "cell_type": "code",
   "execution_count": 14,
   "id": "d7adcd73-0011-4216-9df1-d174714452d2",
   "metadata": {},
   "outputs": [],
   "source": [
    "f.close()"
   ]
  },
  {
   "cell_type": "code",
   "execution_count": 16,
   "id": "71451789-2b69-47a6-8bc1-98a8c464301a",
   "metadata": {},
   "outputs": [],
   "source": [
    "f = open('text.txt', 'r')"
   ]
  },
  {
   "cell_type": "code",
   "execution_count": 17,
   "id": "d3418108-3a8a-4059-b1d6-9ab48a5e507a",
   "metadata": {},
   "outputs": [
    {
     "data": {
      "text/plain": [
       "'I want to become a Data Scientist'"
      ]
     },
     "execution_count": 17,
     "metadata": {},
     "output_type": "execute_result"
    }
   ],
   "source": [
    "f.read()"
   ]
  },
  {
   "cell_type": "code",
   "execution_count": 18,
   "id": "71f8925f-77ff-4c37-bd3c-39add88943ba",
   "metadata": {},
   "outputs": [],
   "source": [
    "f.close()"
   ]
  },
  {
   "cell_type": "markdown",
   "id": "ac02c9b5-bcec-418a-9338-116faac7d541",
   "metadata": {},
   "source": [
    "# Question 4"
   ]
  },
  {
   "cell_type": "code",
   "execution_count": 35,
   "id": "72347806-1a21-41ef-a39e-550b91731c34",
   "metadata": {},
   "outputs": [],
   "source": [
    "f1 = open('text1.txt', 'w')"
   ]
  },
  {
   "cell_type": "code",
   "execution_count": 36,
   "id": "602b068f-0b57-46e9-a5f0-b2f638891437",
   "metadata": {},
   "outputs": [
    {
     "data": {
      "text/plain": [
       "774"
      ]
     },
     "execution_count": 36,
     "metadata": {},
     "output_type": "execute_result"
    }
   ],
   "source": [
    "f1.write(\"Lorem ipsum dolor sit amet consectetur \\n adipisicing elit. Amet neque ipsum similique sunt id! \\n Consequatur quas corrupti error, fuga assumenda fugiat deserunt, recusandae hic dolore aliquam eius, \\n vero aperiam architecto rerum. Dignissimos deleniti voluptates voluptatem incidunt saepe maiores sequi adipisci inventore at eius, suscipit exercitationem amet repellat debitis! Nisi delectus in asperiores adipisci, magnam tenetur distinctio nemo id nihil dolorem est, officia saepe veniam. Fugiat tempora distinctio harum suscipit explicabo! Veritatis odio odit assumenda eum ab cupiditate accusantium doloremque sunt non eaque earum porro voluptatum perferendis neque delectus explicabo facilis suscipit a similique aliquid, pariatur soluta. Sit quisquam velit distinctio?\")"
   ]
  },
  {
   "cell_type": "code",
   "execution_count": 37,
   "id": "8e4d1da7-39db-4b47-ac6e-c892301f6601",
   "metadata": {},
   "outputs": [],
   "source": [
    "f1.close()"
   ]
  },
  {
   "cell_type": "code",
   "execution_count": 38,
   "id": "5c5c85f6-9ed6-41c4-b0e3-d8a10573a52d",
   "metadata": {},
   "outputs": [],
   "source": [
    "f1 = open('text1.txt', 'r')"
   ]
  },
  {
   "cell_type": "markdown",
   "id": "97a8d074-1de1-4888-8283-f03528e66602",
   "metadata": {},
   "source": [
    "- read() reads whole file."
   ]
  },
  {
   "cell_type": "code",
   "execution_count": 61,
   "id": "c0ecaa4d-aad2-4c0b-afd3-592bdd6b7db7",
   "metadata": {},
   "outputs": [
    {
     "data": {
      "text/plain": [
       "' Consequatur quas corrupti error, fuga assumenda fugiat deserunt, recusandae hic dolore aliquam eius, \\n vero aperiam architecto rerum. Dignissimos deleniti voluptates voluptatem incidunt saepe maiores sequi adipisci inventore at eius, suscipit exercitationem amet repellat debitis! Nisi delectus in asperiores adipisci, magnam tenetur distinctio nemo id nihil dolorem est, officia saepe veniam. Fugiat tempora distinctio harum suscipit explicabo! Veritatis odio odit assumenda eum ab cupiditate accusantium doloremque sunt non eaque earum porro voluptatum perferendis neque delectus explicabo facilis suscipit a similique aliquid, pariatur soluta. Sit quisquam velit distinctio?'"
      ]
     },
     "execution_count": 61,
     "metadata": {},
     "output_type": "execute_result"
    }
   ],
   "source": [
    "f1.read()"
   ]
  },
  {
   "cell_type": "code",
   "execution_count": 85,
   "id": "3e01d851-f2af-405b-89cc-1c381c916ebb",
   "metadata": {},
   "outputs": [
    {
     "data": {
      "text/plain": [
       "0"
      ]
     },
     "execution_count": 85,
     "metadata": {},
     "output_type": "execute_result"
    }
   ],
   "source": [
    "f1.seek(0)  # Return pointer to start."
   ]
  },
  {
   "cell_type": "markdown",
   "id": "9f300c86-2a3a-4862-b604-f942cbc2915a",
   "metadata": {},
   "source": [
    "- readline() read one line at a time and returns it."
   ]
  },
  {
   "cell_type": "code",
   "execution_count": 86,
   "id": "ff761031-7a7a-4074-be94-df2d96b37e21",
   "metadata": {},
   "outputs": [
    {
     "data": {
      "text/plain": [
       "'Lorem ipsum dolor sit amet consectetur \\n'"
      ]
     },
     "execution_count": 86,
     "metadata": {},
     "output_type": "execute_result"
    }
   ],
   "source": [
    "f1.readline()"
   ]
  },
  {
   "cell_type": "code",
   "execution_count": 87,
   "id": "b98c6096-b3ec-41e9-adc7-a0a09b55642a",
   "metadata": {},
   "outputs": [
    {
     "data": {
      "text/plain": [
       "' adipisicing elit. Amet neque ipsum similique sunt id! \\n'"
      ]
     },
     "execution_count": 87,
     "metadata": {},
     "output_type": "execute_result"
    }
   ],
   "source": [
    "f1.readline()"
   ]
  },
  {
   "cell_type": "code",
   "execution_count": 77,
   "id": "e22f8686-cc0b-4038-947c-313f1b84ed91",
   "metadata": {},
   "outputs": [
    {
     "data": {
      "text/plain": [
       "0"
      ]
     },
     "execution_count": 77,
     "metadata": {},
     "output_type": "execute_result"
    }
   ],
   "source": [
    "f1.seek(0)"
   ]
  },
  {
   "cell_type": "markdown",
   "id": "fa8478cd-9802-4ebc-8940-d3278d1133f5",
   "metadata": {},
   "source": [
    "- readlines() read all lines at once and return them one by one"
   ]
  },
  {
   "cell_type": "code",
   "execution_count": 78,
   "id": "ad519752-3cb9-4854-9d63-fef8e0c2324a",
   "metadata": {},
   "outputs": [],
   "source": [
    "lines = f1.readlines()"
   ]
  },
  {
   "cell_type": "code",
   "execution_count": 93,
   "id": "c84492a7-a0c1-492a-8ad0-b511e0b1268c",
   "metadata": {},
   "outputs": [
    {
     "name": "stdout",
     "output_type": "stream",
     "text": [
      "Lorem ipsum dolor sit amet consectetur \n",
      "\n",
      "******\n",
      " adipisicing elit. Amet neque ipsum similique sunt id! \n",
      "\n",
      "******\n",
      " Consequatur quas corrupti error, fuga assumenda fugiat deserunt, recusandae hic dolore aliquam eius, \n",
      "\n",
      "******\n",
      " vero aperiam architecto rerum. Dignissimos deleniti voluptates voluptatem incidunt saepe maiores sequi adipisci inventore at eius, suscipit exercitationem amet repellat debitis! Nisi delectus in asperiores adipisci, magnam tenetur distinctio nemo id nihil dolorem est, officia saepe veniam. Fugiat tempora distinctio harum suscipit explicabo! Veritatis odio odit assumenda eum ab cupiditate accusantium doloremque sunt non eaque earum porro voluptatum perferendis neque delectus explicabo facilis suscipit a similique aliquid, pariatur soluta. Sit quisquam velit distinctio?\n",
      "******\n"
     ]
    }
   ],
   "source": [
    "for i in lines:\n",
    "    print(i, end = '\\n******\\n')"
   ]
  },
  {
   "cell_type": "markdown",
   "id": "bd2d6793-a1c8-4934-9cee-561b1d234a58",
   "metadata": {},
   "source": [
    "# Question 5"
   ]
  },
  {
   "cell_type": "markdown",
   "id": "754b5fe1-c952-47de-a5c9-c05fc8bcfe4a",
   "metadata": {},
   "source": [
    "Using 'with' along with open() is a more efficient and safe way to to manipute a file because using this method we are not required to close the file again and again. Once we come out of with statement the files get automatically closed and all the unsaved data is saved. "
   ]
  },
  {
   "cell_type": "code",
   "execution_count": 112,
   "id": "f08cd9ad-07bc-40e2-918f-92ab28ba43f8",
   "metadata": {},
   "outputs": [],
   "source": [
    "f2 = open('text3.txt', 'w')"
   ]
  },
  {
   "cell_type": "code",
   "execution_count": 113,
   "id": "7ea99e0f-3ac8-424c-9619-78d531acc540",
   "metadata": {},
   "outputs": [
    {
     "data": {
      "text/plain": [
       "16"
      ]
     },
     "execution_count": 113,
     "metadata": {},
     "output_type": "execute_result"
    }
   ],
   "source": [
    "f2.write(\"Some random text\")"
   ]
  },
  {
   "cell_type": "code",
   "execution_count": 114,
   "id": "b0372d67-82ac-4044-bbcc-cd96c0418529",
   "metadata": {},
   "outputs": [],
   "source": [
    "f2.close()"
   ]
  },
  {
   "cell_type": "markdown",
   "id": "0983d6c1-87a1-4264-9865-c1b14ec8b0ed",
   "metadata": {},
   "source": [
    "Now in order to read the file we again need to open the text3.txt file in read mode"
   ]
  },
  {
   "cell_type": "code",
   "execution_count": 115,
   "id": "0e6ec23e-7a3c-4aa8-ad20-445652ab0c87",
   "metadata": {},
   "outputs": [],
   "source": [
    "f2 = open('text3.txt', 'r')"
   ]
  },
  {
   "cell_type": "code",
   "execution_count": 116,
   "id": "fd9d6c35-5344-4856-99dd-0d598d28eeab",
   "metadata": {},
   "outputs": [
    {
     "data": {
      "text/plain": [
       "'Some random text'"
      ]
     },
     "execution_count": 116,
     "metadata": {},
     "output_type": "execute_result"
    }
   ],
   "source": [
    "f2.read()"
   ]
  },
  {
   "cell_type": "markdown",
   "id": "c3d08a45-69ef-4420-8a68-c27184d8ea0c",
   "metadata": {},
   "source": [
    "Now we create a file using 'with'"
   ]
  },
  {
   "cell_type": "code",
   "execution_count": 121,
   "id": "a9a4df17-d6f8-48b5-93e5-e13a9ff5eabf",
   "metadata": {},
   "outputs": [
    {
     "name": "stdout",
     "output_type": "stream",
     "text": [
      "Again some random text\n"
     ]
    }
   ],
   "source": [
    "with open('text4.txt', 'w') as f3:\n",
    "    f3.write(\"Again some random text\")\n",
    "with open('text4.txt','r') as f3:\n",
    "    print(f3.read())"
   ]
  },
  {
   "cell_type": "code",
   "execution_count": 123,
   "id": "f056bad4-a8df-4560-a67d-019be28a11d1",
   "metadata": {},
   "outputs": [
    {
     "name": "stdout",
     "output_type": "stream",
     "text": [
      "Guess what? Again some random text\n"
     ]
    }
   ],
   "source": [
    "with open('text5.txt', 'w') as f4:\n",
    "    f4.write(\"Guess what? Again some random text\")\n",
    "with open('text5.txt', 'r') as f5:\n",
    "    print(f5.read())"
   ]
  },
  {
   "cell_type": "markdown",
   "id": "aef72b81-de65-4531-8cb0-ff4b081d8c6e",
   "metadata": {},
   "source": [
    "- Here we don't need close() to save the file."
   ]
  },
  {
   "cell_type": "markdown",
   "id": "d8215529-3554-46bf-8707-038f9c00ad3a",
   "metadata": {},
   "source": [
    "# Question 6"
   ]
  },
  {
   "cell_type": "markdown",
   "id": "00796100-3473-4b59-b71b-cf3ba64957f6",
   "metadata": {},
   "source": [
    "write() and writelines() are used to write string to the files."
   ]
  },
  {
   "cell_type": "code",
   "execution_count": 144,
   "id": "bf99dc72-815b-45cd-a4bd-37e5ea189c3c",
   "metadata": {},
   "outputs": [],
   "source": [
    "with open('text6.txt', 'w') as f6:\n",
    "    f6.write(\"It can take multiple lines even with if the line changes.\\n Now a new line starts\")"
   ]
  },
  {
   "cell_type": "code",
   "execution_count": 145,
   "id": "c060b338-5d03-4bce-aaa6-9bd52808b00a",
   "metadata": {},
   "outputs": [
    {
     "name": "stdout",
     "output_type": "stream",
     "text": [
      "It can take multiple lines even with if the line changes.\n",
      " Now a new line starts\n"
     ]
    }
   ],
   "source": [
    "with open('text6.txt','r') as f6:\n",
    "    print(f6.read())\n",
    "    "
   ]
  },
  {
   "cell_type": "code",
   "execution_count": 146,
   "id": "4f8cae59-17d6-44fd-af27-d9044711cac4",
   "metadata": {},
   "outputs": [],
   "source": [
    "with open('text7.txt', 'w') as f7:\n",
    "    text = [\"Hello world, random lines here,\"]\n",
    "    text2 = [\"This is the second argument\"]\n",
    "    f7.writelines(text)\n",
    "    f7.writelines(text2)"
   ]
  },
  {
   "cell_type": "code",
   "execution_count": 140,
   "id": "34229a84-dd6b-4a89-8e81-37765f1b53bc",
   "metadata": {},
   "outputs": [
    {
     "name": "stdout",
     "output_type": "stream",
     "text": [
      "Hello world, random lines here,This is the second argument\n"
     ]
    }
   ],
   "source": [
    "with open('text7.txt', 'r') as f7:\n",
    "    print(f7.read())"
   ]
  },
  {
   "cell_type": "markdown",
   "id": "a4ecd6ee-d1b6-4c4f-b508-4949564498cf",
   "metadata": {},
   "source": [
    "- write() --> takes one argument which the string"
   ]
  },
  {
   "cell_type": "markdown",
   "id": "4dc8e837-8574-4c0d-bdb5-981f0331ce38",
   "metadata": {},
   "source": [
    "- writelines() --> takes one argument int the form of list of string and add it one by one."
   ]
  },
  {
   "cell_type": "markdown",
   "id": "6ec3ec64-f5a1-496c-ab01-8a078c47cd2e",
   "metadata": {},
   "source": [
    "# END"
   ]
  }
 ],
 "metadata": {
  "kernelspec": {
   "display_name": "Python 3 (ipykernel)",
   "language": "python",
   "name": "python3"
  },
  "language_info": {
   "codemirror_mode": {
    "name": "ipython",
    "version": 3
   },
   "file_extension": ".py",
   "mimetype": "text/x-python",
   "name": "python",
   "nbconvert_exporter": "python",
   "pygments_lexer": "ipython3",
   "version": "3.10.8"
  }
 },
 "nbformat": 4,
 "nbformat_minor": 5
}
