{
 "cells": [
  {
   "cell_type": "markdown",
   "metadata": {},
   "source": [
    "## Question 1"
   ]
  },
  {
   "attachments": {},
   "cell_type": "markdown",
   "metadata": {},
   "source": [
    "Statistic is the science of collecting, organizing and analyzing of data."
   ]
  },
  {
   "attachments": {},
   "cell_type": "markdown",
   "metadata": {},
   "source": [
    "## Question 2"
   ]
  },
  {
   "attachments": {},
   "cell_type": "markdown",
   "metadata": {},
   "source": [
    "There are two types of statistics :-\n",
    "1) Descriptive Statistics ---> consists of organizing and summarizing data.\n",
    " - Eg Measure of central tendency , measure of dispersion etc.\n",
    "2) Inferential Statistics ---> Consists of using collected data to form conclusion.\n",
    " - Eg Z test, t test, CMI square etc\n",
    "\n",
    "For example you collected data of and found average salary raise of employees in a perticular department ---> this is called descriptive statistics but if we use this data to form a conclusion about the average salary raise of the emoployee of whole company then this will be called inferential statistics."
   ]
  },
  {
   "attachments": {},
   "cell_type": "markdown",
   "metadata": {},
   "source": [
    "## Question 3"
   ]
  },
  {
   "attachments": {},
   "cell_type": "markdown",
   "metadata": {},
   "source": [
    "Data is of two types \n",
    "1) Quantitative (numerical)\n",
    "2) Qualitative (Categorical data)\n",
    "\n",
    "##### Quantitative data:-\n",
    " - It is either discrete (whole number) for example no. of bank accounts or contineous(any value) for example weight, height etc.\n",
    "\n",
    "##### Qualitative data:-\n",
    " - It is either Nominal i.e it does not follow any ranking for example Gender, Blood group or Ordinal in which ranking is significant for example customer feedback etc."
   ]
  },
  {
   "attachments": {},
   "cell_type": "markdown",
   "metadata": {},
   "source": [
    "## Question 4"
   ]
  },
  {
   "attachments": {},
   "cell_type": "markdown",
   "metadata": {},
   "source": [
    "(i) Qualitative (Ordinal) <br>\n",
    "(ii) Qualitative (Nominal) <br>\n",
    "(iii) Quantitative (Continous) <br>\n",
    "(iv) Quantitative (Discrete) <br>"
   ]
  },
  {
   "attachments": {},
   "cell_type": "markdown",
   "metadata": {},
   "source": [
    "## Question 5"
   ]
  },
  {
   "cell_type": "markdown",
   "metadata": {},
   "source": []
  }
 ],
 "metadata": {
  "language_info": {
   "name": "python"
  },
  "orig_nbformat": 4
 },
 "nbformat": 4,
 "nbformat_minor": 2
}
