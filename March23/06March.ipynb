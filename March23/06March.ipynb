{
 "cells": [
  {
   "attachments": {},
   "cell_type": "markdown",
   "metadata": {},
   "source": [
    "## Question 1"
   ]
  },
  {
   "attachments": {},
   "cell_type": "markdown",
   "metadata": {},
   "source": [
    "Statistic is the science of collecting, organizing and analyzing of data."
   ]
  },
  {
   "attachments": {},
   "cell_type": "markdown",
   "metadata": {},
   "source": [
    "## Question 2"
   ]
  },
  {
   "attachments": {},
   "cell_type": "markdown",
   "metadata": {},
   "source": [
    "There are two types of statistics :-\n",
    "1) Descriptive Statistics ---> consists of organizing and summarizing data.\n",
    " - Eg Measure of central tendency , measure of dispersion etc.\n",
    "2) Inferential Statistics ---> Consists of using collected data to form conclusion.\n",
    " - Eg Z test, t test, CMI square etc\n",
    "\n",
    "For example you collected data of and found average salary raise of employees in a perticular department ---> this is called descriptive statistics but if we use this data to form a conclusion about the average salary raise of the emoployee of whole company then this will be called inferential statistics."
   ]
  },
  {
   "attachments": {},
   "cell_type": "markdown",
   "metadata": {},
   "source": [
    "## Question 3"
   ]
  },
  {
   "attachments": {},
   "cell_type": "markdown",
   "metadata": {},
   "source": [
    "Data is of two types \n",
    "1) Quantitative (numerical)\n",
    "2) Qualitative (Categorical data)\n",
    "\n",
    "##### Quantitative data:-\n",
    " - It is either discrete (whole number) for example no. of bank accounts or contineous(any value) for example weight, height etc.\n",
    "\n",
    "##### Qualitative data:-\n",
    " - It is either Nominal i.e it does not follow any ranking for example Gender, Blood group or Ordinal in which ranking is significant for example customer feedback etc."
   ]
  },
  {
   "attachments": {},
   "cell_type": "markdown",
   "metadata": {},
   "source": [
    "## Question 4"
   ]
  },
  {
   "attachments": {},
   "cell_type": "markdown",
   "metadata": {},
   "source": [
    "(i) Qualitative (Ordinal) <br>\n",
    "(ii) Qualitative (Nominal) <br>\n",
    "(iii) Quantitative (Continous) <br>\n",
    "(iv) Quantitative (Discrete) <br>"
   ]
  },
  {
   "attachments": {},
   "cell_type": "markdown",
   "metadata": {},
   "source": [
    "## Question 5"
   ]
  },
  {
   "attachments": {},
   "cell_type": "markdown",
   "metadata": {},
   "source": [
    "There are 4 levels of measurements also known as scales of measurement."
   ]
  },
  {
   "attachments": {},
   "cell_type": "markdown",
   "metadata": {},
   "source": [
    "1) Normal Scale Data / Nominal Scale Data <br>\n",
    "- This is the lowest level of measurement.\n",
    "- They are unordered and cannot be ranked in any meaningful way\n",
    "- Basically they are qualitative and categorical data.\n",
    "- Eg. Gender (Male/Female)\n",
    "- Eg. Colours , Labels etc."
   ]
  },
  {
   "attachments": {},
   "cell_type": "markdown",
   "metadata": {},
   "source": [
    "2) Ordinal Scale Data <br>\n",
    "- In this the data can be ranked or ordered \n",
    "- But in this scale of data the difference between the ranks cannot be measured.\n",
    "- For example the feedback of customer i.e good, bad, excellent. Now these terms are subjective to a perticular customer hence the difference between thses feedbacks cannot be calculated."
   ]
  },
  {
   "attachments": {},
   "cell_type": "markdown",
   "metadata": {},
   "source": [
    "3) Interval Scale Data\n",
    "- In this scale the level have categories that can be ranked and ordered and the differences between categories are equal. \n",
    "- In this ration cannot be measured.\n",
    "- In this scale of date there is no true zero point.\n",
    "- For example Temperature, Dates in calender."
   ]
  },
  {
   "attachments": {},
   "cell_type": "markdown",
   "metadata": {},
   "source": [
    "4) Ration Scale Data\n",
    "- It is the highest level of measurement and includes variables that have ccategories that can be ranked and ordered.\n",
    "- Here difference are measureable and ratio can also be calculated.\n",
    "- It contains zero starting point. \n",
    "- For example height, weight etc."
   ]
  },
  {
   "attachments": {},
   "cell_type": "markdown",
   "metadata": {},
   "source": [
    "# Question 6"
   ]
  },
  {
   "attachments": {},
   "cell_type": "markdown",
   "metadata": {},
   "source": [
    "Understanding the level of measurement is important when analyzing data because it determines the type of statistical analysis that can be performed on the data and the appropriate measures of central tendency and variability that can be calculated. Differenct levels of measurement require differenct types of statistical analysis and using the wrong types of analysis can lead to incorrect conclusion and interpretations of the data."
   ]
  },
  {
   "attachments": {},
   "cell_type": "markdown",
   "metadata": {},
   "source": [
    "For example consider height of student. <br>\n",
    "- For nominal level the students can be classified into categories based on their heights such as tall, medium, short.\n",
    "- For ordinal level the students can be ranked based on their height such as 1st 2nd, or 3rd tallest etc.\n",
    "- For Interval level the heights of the student can be measured on a scale with equal intervals such as in inches or cm.\n",
    "- For Ratio level the heights of students can be measured on a scale with a true zero point such as in feet or meters.\n",
    "\n",
    "<br> \n",
    "\n",
    "Now for each of the above levels of measurement a person can use differenct type of statistical test over the data.<br> \n",
    "Hence the level of measurement in important."
   ]
  },
  {
   "attachments": {},
   "cell_type": "markdown",
   "metadata": {},
   "source": [
    "# Question 7"
   ]
  },
  {
   "attachments": {},
   "cell_type": "markdown",
   "metadata": {},
   "source": [
    "While both the nominal and ordinal level of scale is used to represent qualitative data. But in nominal scale data order doesn't matter but so is not true for the case of ordinal scale data here ranking is important."
   ]
  },
  {
   "attachments": {},
   "cell_type": "markdown",
   "metadata": {},
   "source": [
    "# Question 8"
   ]
  },
  {
   "attachments": {},
   "cell_type": "markdown",
   "metadata": {},
   "source": [
    "The box plot is a type of plot that can be used to display data in terms of range.\n",
    "A box plot displays the distribution of a set of data by showing the median, quartiles, and outliers. The box in the plot represents the middle 50% of the data, with median represneted by the horizontal line in the box. The whiskers extend from the box to show the range of the data, with any points outside the whiskers considered outliers."
   ]
  },
  {
   "attachments": {},
   "cell_type": "markdown",
   "metadata": {},
   "source": [
    "# Question 9"
   ]
  },
  {
   "attachments": {},
   "cell_type": "markdown",
   "metadata": {},
   "source": [
    "- Descriptive statistics and inferential statistics are two main braches of statistics used in data analysis.\n",
    "- Descriptive statistics summarizes and describes the characteristics of a given dataset. It uses mean, meadian and mode, standard deviation,variance.\n",
    "\n",
    "- Inferential statistics makes predictions and inferences about a larger population based on the analysis of a sample of that population. It consists of various tests like Z-test, t- test etc."
   ]
  },
  {
   "attachments": {},
   "cell_type": "markdown",
   "metadata": {},
   "source": [
    "# Question 10"
   ]
  },
  {
   "attachments": {},
   "cell_type": "markdown",
   "metadata": {},
   "source": [
    "The most commonly used measure of central tendency are mean, median, mode, range, variance, standard deviation.<br>\n",
    "\n",
    "- Mean: The mean provides an overall average of the data and is useful  for describing the caentral location of a dataset.\n",
    "- Median: It is the middle value in a dataset when the values are ordered from lowest to hightest. The median is a useful measure of central tendency when the data is skewed or has extreme outliers that can affect the mean.\n",
    "- Mode: It is the value that occurs most frequently in a dataset.\n",
    "- Range: It is the difference between the highest and lowest values in a dataset.\n",
    "- Variance: It is a measure of how much the values in a dataset vary from the mean.\n",
    "- Standard Deviation: It is the square root of the variance and provides a more interpretable measure of the spread of the data."
   ]
  },
  {
   "attachments": {},
   "cell_type": "markdown",
   "metadata": {},
   "source": [
    "# END"
   ]
  }
 ],
 "metadata": {
  "language_info": {
   "name": "python"
  },
  "orig_nbformat": 4
 },
 "nbformat": 4,
 "nbformat_minor": 2
}
