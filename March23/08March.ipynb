{
 "cells": [
  {
   "cell_type": "markdown",
   "metadata": {},
   "source": [
    "# Question 1"
   ]
  },
  {
   "cell_type": "markdown",
   "metadata": {},
   "source": [
    "A Probability Density Function (PDF) is a mathematical function used in probability theory and statistics to describe the probability distribution of a continuous random variable. It represents the likelihood of the variable falling within a specific range. The PDF is non-negative and its integral over the entire domain is equal to 1. It allows us to calculate probabilities for intervals, identify distribution characteristics, and perform statistical analyses on continuous data. Common examples of distributions described by PDFs include the normal, exponential, and uniform distributions."
   ]
  },
  {
   "cell_type": "markdown",
   "metadata": {},
   "source": [
    "# Question 2"
   ]
  },
  {
   "cell_type": "markdown",
   "metadata": {},
   "source": [
    "There are several types of probability distributions.\n",
    "\n",
    "- Discrete Probability Distribution: This type of distribution deals with discrete random variables, where the possible outcomes are countable and separate. Examples include the binomial distribution and the Poisson distribution.\n",
    "\n",
    "- Continuous Probability Distribution: These distributions are used for continuous random variables, where the possible outcomes form a continuous range. Examples include the normal (Gaussian) distribution and the exponential distribution.\n",
    "\n",
    "- Binomial Distribution: Models the number of successes in a fixed number of independent Bernoulli trials, where each trial has only two possible outcomes (success or failure).\n",
    "\n",
    "- Poisson Distribution: Used to model the number of events that occur within a fixed interval of time or space, given the average rate of occurrence.\n",
    "\n",
    "- Normal (Gaussian) Distribution: A symmetric bell-shaped curve that describes many natural phenomena and is widely used in statistical inference.\n",
    "\n",
    "- Exponential Distribution: Models the time between consecutive events in a Poisson process, where events occur continuously and independently at a constant average rate.\n",
    "\n",
    "- Uniform Distribution: Represents a constant probability for all values within a defined range, with a flat, rectangular-shaped probability density function."
   ]
  },
  {
   "cell_type": "markdown",
   "metadata": {},
   "source": [
    "# Question 3"
   ]
  },
  {
   "cell_type": "code",
   "execution_count": 2,
   "metadata": {},
   "outputs": [],
   "source": [
    "import math\n",
    "\n",
    "def normalPDF(x,mu,sigma):\n",
    "    if sigma<=0:\n",
    "        raise ValueError(\"Standard Deviation must be positive\")\n",
    "    \n",
    "    coeff = (1/(sigma* math.sqrt(2*math.pi)))\n",
    "    exponent = (-1/2)* (((x-mu)/sigma)**2)\n",
    "\n",
    "    res = coeff * math.exp(exponent)\n",
    "    return res\n"
   ]
  },
  {
   "cell_type": "code",
   "execution_count": 3,
   "metadata": {},
   "outputs": [
    {
     "name": "stdout",
     "output_type": "stream",
     "text": [
      "The answer is 0.3989422804014327\n"
     ]
    }
   ],
   "source": [
    "x = int(input(\"Value of x: \"))\n",
    "mu = int(input(\"Value of mu: \"))\n",
    "sigma = int(input(\"Value of sigma: \"))\n",
    "\n",
    "ans = normalPDF(x,mu,sigma)\n",
    "\n",
    "print(\"The answer is {}\".format(ans))"
   ]
  },
  {
   "cell_type": "markdown",
   "metadata": {},
   "source": [
    "# Question 4"
   ]
  },
  {
   "cell_type": "markdown",
   "metadata": {},
   "source": [
    "The properties of the Binomial distribution are as follows:\n",
    "\n",
    "<ol>\n",
    "<li>Fixed Number of Trials: The Binomial distribution models a discrete random variable representing the number of successes in a fixed number of independent Bernoulli trials.\n",
    "\n",
    "<li>Independent Trials: Each trial is independent of the others, meaning the outcome of one trial does not influence the outcome of another.\n",
    "\n",
    "<li>Two Possible Outcomes: Each trial has only two possible outcomes: success (usually denoted by \"S\") or failure (usually denoted by \"F\").\n",
    "\n",
    "<li>Constant Probability: The probability of success (denoted by \"p\") remains constant for each trial, and the probability of failure is complementary (1 - p).\n",
    "\n",
    "<li>Discrete Outcomes: The random variable representing the number of successes takes on discrete integer values from 0 to the total number of trials.\n",
    "\n",
    "</ol>\n",
    "\n",
    "\n",
    "<ol>\n",
    "Examples of events where the Binomial distribution can be applied:\n",
    "\n",
    "<li>Coin Tosses: Consider flipping a fair coin multiple times and counting the number of heads (successes) obtained in a fixed number of flips. Each flip is independent, with two possible outcomes (heads or tails) and a constant probability of success (0.5 for a fair coin).\n",
    "\n",
    "<li>Quality Control: In manufacturing, you may be interested in the number of defective products produced in a batch of a fixed size. Each item's production is independent, and it is either defective (success) or non-defective (failure) with a constant probability of being defective. The Binomial distribution can be used to model the number of defective items in the batch.\n",
    "</ol>"
   ]
  },
  {
   "cell_type": "markdown",
   "metadata": {},
   "source": [
    "# Question 5"
   ]
  },
  {
   "cell_type": "code",
   "execution_count": 2,
   "metadata": {},
   "outputs": [
    {
     "data": {
      "image/png": "[encoded data removed]",
      "text/plain": [
       "<Figure size 640x480 with 1 Axes>"
      ]
     },
     "metadata": {},
     "output_type": "display_data"
    }
   ],
   "source": [
    "import numpy as np\n",
    "import matplotlib.pyplot as plt\n",
    "\n",
    "p = 0.4\n",
    "n = 1000\n",
    "\n",
    "randomSample = np.random.binomial(1,p,size = n)\n",
    "\n",
    "plt.hist(randomSample, bins=[0,1,2], align='left',rwidth=0.8, alpha = 0.8)\n",
    "plt.xticks([0,1], ['Failure', 'Success'])\n",
    "plt.xlabel('Outcome')\n",
    "plt.ylabel('Frequency')\n",
    "plt.title(f'Histogram of {n} Samples from Binomial Distribution (p=0.4)')\n",
    "plt.grid(axis = 'y', linestyle= '--', alpha= 0.7)\n",
    "plt.show()"
   ]
  },
  {
   "cell_type": "markdown",
   "metadata": {},
   "source": [
    "# Question 6"
   ]
  },
  {
   "cell_type": "code",
   "execution_count": 1,
   "metadata": {},
   "outputs": [],
   "source": [
    "import math\n",
    "def poissonCDF(m,k):\n",
    "    if m <= 0 or k < 0:\n",
    "        raise ValueError(\"Mean and k must be non negative\")\n",
    "    \n",
    "\n",
    "    cdf = 0\n",
    "    for i in range(k+1):\n",
    "        cdf+= (math.exp(-m) * m**i)/math.factorial(i)\n",
    "\n",
    "    return cdf"
   ]
  },
  {
   "cell_type": "markdown",
   "metadata": {},
   "source": [
    "# Question 7"
   ]
  },
  {
   "cell_type": "markdown",
   "metadata": {},
   "source": [
    "The binomial distribution models the number of successes in a fixed number of trials with constant probability, while the Poisson distribution models are rare event occurrences over continuous time or space with a known average rate."
   ]
  },
  {
   "cell_type": "markdown",
   "metadata": {},
   "source": [
    "# Question 8"
   ]
  },
  {
   "cell_type": "code",
   "execution_count": 2,
   "metadata": {},
   "outputs": [
    {
     "name": "stdout",
     "output_type": "stream",
     "text": [
      "Sample Mean:  4.967\n",
      "Sample Variance:  4.915911\n"
     ]
    }
   ],
   "source": [
    "import numpy as np\n",
    "\n",
    "sampleSize = 1000\n",
    "mean = 5\n",
    "randomSample = np.random.poisson(mean, sampleSize)\n",
    "\n",
    "sampleMean = np.mean(randomSample)\n",
    "sampleVariance = np.var(randomSample)\n",
    "\n",
    "print(\"Sample Mean: \", sampleMean)\n",
    "print(\"Sample Variance: \", sampleVariance)"
   ]
  },
  {
   "cell_type": "markdown",
   "metadata": {},
   "source": [
    "# Question 9"
   ]
  },
  {
   "cell_type": "markdown",
   "metadata": {},
   "source": [
    "In Binomial Distribution \n",
    "mean = n.p where n in the no. of trials and p in the probability of success\n",
    "var = n.p(1-p)\n",
    "\n",
    "In Poisson Distribution \n",
    "mean = average rate of occurrence = var"
   ]
  },
  {
   "cell_type": "markdown",
   "metadata": {},
   "source": [
    "# Question 10"
   ]
  },
  {
   "cell_type": "markdown",
   "metadata": {},
   "source": [
    "As the data is symmetric around the mean in Normal / Gaussian distribution this implies that the least frequent data points appear in the tails of the distribution, i.e farthest away from the mean."
   ]
  }
 ],
 "metadata": {
  "kernelspec": {
   "display_name": "Python 3",
   "language": "python",
   "name": "python3"
  },
  "language_info": {
   "codemirror_mode": {
    "name": "ipython",
    "version": 3
   },
   "file_extension": ".py",
   "mimetype": "text/x-python",
   "name": "python",
   "nbconvert_exporter": "python",
   "pygments_lexer": "ipython3",
   "version": "3.11.0"
  },
  "orig_nbformat": 4
 },
 "nbformat": 4,
 "nbformat_minor": 2
}
