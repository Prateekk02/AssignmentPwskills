{
 "cells": [
  {
   "attachments": {},
   "cell_type": "markdown",
   "metadata": {},
   "source": [
    "# Question 1"
   ]
  },
  {
   "attachments": {},
   "cell_type": "markdown",
   "metadata": {},
   "source": [
    "The three measure of central tendency are as follows:-"
   ]
  },
  {
   "attachments": {},
   "cell_type": "markdown",
   "metadata": {},
   "source": [
    "1) Mean: It represents the average value of the data and is influenced by extreme values.<br>\n",
    "2) Median: The median is the middle value in a sorted dataset. If the dataset has an odd number of values, the median is the middle number. If the dataset has an even no. of values then the median is the average of the two middle numbers. The median is less affected by extreme values than the mean.<br>\n",
    "3) Mode: The mode is the value or the values that occur most frequently in a dataset. Unlike themean and median, the mode is not concerened with numerical values but rather with identifying the most common value(s). A dataset can have one mode(unimode), two modes(bimodal), or more than two modes(multimodal), or it can have no mode if no value repeats."
   ]
  },
  {
   "attachments": {},
   "cell_type": "markdown",
   "metadata": {},
   "source": []
  },
  {
   "attachments": {},
   "cell_type": "markdown",
   "metadata": {},
   "source": [
    "# Question 2"
   ]
  },
  {
   "attachments": {},
   "cell_type": "markdown",
   "metadata": {},
   "source": [
    "The mean, median, and mode are three different measure of central tendency used to describe the average or typical value of a dataset."
   ]
  },
  {
   "attachments": {},
   "cell_type": "markdown",
   "metadata": {},
   "source": [
    "1) Mean:<br>\n",
    "- The mean is calculated by summing all the values in a dataset and dividing the sum by the total number of values.\n",
    "- It represents the arithmetic average of the dataset.\n",
    "The mean is sensitive to extreme values, as even a single outlier can significantly affect its value.\n",
    "- It is commonly used when the data is normally distributed or follows a symmetrical pattern.<br>\n",
    "\n",
    "2) Media: <br>\n",
    "- The median is the middle value in a sorted dataset. If the dataset has an odd number of values, the median is the middle number. If the dataset has an even number of values, the median is the average of the two middle numbers.\n",
    "- The median is not influenced by extreme values and is more robust than the mean in the presence of outliers.\n",
    "- It is especially useful when the data contains outliers or when the distribution is skewed.\n",
    "- The median divides the dataset into two equal halves, indicating that 50% of the values are below it and 50% are above it.\n",
    "<br>\n",
    "3) Mode:<br>\n",
    "- The mode is the value or values that occur most frequently in dataset.\n",
    "- Unlike the mean and median, the mode is not concerned with numerical values but rather with identifying the most common value(s).\n",
    "- The mode is useful for identifying the central tendency when dealing with categorical or discrete data.\n",
    "- It can be helpful in identifying themost typical category or value in a dataset."
   ]
  },
  {
   "attachments": {},
   "cell_type": "markdown",
   "metadata": {},
   "source": [
    "# Question 3"
   ]
  },
  {
   "cell_type": "markdown",
   "metadata": {},
   "source": [
    "Given data:\n",
    "[178,177,176,177,178.2,178,175,179,180,175,178.9,176.2,177,172.5,178,176.5]"
   ]
  },
  {
   "cell_type": "code",
   "execution_count": 1,
   "metadata": {},
   "outputs": [
    {
     "data": {
      "text/plain": [
       "177.01875"
      ]
     },
     "execution_count": 1,
     "metadata": {},
     "output_type": "execute_result"
    }
   ],
   "source": [
    "data = [178,177,176,177,178.2,178,175,179,180,175,178.9,176.2,177,172.5,178,176.5]\n",
    "# Mean\n",
    "\n",
    "import numpy as np\n",
    "np.mean(data)"
   ]
  },
  {
   "cell_type": "code",
   "execution_count": 2,
   "metadata": {},
   "outputs": [
    {
     "data": {
      "text/plain": [
       "177.0"
      ]
     },
     "execution_count": 2,
     "metadata": {},
     "output_type": "execute_result"
    }
   ],
   "source": [
    "np.median(data)"
   ]
  },
  {
   "cell_type": "code",
   "execution_count": 9,
   "metadata": {},
   "outputs": [
    {
     "name": "stderr",
     "output_type": "stream",
     "text": [
      "C:\\Users\\Prateek Kumar\\AppData\\Local\\Temp\\ipykernel_29188\\320392506.py:2: FutureWarning: Unlike other reduction functions (e.g. `skew`, `kurtosis`), the default behavior of `mode` typically preserves the axis it acts along. In SciPy 1.11.0, this behavior will change: the default value of `keepdims` will become False, the `axis` over which the statistic is taken will be eliminated, and the value None will no longer be accepted. Set `keepdims` to True or False to avoid this warning.\n",
      "  stats.mode(data)\n"
     ]
    },
    {
     "data": {
      "text/plain": [
       "ModeResult(mode=array([177.]), count=array([3]))"
      ]
     },
     "execution_count": 9,
     "metadata": {},
     "output_type": "execute_result"
    }
   ],
   "source": [
    "from scipy import stats\n",
    "stats.mode(data)"
   ]
  },
  {
   "cell_type": "markdown",
   "metadata": {},
   "source": [
    "# Question 4"
   ]
  },
  {
   "cell_type": "markdown",
   "metadata": {},
   "source": [
    "Given Data:\n",
    "[178,177,176,177,178.2,178,175,179,180,175,178.9,176.2,177,172.5,178,176.5]"
   ]
  },
  {
   "cell_type": "code",
   "execution_count": 10,
   "metadata": {},
   "outputs": [
    {
     "data": {
      "text/plain": [
       "1.7885814036548633"
      ]
     },
     "execution_count": 10,
     "metadata": {},
     "output_type": "execute_result"
    }
   ],
   "source": [
    "data1 = [178,177,176,177,178.2,178,175,179,180,175,178.9,176.2,177,172.5,178,176.5]\n",
    "\n",
    "np.std(data1)"
   ]
  },
  {
   "cell_type": "markdown",
   "metadata": {},
   "source": [
    "# Question 5"
   ]
  },
  {
   "cell_type": "markdown",
   "metadata": {},
   "source": [
    "Measures of dispersion, such as range, variance, and standard deviation, are used to describe the spread or variability of a dataset. They provide information about how the data points are distributed around the central tendency (mean or median) and help to understand the extent to which the values deviate from the average.\n",
    "\n",
    "- Range:\n",
    "The range is the simplest measure of dispersion and is calculated as the difference between the maximum and minimum values in the dataset. It represents the total span of the data."
   ]
  },
  {
   "cell_type": "code",
   "execution_count": 13,
   "metadata": {},
   "outputs": [
    {
     "name": "stdout",
     "output_type": "stream",
     "text": [
      "35\n"
     ]
    }
   ],
   "source": [
    "import numpy as np\n",
    "def rangeOfList1(list1):\n",
    "    if not list1:\n",
    "        return None\n",
    "    \n",
    "    dataArray = np.array(list1)\n",
    "    dataRange = np.max(dataArray) - np.min(dataArray)\n",
    "    return dataRange\n",
    "\n",
    "\n",
    "list1 = [75, 80, 85, 65, 90, 70, 95, 60, 78, 88]\n",
    "print(rangeOfList1(list1))"
   ]
  },
  {
   "cell_type": "markdown",
   "metadata": {},
   "source": [
    "- Variance:\n",
    "Variance measures how much the data points deviate from themean. It is calculated by taking the averageof the squared differences between each data point and the mean of the dataset."
   ]
  },
  {
   "cell_type": "code",
   "execution_count": 14,
   "metadata": {},
   "outputs": [
    {
     "data": {
      "text/plain": [
       "114.84"
      ]
     },
     "execution_count": 14,
     "metadata": {},
     "output_type": "execute_result"
    }
   ],
   "source": [
    "np.var(list1)"
   ]
  },
  {
   "cell_type": "markdown",
   "metadata": {},
   "source": [
    "- Standard Deviation:\n",
    "It is the square root of the variance. It provides a more interpretable measure of dispersion since it is in the same units as the original data."
   ]
  },
  {
   "cell_type": "code",
   "execution_count": 15,
   "metadata": {},
   "outputs": [
    {
     "data": {
      "text/plain": [
       "10.716342659695052"
      ]
     },
     "execution_count": 15,
     "metadata": {},
     "output_type": "execute_result"
    }
   ],
   "source": [
    "np.std(list1)"
   ]
  },
  {
   "cell_type": "markdown",
   "metadata": {},
   "source": [
    "# Question 6"
   ]
  },
  {
   "cell_type": "markdown",
   "metadata": {},
   "source": [
    "A Venn diagram is a graphical representation showing relationships between sets. Each circle represents a different set, and overlaps indicate shared elements. Non-overlapping regions show unique elements in each set. They are used in math, logic, and data analysis to visualize set operations and intersections."
   ]
  },
  {
   "cell_type": "markdown",
   "metadata": {},
   "source": [
    "# Question 7"
   ]
  },
  {
   "cell_type": "code",
   "execution_count": 20,
   "metadata": {},
   "outputs": [
    {
     "name": "stdout",
     "output_type": "stream",
     "text": [
      "The Union of A and B:  {0, 2, 3, 4, 5, 6, 7, 8, 10}\n",
      "The intersection of A and B:  {2, 6}\n"
     ]
    }
   ],
   "source": [
    "A = {2,3,4,5,6,7}\n",
    "B = {0,2,6,8,10}\n",
    "\n",
    "unionSet = A.union(B)\n",
    "print(\"The Union of A and B: \", unionSet)\n",
    "\n",
    "intersectSet = A & B \n",
    "print(\"The intersection of A and B: \", intersectSet)\n",
    "\n"
   ]
  },
  {
   "cell_type": "markdown",
   "metadata": {},
   "source": [
    "# Question 8"
   ]
  },
  {
   "cell_type": "markdown",
   "metadata": {},
   "source": [
    "Skewness measures the asymmetry of data distribution. Positive skewness means the tail is on the right, negative skewness means the tail is on the left, and zero skewness indicates a symmetrical distribution. It helps understand the shape of data and influences data analysis choices."
   ]
  },
  {
   "cell_type": "markdown",
   "metadata": {},
   "source": [
    "# Question 9"
   ]
  },
  {
   "cell_type": "markdown",
   "metadata": {},
   "source": [
    "If the data is right-skewed, then the mean > median"
   ]
  },
  {
   "cell_type": "markdown",
   "metadata": {},
   "source": [
    "# Question 10"
   ]
  },
  {
   "cell_type": "markdown",
   "metadata": {},
   "source": [
    "Covariance and correlation are both measures used in statistics to quantify the relationship between two variables in a dataset. However, they have some key differences in terms of interpretation and scale.\n",
    "\n",
    "- Covariance:\n",
    "Covariance measures the degree to which two variables change together. It indicates the direction of the relationship (positive or negative) and whether the variables tend to increase or decrease together. A positive covariance means that when one variable increases, the other tends to increase as well. A negative covariance means that when one variable increases, the other tends to decrease. A covariance of zero means there is no linear relationship between the variables.\n",
    "\n",
    "- Correlation:\n",
    "Correlation is a standardized measure of the linear relationship between two variables. It not only shows the direction of the relationship (positive or negative) but also the strength of the relationship, which is always between -1 and 1. A correlation of +1 indicates a perfect positive linear relationship, -1 indicates a perfect negative linear relationship, and 0 indicates no linear relationship."
   ]
  },
  {
   "cell_type": "markdown",
   "metadata": {},
   "source": [
    "# Question 11"
   ]
  },
  {
   "cell_type": "markdown",
   "metadata": {},
   "source": [
    "Formula to calculate sample mean is \n",
    "\n",
    "sample mean = (x0 + x1 + x2 + x3 + ......+ xn) / n\n",
    "\n",
    "where n is the size of sample.\n"
   ]
  },
  {
   "cell_type": "code",
   "execution_count": 23,
   "metadata": {},
   "outputs": [
    {
     "name": "stdout",
     "output_type": "stream",
     "text": [
      "[75, 80, 85, 65, 90, 70, 95, 60, 78, 88]\n"
     ]
    },
    {
     "data": {
      "text/plain": [
       "78.6"
      ]
     },
     "execution_count": 23,
     "metadata": {},
     "output_type": "execute_result"
    }
   ],
   "source": [
    "print(list1)\n",
    "\n",
    "np.mean(list1)"
   ]
  },
  {
   "cell_type": "markdown",
   "metadata": {},
   "source": [
    "# Question 12"
   ]
  },
  {
   "cell_type": "markdown",
   "metadata": {},
   "source": [
    "For a normal distribution \n",
    "mean = median = mode"
   ]
  },
  {
   "cell_type": "markdown",
   "metadata": {},
   "source": [
    "# Question 13"
   ]
  },
  {
   "cell_type": "markdown",
   "metadata": {},
   "source": [
    "Covariance measures the degree of change of one random variable with respect to the other while as the correlation along with the change also measures the strength of the relationship."
   ]
  },
  {
   "cell_type": "markdown",
   "metadata": {},
   "source": [
    "# Question 14"
   ]
  },
  {
   "cell_type": "markdown",
   "metadata": {},
   "source": [
    "Outliers can strongly influence measures of central tendency and dispersion in a dataset. The mean is sensitive to extreme values and may be skewed by outliers, whereas the median is more robust. Outliers can inflate the variance and standard deviation, exaggerating the spread of data. The range can also be greatly affected by outliers. Identifying and handling outliers is crucial to ensure accurate and meaningful analysis."
   ]
  },
  {
   "cell_type": "markdown",
   "metadata": {},
   "source": [
    "# END"
   ]
  }
 ],
 "metadata": {
  "kernelspec": {
   "display_name": "Python 3",
   "language": "python",
   "name": "python3"
  },
  "language_info": {
   "codemirror_mode": {
    "name": "ipython",
    "version": 3
   },
   "file_extension": ".py",
   "mimetype": "text/x-python",
   "name": "python",
   "nbconvert_exporter": "python",
   "pygments_lexer": "ipython3",
   "version": "3.11.0"
  },
  "orig_nbformat": 4
 },
 "nbformat": 4,
 "nbformat_minor": 2
}
